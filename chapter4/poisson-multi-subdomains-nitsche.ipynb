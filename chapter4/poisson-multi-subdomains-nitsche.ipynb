{
 "cells": [
  {
   "cell_type": "markdown",
   "id": "cd976573",
   "metadata": {},
   "source": [
    "# The Poisson problem using Nitsche method on multiple subdomains\n",
    "\n",
    "We consider a 2D domain $\\Omega$, that is subdivided into a grid of small squares, using the **meshgrid** function.\n",
    "Each subdomain has the form $(x_{i}, x_{i+1}) \\times (y_{j}, y_{j+1})$, where $x_1, ..., x_{n_x}$ and $y_1, ..., y_{n_y}$ are subdivisions in each axis.\n"
   ]
  },
  {
   "cell_type": "markdown",
   "id": "5b1e68da",
   "metadata": {},
   "source": [
    "## Formal Model"
   ]
  },
  {
   "cell_type": "code",
   "execution_count": null,
   "id": "2ae922ff",
   "metadata": {},
   "outputs": [],
   "source": [
    "from sympde.expr     import BilinearForm, LinearForm, integral, Norm\n",
    "from sympde.expr     import find, EssentialBC\n",
    "from sympde.topology import ScalarFunctionSpace, Square, Domain, element_of\n",
    "from sympde.calculus import grad, dot\n",
    "from sympde.calculus import jump, avg, minus, plus, Dn\n",
    "from sympde.core     import Constant\n",
    "from sympde.topology import meshgrid\n",
    "\n",
    "from sympy import pi, sin\n",
    "\n",
    "from psydac.api.discretization import discretize\n",
    "\n",
    "# ... create a domain as meshgrid of a square\n",
    "import numpy as np\n",
    "\n",
    "x1 = np.linspace(0., 1., 3)\n",
    "x2 = np.linspace(0., 1., 4)\n",
    "\n",
    "domain = meshgrid(x1, x2)\n",
    "# ...\n",
    "\n",
    "# one sided approximation of the normal ﬂux on the interface\n",
    "Dn_I = lambda u: 0.5*(plus(Dn(u)) + minus(Dn(u)))\n",
    "\n",
    "# internal interafaces of the domain\n",
    "I = domain.interfaces\n",
    "\n",
    "kappa = Constant('kappa', is_real=True)\n",
    "\n",
    "V = ScalarFunctionSpace('V', domain)\n",
    "\n",
    "x,y = domain.coordinates\n",
    "\n",
    "u,v = [element_of(V, name=i) for i in ['u', 'v']]\n",
    "\n",
    "# bilinear form\n",
    "a = BilinearForm((u,v),\n",
    "                   integral(domain, dot(grad(u),grad(v)))            \n",
    "                 + integral(I, kappa * jump(u)*jump(v) - Dn_I(u)*jump(v) - jump(u)*Dn_I(v))\n",
    "                )\n",
    "\n",
    "# linear form\n",
    "f = 2*pi**2*sin(pi*x)*sin(pi*y)\n",
    "l = LinearForm(v, integral(domain, f*v))\n",
    "\n",
    "# Dirichlet boundary conditions\n",
    "bc = [EssentialBC(u, 0, domain.boundary)]\n",
    "\n",
    "# Variational problem\n",
    "equation   = find(u, forall=v, lhs=a(u, v), rhs=l(v), bc=bc)"
   ]
  },
  {
   "cell_type": "markdown",
   "id": "48bafde7",
   "metadata": {},
   "source": [
    "## Discretization"
   ]
  },
  {
   "cell_type": "code",
   "execution_count": null,
   "id": "dba29398",
   "metadata": {},
   "outputs": [],
   "source": [
    "degree = [2,2]\n",
    "ncells = [8,8]"
   ]
  },
  {
   "cell_type": "code",
   "execution_count": null,
   "id": "4c341883",
   "metadata": {},
   "outputs": [],
   "source": [
    "# Create computational domain from topological domain\n",
    "domain_h = discretize(domain, ncells=ncells, comm=None)\n",
    "\n",
    "# Create discrete spline space\n",
    "Vh = discretize(V, domain_h, degree=degree)\n",
    "\n",
    "# Discretize equation\n",
    "equation_h = discretize(equation, domain_h, [Vh, Vh])"
   ]
  },
  {
   "cell_type": "markdown",
   "id": "75f6b2cf",
   "metadata": {},
   "source": [
    "## Solving the PDE"
   ]
  },
  {
   "cell_type": "code",
   "execution_count": null,
   "id": "b6ad348a",
   "metadata": {},
   "outputs": [],
   "source": [
    "equation_h.set_solver('gmres', info=False, tol=1e-8)"
   ]
  },
  {
   "cell_type": "code",
   "execution_count": null,
   "id": "11c1b23b",
   "metadata": {},
   "outputs": [],
   "source": [
    "uh = equation_h.solve(kappa=1e3)"
   ]
  },
  {
   "cell_type": "markdown",
   "id": "3d67feb3",
   "metadata": {},
   "source": [
    "## Computing the Error Norm"
   ]
  },
  {
   "cell_type": "markdown",
   "id": "50b4bf80",
   "metadata": {},
   "source": [
    "### Computing the $L^2$ norm"
   ]
  },
  {
   "cell_type": "code",
   "execution_count": null,
   "id": "e295fb37",
   "metadata": {},
   "outputs": [],
   "source": [
    "ue = sin(pi*x)*sin(pi*y)\n",
    "\n",
    "u = element_of(V, name='u')\n",
    "\n",
    "# create the formal Norm object\n",
    "l2norm = Norm(u - ue, domain, kind='l2')\n",
    "\n",
    "# discretize the norm\n",
    "l2norm_h = discretize(l2norm, domain_h, Vh)\n",
    "\n",
    "# assemble the norm\n",
    "l2_error = l2norm_h.assemble(u=uh)\n",
    "\n",
    "# print the result\n",
    "print(l2_error)"
   ]
  }
 ],
 "metadata": {},
 "nbformat": 4,
 "nbformat_minor": 5
}
