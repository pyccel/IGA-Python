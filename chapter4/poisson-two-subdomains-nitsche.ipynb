{
 "cells": [
  {
   "cell_type": "markdown",
   "id": "cd976573",
   "metadata": {},
   "source": [
    "# The Poisson problem using Nitsche method on two subdomains\n",
    "\n",
    "We consider a domain $\\Omega = \\Omega_1 \\bigcup \\Omega_2 = (0,1)^2$, where $\\Omega_1 = (0,\\frac{1}{2}) \\times (0,1)$ and $\\Omega_2 = (\\frac{1}{2}, 1) \\times (0,1)$\n",
    "\n",
    "\n",
    "We revisit the Poisson equation using the Nitsche method for two subdomains.\n",
    "\n",
    "$$\n",
    "\\begin{align}\n",
    "  - \\nabla^2 u = f \\quad \\text{in $\\Omega$}, \\quad \\quad \n",
    "  u = 0            \\quad \\text{on $\\partial \\Omega$}, \\quad \\quad \n",
    "   [\\![ u ]\\!] = 0 \\quad \\text{on $\\mathcal{I}$}, \\quad \\quad\n",
    "   [\\![\\partial_n u ]\\!] = 0 \\quad \\text{on $\\mathcal{I}$}.\n",
    "\\end{align}\n",
    "$$\n",
    "\n",
    "## Variational Formulation\n",
    "\n",
    "The variational formulation reads\n",
    "\n",
    "$$\n",
    "\\begin{align}\n",
    "  \\text{find $u \\in V$ such that} \\quad a(u,v) = l(v) \\quad \\forall v \\in V,\n",
    "\\end{align}\n",
    "$$\n",
    "\n",
    "where \n",
    "\n",
    "- $V \\subset H^1(\\Omega)$, \n",
    "- $a(u,v) := \\int_{\\Omega} \\nabla u \\cdot \\nabla v ~ d\\Omega + \\int_{\\mathcal{I}} \\left( \\kappa [\\![ u ]\\!] ~ [\\![ v ]\\!] - [\\![ u ]\\!] ~ \\partial_n v - \\partial_n u ~ [\\![ v ]\\!] \\right) ~ d\\mathcal{I} $, \n",
    "- $l(v) := \\int_{\\Omega} f v ~ d\\Omega$.\n"
   ]
  },
  {
   "cell_type": "markdown",
   "id": "5b1e68da",
   "metadata": {},
   "source": [
    "## Formal Model"
   ]
  },
  {
   "cell_type": "code",
   "execution_count": null,
   "id": "2ae922ff",
   "metadata": {},
   "outputs": [],
   "source": [
    "from sympde.expr     import BilinearForm, LinearForm, integral, Norm\n",
    "from sympde.expr     import find, EssentialBC\n",
    "from sympde.topology import ScalarFunctionSpace, Square, Domain, element_of\n",
    "from sympde.calculus import grad, dot\n",
    "from sympde.calculus import jump, avg, minus, plus, Dn\n",
    "from sympde.core     import Constant\n",
    "from sympde.topology import NormalVector\n",
    "\n",
    "from sympy import pi, sin\n",
    "\n",
    "from psydac.api.discretization import discretize\n",
    "\n",
    "# ... create a domain as the union of two subdomains\n",
    "A = Square('A',bounds1=(0, 0.5), bounds2=(0, 1))\n",
    "B = Square('B',bounds1=(0.5, 1.), bounds2=(0, 1))\n",
    "\n",
    "connectivity = [((0,0,1),(1,0,-1))]\n",
    "subdomains = [A,B]\n",
    "domain = Domain.join(subdomains, connectivity, 'domain')\n",
    "# ...\n",
    "\n",
    "# one sided approximation of the normal ﬂux on the interface\n",
    "nn   = NormalVector('nn')\n",
    "#Dn_I = lambda u: 0.5*(dot(grad(minus(u)), nn) + dot(grad(plus(u)), nn))\n",
    "Dn_I = lambda u: 0.5*(plus(Dn(u)) + minus(Dn(u)))\n",
    "\n",
    "# internal interafaces of the domain\n",
    "I = domain.interfaces\n",
    "\n",
    "kappa = Constant('kappa', is_real=True)\n",
    "\n",
    "V = ScalarFunctionSpace('V', domain)\n",
    "\n",
    "x,y = domain.coordinates\n",
    "\n",
    "u,v = [element_of(V, name=i) for i in ['u', 'v']]\n",
    "\n",
    "# bilinear form\n",
    "a = BilinearForm((u,v),\n",
    "                   integral(domain, dot(grad(u),grad(v)))            \n",
    "                 + integral(I, kappa * jump(u)*jump(v) - Dn_I(u)*jump(v) - jump(u)*Dn_I(v))\n",
    "                )\n",
    "\n",
    "# linear form\n",
    "f = 2*pi**2*sin(pi*x)*sin(pi*y)\n",
    "l = LinearForm(v, integral(domain, f*v))\n",
    "\n",
    "# Dirichlet boundary conditions\n",
    "bc = [EssentialBC(u, 0, domain.boundary)]\n",
    "\n",
    "# Variational problem\n",
    "equation   = find(u, forall=v, lhs=a(u, v), rhs=l(v), bc=bc)"
   ]
  },
  {
   "cell_type": "markdown",
   "id": "48bafde7",
   "metadata": {},
   "source": [
    "## Discretization"
   ]
  },
  {
   "cell_type": "code",
   "execution_count": null,
   "id": "dba29398",
   "metadata": {},
   "outputs": [],
   "source": [
    "degree = [2,2]\n",
    "ncells = [8,8]"
   ]
  },
  {
   "cell_type": "code",
   "execution_count": null,
   "id": "4c341883",
   "metadata": {},
   "outputs": [],
   "source": [
    "# Create computational domain from topological domain\n",
    "domain_h = discretize(domain, ncells=ncells, comm=None)\n",
    "\n",
    "# Create discrete spline space\n",
    "Vh = discretize(V, domain_h, degree=degree)\n",
    "\n",
    "# Discretize equation\n",
    "equation_h = discretize(equation, domain_h, [Vh, Vh])"
   ]
  },
  {
   "cell_type": "markdown",
   "id": "75f6b2cf",
   "metadata": {},
   "source": [
    "## Solving the PDE"
   ]
  },
  {
   "cell_type": "code",
   "execution_count": null,
   "id": "b6ad348a",
   "metadata": {},
   "outputs": [],
   "source": [
    "equation_h.set_solver('gmres', info=False, tol=1e-8)"
   ]
  },
  {
   "cell_type": "code",
   "execution_count": null,
   "id": "11c1b23b",
   "metadata": {},
   "outputs": [],
   "source": [
    "uh = equation_h.solve(kappa=1e3)"
   ]
  },
  {
   "cell_type": "markdown",
   "id": "3d67feb3",
   "metadata": {},
   "source": [
    "## Computing the Error Norm"
   ]
  },
  {
   "cell_type": "markdown",
   "id": "50b4bf80",
   "metadata": {},
   "source": [
    "### Computing the $L^2$ norm"
   ]
  },
  {
   "cell_type": "code",
   "execution_count": null,
   "id": "e295fb37",
   "metadata": {},
   "outputs": [],
   "source": [
    "ue = sin(pi*x)*sin(pi*y)\n",
    "\n",
    "u = element_of(V, name='u')\n",
    "\n",
    "# create the formal Norm object\n",
    "l2norm = Norm(u - ue, domain, kind='l2')\n",
    "\n",
    "# discretize the norm\n",
    "l2norm_h = discretize(l2norm, domain_h, Vh)\n",
    "\n",
    "# assemble the norm\n",
    "l2_error = l2norm_h.assemble(u=uh)\n",
    "\n",
    "# print the result\n",
    "print(l2_error)"
   ]
  },
  {
   "cell_type": "markdown",
   "id": "4131a264",
   "metadata": {},
   "source": [
    "## Remarks\n",
    "\n",
    "There should be a problem in sympde, since computing the TerminalExpr of the bilinear form gives\n",
    "\n",
    "```python\n",
    ">>> from sympde.expr import TerminalExpr\n",
    ">>> expr = TerminalExpr(a, domain)\n",
    ">>> print(expr)\n",
    "\n",
    "(InterfaceExpression(A|B, \n",
    "                     -kappa*MinusInterfaceOperator(u)*PlusInterfaceOperator(v) \n",
    "                     + (0.5*dx1(MinusInterfaceOperator(u))*nn[0] + 0.5*dx2(MinusInterfaceOperator(u))*nn[1])*PlusInterfaceOperator(v) \n",
    "                     + (-0.5*dx1(PlusInterfaceOperator(v))*nn[0] - 0.5*dx2(PlusInterfaceOperator(v))*nn[1])*MinusInterfaceOperator(u)\n",
    "                    ), \n",
    " InterfaceExpression(A|B, \n",
    "                     -kappa*MinusInterfaceOperator(v)*PlusInterfaceOperator(u) \n",
    "                     + (0.5*dx1(MinusInterfaceOperator(v))*nn[0] + 0.5*dx2(MinusInterfaceOperator(v))*nn[1])*PlusInterfaceOperator(u) \n",
    "                     + (-0.5*dx1(PlusInterfaceOperator(u))*nn[0] - 0.5*dx2(PlusInterfaceOperator(u))*nn[1])*MinusInterfaceOperator(v)\n",
    "                    ), \n",
    " DomainExpression(A, \n",
    "                  dx1(u)*dx1(v) + dx2(u)*dx2(v)\n",
    "                 ), \n",
    " DomainExpression(B, \n",
    "                  dx1(u)*dx1(v) + dx2(u)*dx2(v)\n",
    "                 ), \n",
    " BoundaryExpression(A_\\Gamma_2, \n",
    "                    kappa*u*v \n",
    "                    + u*(-0.5*dx1(v)*nn[0] - 0.5*dx2(v)*nn[1]) \n",
    "                    + v*(-0.5*dx1(u)*nn[0] - 0.5*dx2(u)*nn[1])\n",
    "                   ), \n",
    " BoundaryExpression(B_\\Gamma_1, \n",
    "                    kappa*u*v \n",
    "                    + u*(-0.5*dx1(v)*nn[0] - 0.5*dx2(v)*nn[1]) \n",
    "                    + v*(-0.5*dx1(u)*nn[0] - 0.5*dx2(u)*nn[1])\n",
    "                   )\n",
    ")\n",
    "```\n",
    "\n",
    "The **BoundaryExpression** terms should not appear in the TerminalExpr."
   ]
  }
 ],
 "metadata": {},
 "nbformat": 4,
 "nbformat_minor": 5
}
