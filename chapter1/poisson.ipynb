{
 "cells": [
  {
   "cell_type": "markdown",
   "id": "9f28f9af",
   "metadata": {},
   "source": [
    "# Your first code using SymPDE & PsyDAC\n",
    "*Author: Ahmed Ratnani*\n",
    "\n",
    "We start by writing our first example using SymPDE.\n",
    "Let $\\Omega := (0,1)^2$. We consider the Poisson problem with homogeneous Dirichlet boundary conditions.  \n",
    "\n",
    "$$\n",
    "\\begin{align}\n",
    "  - \\nabla^2 u = f \\quad \\text{in $\\Omega$}, \\quad \\quad \n",
    "  u = 0            \\quad \\text{on $\\partial \\Omega$}. \n",
    "\\end{align}\n",
    "$$\n",
    "\n",
    "## Variational Formulation\n",
    "\n",
    "An $H^1$-conforming variational formulation of the previous problem reads\n",
    "\n",
    "$$\n",
    "\\begin{align}\n",
    "  \\text{find $u \\in V$ such that} \\quad a(u,v) = l(v) \\quad \\forall v \\in V,\n",
    "\\end{align}\n",
    "$$\n",
    "\n",
    "where \n",
    "\n",
    "- $V \\subset H^1_0(\\Omega)$, \n",
    "- $a(u,v) := \\int_{\\Omega} \\nabla u \\cdot \\nabla v ~ d\\Omega$, \n",
    "- $l(v) := \\int_{\\Omega} f v ~ d\\Omega$."
   ]
  },
  {
   "cell_type": "markdown",
   "id": "5a958607",
   "metadata": {},
   "source": [
    "## Formal Model"
   ]
  },
  {
   "cell_type": "code",
   "execution_count": null,
   "id": "d742586c",
   "metadata": {},
   "outputs": [],
   "source": [
    "from sympde.expr import BilinearForm, LinearForm, integral\n",
    "from sympde.expr     import find, EssentialBC, Norm, SemiNorm\n",
    "from sympde.topology import ScalarFunctionSpace, Square, element_of\n",
    "from sympde.calculus import grad, dot\n",
    "\n",
    "from sympy import pi, sin\n",
    "\n",
    "domain = Square()\n",
    "\n",
    "V = ScalarFunctionSpace('V', domain)\n",
    "\n",
    "x,y = domain.coordinates\n",
    "\n",
    "u,v = [element_of(V, name=i) for i in ['u', 'v']]\n",
    "\n",
    "# bilinear form\n",
    "a = BilinearForm((u,v), integral(domain , dot(grad(v), grad(u))))\n",
    "\n",
    "# linear form\n",
    "f = 2*pi**2*sin(pi*x)*sin(pi*y)\n",
    "l = LinearForm(v, integral(domain, f*v))\n",
    "\n",
    "# Dirichlet boundary conditions\n",
    "bc = [EssentialBC(u, 0, domain.boundary)]\n",
    "\n",
    "# Variational problem\n",
    "equation   = find(u, forall=v, lhs=a(u, v), rhs=l(v), bc=bc)"
   ]
  },
  {
   "cell_type": "markdown",
   "id": "62ac1fd4",
   "metadata": {},
   "source": [
    "\n",
    "This very simple Python code reflects well the abstract mathematical framework needed for variational formulations.\n",
    "The structure of the code is as follows,\n",
    "\n",
    "1. Create a domain.\n",
    "2. Create a space of *scalar* functions over the domain.\n",
    "3. Create elements from this function space. These elements will denote the test and trial functions.\n",
    "4. Create the Bilinear and Linear forms, $a$ and $l$ respectively.\n",
    "5. Create Essential Boundary Conditions.\n",
    "6. Create the variational problem.\n",
    "\n",
    "Most of the time, you will need to follow the same steps, with some minor variants depending on the problem you're considering."
   ]
  },
  {
   "cell_type": "markdown",
   "id": "4f983ece",
   "metadata": {},
   "source": [
    "## Discretization"
   ]
  },
  {
   "cell_type": "markdown",
   "id": "51095918",
   "metadata": {},
   "source": [
    "We shall need the **discretize** function from **PsyDAC**."
   ]
  },
  {
   "cell_type": "code",
   "execution_count": null,
   "id": "a2a0a2a1",
   "metadata": {},
   "outputs": [],
   "source": [
    "from psydac.api.discretization import discretize"
   ]
  },
  {
   "cell_type": "code",
   "execution_count": null,
   "id": "00e54163",
   "metadata": {},
   "outputs": [],
   "source": [
    "degree = [3,3]\n",
    "ncells = [16,16]"
   ]
  },
  {
   "cell_type": "code",
   "execution_count": null,
   "id": "5999c62b",
   "metadata": {},
   "outputs": [],
   "source": [
    "# Create computational domain from topological domain\n",
    "domain_h = discretize(domain, ncells=ncells, comm=None)\n",
    "\n",
    "# Create discrete spline space\n",
    "Vh = discretize(V, domain_h, degree=degree)\n",
    "\n",
    "# Discretize equation\n",
    "equation_h = discretize(equation, domain_h, [Vh, Vh])"
   ]
  },
  {
   "cell_type": "markdown",
   "id": "7b29fbcf",
   "metadata": {},
   "source": [
    "## Solving the PDE"
   ]
  },
  {
   "cell_type": "code",
   "execution_count": null,
   "id": "541192ee",
   "metadata": {},
   "outputs": [],
   "source": [
    "uh = equation_h.solve()"
   ]
  },
  {
   "cell_type": "markdown",
   "id": "5174c4b5",
   "metadata": {},
   "source": [
    "## Computing the error norm\n",
    "\n",
    "When the analytical solution is available, you might be interested in computing the $L^2$ norm or $H^1_0$ semi-norm.\n",
    "SymPDE allows you to do so, by creating the **Norm** object.\n",
    "In this example, the analytical solution is given by\n",
    "\n",
    "$$\n",
    "u_e = \\sin(\\pi x) \\sin(\\pi y)\n",
    "$$"
   ]
  },
  {
   "cell_type": "markdown",
   "id": "3a31c46f",
   "metadata": {},
   "source": [
    "### Computing the $L^2$ norm"
   ]
  },
  {
   "cell_type": "code",
   "execution_count": null,
   "id": "5925c6cd",
   "metadata": {},
   "outputs": [],
   "source": [
    "ue = sin(pi*x)*sin(pi*y)\n",
    "\n",
    "u = element_of(V, name='u')\n",
    "\n",
    "# create the formal Norm object\n",
    "l2norm = Norm(u - ue, domain, kind='l2')\n",
    "\n",
    "# discretize the norm\n",
    "l2norm_h = discretize(l2norm, domain_h, Vh)\n",
    "\n",
    "# assemble the norm\n",
    "l2_error = l2norm_h.assemble(u=uh)\n",
    "\n",
    "# print the result\n",
    "print(l2_error)"
   ]
  },
  {
   "cell_type": "markdown",
   "id": "a6cbfeae",
   "metadata": {},
   "source": [
    "### Computing the $H^1$ semi-norm"
   ]
  },
  {
   "cell_type": "code",
   "execution_count": null,
   "id": "e5c1a8b8",
   "metadata": {},
   "outputs": [],
   "source": [
    "# create the formal Norm object\n",
    "h1norm = SemiNorm(u - ue, domain, kind='h1')\n",
    "\n",
    "# discretize the norm\n",
    "h1norm_h = discretize(h1norm, domain_h, Vh)\n",
    "\n",
    "# assemble the norm\n",
    "h1_error = h1norm_h.assemble(u=uh)\n",
    "\n",
    "# print the result\n",
    "print(h1_error)"
   ]
  },
  {
   "cell_type": "markdown",
   "id": "3c09131c",
   "metadata": {},
   "source": [
    "### Computing the $H^1$ norm"
   ]
  },
  {
   "cell_type": "code",
   "execution_count": null,
   "id": "827c3e69-77ac-4312-a4dd-a1c26a40b27c",
   "metadata": {},
   "outputs": [],
   "source": [
    "# create the formal Norm object\n",
    "h1norm = Norm(u - ue, domain, kind='h1')\n",
    "\n",
    "# discretize the norm\n",
    "h1norm_h = discretize(h1norm, domain_h, Vh)\n",
    "\n",
    "# assemble the norm\n",
    "h1_error = h1norm_h.assemble(u=uh)\n",
    "\n",
    "# print the result\n",
    "print(h1_error)"
   ]
  },
  {
   "cell_type": "markdown",
   "id": "14d92a71-8c0f-4a91-8f56-c405f3fc76d1",
   "metadata": {},
   "source": [
    "### Visualization\n"
   ]
  },
  {
   "cell_type": "code",
   "execution_count": null,
   "id": "2a33eab4-f4b8-428d-ae35-2d086d5645c3",
   "metadata": {},
   "outputs": [],
   "source": [
    "import numpy as np\n",
    "import matplotlib.pyplot as plt\n",
    "from mpl_toolkits.axes_grid1 import make_axes_locatable\n",
    "from sympy import lambdify\n",
    "\n",
    "def refine_array_1d(breaks, N):\n",
    "    \"\"\"Refine a 1D array by inserting N points between each pair of original values.\"\"\"\n",
    "    refined = np.concatenate([np.linspace(breaks[i], breaks[i+1], N+1)[:-1] for i in range(len(breaks)-1)])\n",
    "    return np.append(refined, breaks[-1])  # Add the last point\n",
    "\n",
    "def plot_solutions(Vh, uh, phi_exact, N=10):\n",
    "    \"\"\"\n",
    "    Refine the grid, evaluate solutions, compute errors, and plot results.\n",
    "\n",
    "    Parameters:\n",
    "        Vh: The finite element space (must have `spaces` attribute with `breaks`).\n",
    "        uh: The numerical solution function.\n",
    "        phi_exact: The exact solution function (callable).\n",
    "        N: Number of points to insert between breaks (default: 10).\n",
    "    \"\"\"\n",
    "    # Generate refined grid for visualization\n",
    "    eta1 = refine_array_1d(Vh.spaces[0].breaks, N)\n",
    "    eta2 = refine_array_1d(Vh.spaces[1].breaks, N)\n",
    "\n",
    "    # Evaluate numerical solution on the refined grid\n",
    "    num = np.array([[uh(e1, e2) for e2 in eta2] for e1 in eta1])\n",
    "\n",
    "    # Compute exact solution\n",
    "    ex = np.array([[phi_exact(e1, e2) for e2 in eta2] for e1 in eta1])\n",
    "    err = num - ex\n",
    "\n",
    "    # Generate physical grid coordinates\n",
    "    xx, yy = np.meshgrid(eta1, eta2, indexing='ij')\n",
    "\n",
    "    # Create figure with 3 subplots\n",
    "    fig, axes = plt.subplots(1, 3, figsize=(12.8, 4.8))\n",
    "\n",
    "    def add_colorbar(im, ax):\n",
    "        \"\"\"Add a colorbar to the given axis.\"\"\"\n",
    "        divider = make_axes_locatable(ax)\n",
    "        cax = divider.append_axes(\"right\", size=0.2, pad=0.2)\n",
    "        cbar = ax.get_figure().colorbar(im, cax=cax)\n",
    "        return cbar\n",
    "\n",
    "    # Plot exact solution\n",
    "    ax = axes[0]\n",
    "    im = ax.contourf(xx, yy, ex, 40, cmap='jet')\n",
    "    add_colorbar(im, ax)\n",
    "    ax.set_xlabel(r'$x$', rotation='horizontal')\n",
    "    ax.set_ylabel(r'$y$', rotation='horizontal')\n",
    "    ax.set_title(r'$\\phi_{exact}(x,y)$')\n",
    "    ax.set_aspect('equal')\n",
    "\n",
    "    # Plot numerical solution\n",
    "    ax = axes[1]\n",
    "    im = ax.contourf(xx, yy, num, 40, cmap='jet')\n",
    "    add_colorbar(im, ax)\n",
    "    ax.set_xlabel(r'$x$', rotation='horizontal')\n",
    "    ax.set_ylabel(r'$y$', rotation='horizontal')\n",
    "    ax.set_title(r'$\\phi(x,y)$')\n",
    "    ax.set_aspect('equal')\n",
    "\n",
    "    # Plot numerical error\n",
    "    ax = axes[2]\n",
    "    im = ax.contourf(xx, yy, err, 40, cmap='jet')\n",
    "    add_colorbar(im, ax)\n",
    "    ax.set_xlabel(r'$x$', rotation='horizontal')\n",
    "    ax.set_ylabel(r'$y$', rotation='horizontal')\n",
    "    ax.set_title(r'$\\phi(x,y) - \\phi_{exact}(x,y)$')\n",
    "    ax.set_aspect('equal')\n",
    "\n",
    "    # Show figure\n",
    "    plt.tight_layout()\n",
    "    fig.show()\n",
    "\n",
    "# Define the exact solution as a symbolic expression (example: phi_exact = x^2 + y^2)\n",
    "ue = sin(np.pi*x)*sin(np.pi*y)\n",
    "\n",
    "# Convert the symbolic expression to a callable function using lambdify\n",
    "phi_exact = lambdify((x, y), ue, 'numpy')\n",
    "plot_solutions(Vh, uh, phi_exact, N=10)"
   ]
  }
 ],
 "metadata": {},
 "nbformat": 4,
 "nbformat_minor": 5
}
