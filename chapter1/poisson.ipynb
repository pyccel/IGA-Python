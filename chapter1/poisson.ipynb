{
 "cells": [
  {
   "cell_type": "markdown",
   "id": "9f28f9af",
   "metadata": {},
   "source": [
    "# Your first code using SymPDE & PsyDAC\n",
    "*Author: Ahmed Ratnani*\n",
    "\n",
    "We start by writing our first example using SymPDE.\n",
    "Let $\\Omega := (0,1)^2$. We consider the Poisson problem with homogeneous Dirichlet boundary conditions.  \n",
    "\n",
    "$$\n",
    "\\begin{align}\n",
    "  - \\nabla^2 u = f \\quad \\text{in $\\Omega$}, \\quad \\quad \n",
    "  u = 0            \\quad \\text{on $\\partial \\Omega$}. \n",
    "\\end{align}\n",
    "$$\n",
    "\n",
    "## Variational Formulation\n",
    "\n",
    "An $H^1$-conforming variational formulation of the previous problem reads\n",
    "\n",
    "$$\n",
    "\\begin{align}\n",
    "  \\text{find $u \\in V$ such that} \\quad a(u,v) = l(v) \\quad \\forall v \\in V,\n",
    "\\end{align}\n",
    "$$\n",
    "\n",
    "where \n",
    "\n",
    "- $V \\subset H^1_0(\\Omega)$, \n",
    "- $a(u,v) := \\int_{\\Omega} \\nabla u \\cdot \\nabla v ~ d\\Omega$, \n",
    "- $l(v) := \\int_{\\Omega} f v ~ d\\Omega$."
   ]
  },
  {
   "cell_type": "markdown",
   "id": "5a958607",
   "metadata": {},
   "source": [
    "## Formal Model"
   ]
  },
  {
   "cell_type": "code",
   "execution_count": null,
   "id": "d742586c",
   "metadata": {},
   "outputs": [],
   "source": [
    "from sympde.expr import BilinearForm, LinearForm, integral\n",
    "from sympde.expr     import find, EssentialBC, Norm, SemiNorm\n",
    "from sympde.topology import ScalarFunctionSpace, Square, element_of\n",
    "from sympde.calculus import grad, dot\n",
    "\n",
    "from sympy import pi, sin\n",
    "\n",
    "domain = Square()\n",
    "\n",
    "V = ScalarFunctionSpace('V', domain)\n",
    "\n",
    "x,y = domain.coordinates\n",
    "\n",
    "u,v = [element_of(V, name=i) for i in ['u', 'v']]\n",
    "\n",
    "# bilinear form\n",
    "a = BilinearForm((u,v), integral(domain , dot(grad(v), grad(u))))\n",
    "\n",
    "# linear form\n",
    "f = 2*pi**2*sin(pi*x)*sin(pi*y)\n",
    "l = LinearForm(v, integral(domain, f*v))\n",
    "\n",
    "# Dirichlet boundary conditions\n",
    "bc = [EssentialBC(u, 0, domain.boundary)]\n",
    "\n",
    "# Variational problem\n",
    "equation   = find(u, forall=v, lhs=a(u, v), rhs=l(v), bc=bc)"
   ]
  },
  {
   "cell_type": "markdown",
   "id": "62ac1fd4",
   "metadata": {},
   "source": [
    "\n",
    "This very simple Python code reflects well the abstract mathematical framework needed for variational formulations.\n",
    "The structure of the code is as follows,\n",
    "\n",
    "1. Create a domain.\n",
    "2. Create a space of *scalar* functions over the domain.\n",
    "3. Create elements from this function space. These elements will denote the test and trial functions.\n",
    "4. Create the Bilinear and Linear forms, $a$ and $l$ respectively.\n",
    "5. Create Essential Boundary Conditions.\n",
    "6. Create the variational problem.\n",
    "\n",
    "Most of the time, you will need to follow the same steps, with some minor variants depending on the problem you're considering."
   ]
  },
  {
   "cell_type": "markdown",
   "id": "4f983ece",
   "metadata": {},
   "source": [
    "## Discretization"
   ]
  },
  {
   "cell_type": "markdown",
   "id": "51095918",
   "metadata": {},
   "source": [
    "We shall need the **discretize** function from **PsyDAC**."
   ]
  },
  {
   "cell_type": "code",
   "execution_count": null,
   "id": "a2a0a2a1",
   "metadata": {},
   "outputs": [],
   "source": [
    "from psydac.api.discretization import discretize"
   ]
  },
  {
   "cell_type": "code",
   "execution_count": null,
   "id": "00e54163",
   "metadata": {},
   "outputs": [],
   "source": [
    "degree = [3,3]\n",
    "ncells = [16,16]"
   ]
  },
  {
   "cell_type": "code",
   "execution_count": null,
   "id": "5999c62b",
   "metadata": {},
   "outputs": [],
   "source": [
    "# Create computational domain from topological domain\n",
    "domain_h = discretize(domain, ncells=ncells, comm=None)\n",
    "\n",
    "# Create discrete spline space\n",
    "Vh = discretize(V, domain_h, degree=degree)\n",
    "\n",
    "# Discretize equation\n",
    "equation_h = discretize(equation, domain_h, [Vh, Vh])"
   ]
  },
  {
   "cell_type": "markdown",
   "id": "7b29fbcf",
   "metadata": {},
   "source": [
    "## Solving the PDE"
   ]
  },
  {
   "cell_type": "code",
   "execution_count": null,
   "id": "541192ee",
   "metadata": {},
   "outputs": [],
   "source": [
    "uh = equation_h.solve()"
   ]
  },
  {
   "cell_type": "markdown",
   "id": "5174c4b5",
   "metadata": {},
   "source": [
    "## Computing the error norm\n",
    "\n",
    "When the analytical solution is available, you might be interested in computing the $L^2$ norm or $H^1_0$ semi-norm.\n",
    "SymPDE allows you to do so, by creating the **Norm** object.\n",
    "In this example, the analytical solution is given by\n",
    "\n",
    "$$\n",
    "u_e = \\sin(\\pi x) \\sin(\\pi y)\n",
    "$$"
   ]
  },
  {
   "cell_type": "markdown",
   "id": "3a31c46f",
   "metadata": {},
   "source": [
    "### Computing the $L^2$ norm"
   ]
  },
  {
   "cell_type": "code",
   "execution_count": null,
   "id": "5925c6cd",
   "metadata": {},
   "outputs": [],
   "source": [
    "ue = sin(pi*x)*sin(pi*y)\n",
    "\n",
    "u = element_of(V, name='u')\n",
    "\n",
    "# create the formal Norm object\n",
    "l2norm = Norm(u - ue, domain, kind='l2')\n",
    "\n",
    "# discretize the norm\n",
    "l2norm_h = discretize(l2norm, domain_h, Vh)\n",
    "\n",
    "# assemble the norm\n",
    "l2_error = l2norm_h.assemble(u=uh)\n",
    "\n",
    "# print the result\n",
    "print(l2_error)"
   ]
  },
  {
   "cell_type": "markdown",
   "id": "a6cbfeae",
   "metadata": {},
   "source": [
    "### Computing the $H^1$ semi-norm"
   ]
  },
  {
   "cell_type": "code",
   "execution_count": null,
   "id": "e5c1a8b8",
   "metadata": {},
   "outputs": [],
   "source": [
    "# create the formal Norm object\n",
    "h1norm = SemiNorm(u - ue, domain, kind='h1')\n",
    "\n",
    "# discretize the norm\n",
    "h1norm_h = discretize(h1norm, domain_h, Vh)\n",
    "\n",
    "# assemble the norm\n",
    "h1_error = h1norm_h.assemble(u=uh)\n",
    "\n",
    "# print the result\n",
    "print(h1_error)"
   ]
  },
  {
   "cell_type": "markdown",
   "id": "3c09131c",
   "metadata": {},
   "source": [
    "### Computing the $H^1$ norm"
   ]
  },
  {
   "cell_type": "code",
   "execution_count": null,
   "id": "d829e410",
   "metadata": {},
   "outputs": [],
   "source": [
    "# create the formal Norm object\n",
    "h1norm = Norm(u - ue, domain, kind='h1')\n",
    "\n",
    "# discretize the norm\n",
    "h1norm_h = discretize(h1norm, domain_h, Vh)\n",
    "\n",
    "# assemble the norm\n",
    "h1_error = h1norm_h.assemble(u=uh)\n",
    "\n",
    "# print the result\n",
    "print(h1_error)"
   ]
  }
 ],
 "metadata": {},
 "nbformat": 4,
 "nbformat_minor": 5
}
