{
 "cells": [
  {
   "cell_type": "markdown",
   "id": "9f28f9af",
   "metadata": {},
   "source": [
    "# Advection-diffusion equation\n",
    "\n",
    "We consider the advection-diffusion problem consisting of finding a scalar-valued function $u$ such that\n",
    "\n",
    "$$\n",
    "\\begin{align}\n",
    "  \\begin{cases}\n",
    "    - \\kappa \\nabla^2 u + \\mathbf{b} \\cdot \\nabla u = f &\\text{in $\\Omega$}, \\\\\n",
    "    u = 0                                               &\\text{on $\\partial \\Omega$}.\n",
    "  \\end{cases}\n",
    "\\end{align}\n",
    "$$\n",
    "\n",
    "## The Variational Formulation\n",
    "\n",
    "The variational formulation reads\n",
    "\n",
    "$$\n",
    "\\begin{align}\n",
    "  \\text{find $u \\in V$ such that} \\quad a(u,v) = l(v) \\quad \\forall v \\in V,\n",
    "\\end{align}\n",
    "$$\n",
    "\n",
    "where \n",
    "\n",
    "- $V \\subset H_0^1(\\Omega)$, \n",
    "- $a(u,v) := \\int_{\\Omega} \\left( \\kappa \\nabla u \\cdot \\nabla v + \\left( \\mathbf{b} \\cdot \\nabla u \\right) v \\right) d\\Omega$,\n",
    "- $l(v) := \\int_{\\Omega} f v~d\\Omega$."
   ]
  },
  {
   "cell_type": "markdown",
   "id": "5a958607",
   "metadata": {},
   "source": [
    "## Formal Model"
   ]
  },
  {
   "cell_type": "markdown",
   "id": "cccc1cc5",
   "metadata": {},
   "source": [
    "### Build a manifactured solution"
   ]
  },
  {
   "cell_type": "code",
   "execution_count": null,
   "id": "d742586c",
   "metadata": {},
   "outputs": [],
   "source": [
    "from sympde.expr import BilinearForm, LinearForm, integral\n",
    "from sympde.expr     import find, EssentialBC, Norm, SemiNorm\n",
    "from sympde.topology import ScalarFunctionSpace, Square, element_of\n",
    "from sympde.calculus import grad, dot, laplace\n",
    "from sympde.core     import Constant\n",
    "\n",
    "from sympy import pi, sin, Tuple\n",
    "\n",
    "domain = Square()\n",
    "\n",
    "x,y = domain.coordinates\n",
    "\n",
    "kappa = Constant('kappa', is_real=True)\n",
    "b1 = 1.\n",
    "b2 = 0.\n",
    "b = Tuple(b1, b2)\n",
    "\n",
    "L = lambda w: -kappa * laplace(w) + dot(b,grad(w))\n",
    "\n",
    "ue = sin(pi*x)*sin(pi*y)\n",
    "f = L(ue)"
   ]
  },
  {
   "cell_type": "markdown",
   "id": "76d3d381",
   "metadata": {},
   "source": [
    "You can have the full expression of **f** by calling the **TerminalExpr** as follows"
   ]
  },
  {
   "cell_type": "code",
   "execution_count": null,
   "id": "87e62069",
   "metadata": {},
   "outputs": [],
   "source": [
    "from sympde.expr import TerminalExpr\n",
    "\n",
    "print(TerminalExpr(f, domain))"
   ]
  },
  {
   "cell_type": "markdown",
   "id": "fcddd2ca",
   "metadata": {},
   "source": [
    "Let's go back now to our formal model."
   ]
  },
  {
   "cell_type": "code",
   "execution_count": null,
   "id": "e4bbd1a8",
   "metadata": {},
   "outputs": [],
   "source": [
    "V = ScalarFunctionSpace('V', domain)\n",
    "\n",
    "u,v = [element_of(V, name=i) for i in ['u', 'v']]\n",
    "\n",
    "# bilinear form\n",
    "expr = kappa * dot(grad(v), grad(u)) + dot(b, grad(u)) * v\n",
    "a = BilinearForm((u,v), integral(domain, expr))\n",
    "\n",
    "# linear form\n",
    "l = LinearForm(v, integral(domain, f*v))\n",
    "\n",
    "# Dirichlet boundary conditions\n",
    "bc = [EssentialBC(u, 0, domain.boundary)]\n",
    "\n",
    "# Variational problem\n",
    "equation   = find(u, forall=v, lhs=a(u, v), rhs=l(v), bc=bc)"
   ]
  },
  {
   "cell_type": "markdown",
   "id": "4f983ece",
   "metadata": {},
   "source": [
    "## Discretization"
   ]
  },
  {
   "cell_type": "markdown",
   "id": "51095918",
   "metadata": {},
   "source": [
    "We shall need the **discretize** function from **PsyDAC**."
   ]
  },
  {
   "cell_type": "code",
   "execution_count": null,
   "id": "a2a0a2a1",
   "metadata": {},
   "outputs": [],
   "source": [
    "from psydac.api.discretization import discretize"
   ]
  },
  {
   "cell_type": "code",
   "execution_count": null,
   "id": "00e54163",
   "metadata": {},
   "outputs": [],
   "source": [
    "degree = [2,2]\n",
    "ncells = [8,8]"
   ]
  },
  {
   "cell_type": "code",
   "execution_count": null,
   "id": "5999c62b",
   "metadata": {},
   "outputs": [],
   "source": [
    "# Create computational domain from topological domain\n",
    "domain_h = discretize(domain, ncells=ncells, comm=None)\n",
    "\n",
    "# Create discrete spline space\n",
    "Vh = discretize(V, domain_h, degree=degree)\n",
    "\n",
    "# Discretize equation\n",
    "equation_h = discretize(equation, domain_h, [Vh, Vh])"
   ]
  },
  {
   "cell_type": "markdown",
   "id": "7b29fbcf",
   "metadata": {},
   "source": [
    "## Solving the PDE\n",
    "\n",
    "Since the problem is not symmetric, we shall use **gmres** for the linear solver."
   ]
  },
  {
   "cell_type": "code",
   "execution_count": null,
   "id": "67b32148",
   "metadata": {},
   "outputs": [],
   "source": [
    "equation_h.set_solver('gmres', info=False, tol=1e-8)"
   ]
  },
  {
   "cell_type": "code",
   "execution_count": null,
   "id": "541192ee",
   "metadata": {},
   "outputs": [],
   "source": [
    "uh = equation_h.solve(kappa=1.e-1)"
   ]
  },
  {
   "cell_type": "markdown",
   "id": "5174c4b5",
   "metadata": {},
   "source": [
    "## Computing the error norm"
   ]
  },
  {
   "cell_type": "markdown",
   "id": "3a31c46f",
   "metadata": {},
   "source": [
    "### Computing the $L^2$ norm"
   ]
  },
  {
   "cell_type": "code",
   "execution_count": null,
   "id": "5925c6cd",
   "metadata": {},
   "outputs": [],
   "source": [
    "u = element_of(V, name='u')\n",
    "\n",
    "# create the formal Norm object\n",
    "l2norm = Norm(u - ue, domain, kind='l2')\n",
    "\n",
    "# discretize the norm\n",
    "l2norm_h = discretize(l2norm, domain_h, Vh)\n",
    "\n",
    "# assemble the norm\n",
    "l2_error = l2norm_h.assemble(u=uh)\n",
    "\n",
    "# print the result\n",
    "print(l2_error)"
   ]
  },
  {
   "cell_type": "markdown",
   "id": "a6cbfeae",
   "metadata": {},
   "source": [
    "### Computing the $H^1$ semi-norm"
   ]
  },
  {
   "cell_type": "code",
   "execution_count": null,
   "id": "e5c1a8b8",
   "metadata": {},
   "outputs": [],
   "source": [
    "# create the formal Norm object\n",
    "h1norm = SemiNorm(u - ue, domain, kind='h1')\n",
    "\n",
    "# discretize the norm\n",
    "h1norm_h = discretize(h1norm, domain_h, Vh)\n",
    "\n",
    "# assemble the norm\n",
    "h1_error = h1norm_h.assemble(u=uh)\n",
    "\n",
    "# print the result\n",
    "print(h1_error)"
   ]
  },
  {
   "cell_type": "markdown",
   "id": "3c09131c",
   "metadata": {},
   "source": [
    "### Computing the $H^1$ norm"
   ]
  },
  {
   "cell_type": "code",
   "execution_count": null,
   "id": "d829e410",
   "metadata": {},
   "outputs": [],
   "source": [
    "# create the formal Norm object\n",
    "h1norm = Norm(u - ue, domain, kind='h1')\n",
    "\n",
    "# discretize the norm\n",
    "h1norm_h = discretize(h1norm, domain_h, Vh)\n",
    "\n",
    "# assemble the norm\n",
    "h1_error = h1norm_h.assemble(u=uh)\n",
    "\n",
    "# print the result\n",
    "print(h1_error)"
   ]
  }
 ],
 "metadata": {},
 "nbformat": 4,
 "nbformat_minor": 5
}
