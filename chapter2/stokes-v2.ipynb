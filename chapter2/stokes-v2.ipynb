{
 "cells": [
  {
   "cell_type": "markdown",
   "id": "48ac8740",
   "metadata": {},
   "source": [
    "# Second mixed formulation of the Stokes problem\n",
    "\n",
    "Another possibility to obtained a well posed variational formulation, is to integrate by parts the\n",
    "$\\int_{\\Omega} \\nabla p \\cdot \\mathbf{v} ~\\mathrm{d} \\mathbf{x}$ term in the first formulation:\n",
    "\n",
    "$$ \n",
    "\\int_{\\Omega} \\nabla p \\cdot \\mathbf{v} ~\\mathrm{d} \\mathbf{x} = - \\int_{\\Omega} p \\nabla \\cdot \\mathbf{v} ~\\mathrm{d} \\mathbf{x} + \\int_{\\partial\\Omega} p \\mathbf{v} \\cdot \\mathbf{n}~\\mathrm{d} \\sigma= -\\int_{\\Omega} p ~ \\nabla \\cdot \\mathbf{v} ~\\mathrm{d} \\mathbf{x} ,\n",
    "$$\n",
    "\n",
    " using here $p=0$ as a natural boundary condition. Note that in the other variational formulation the same boundary condition was essential. In this case, for the second variational formulation, we just multiply $\\nabla\\cdot \\mathbf{u}=0$ by $q$ and integrate. No integration by parts is needed in this case.\n",
    "\n",
    "$$\n",
    "\\int_{\\Omega} \\nabla \\cdot \\mathbf{u} ~ q ~\\mathrm{d} \\mathbf{x} =0.\n",
    "$$\n",
    "\n",
    "This then leads to the following variational formulation:\n",
    "\n",
    "Find $( \\mathbf{u},p)\\in H^1(\\Omega)^3\\times L^2(\\Omega)$ such that \n",
    "\n",
    "$$\n",
    "\\begin{align}\n",
    "\\left\\{\n",
    "  \\begin{array}{llll}\n",
    "    \\int_{\\Omega}\\nabla \\mathbf{u}:\\nabla \\mathbf{v} ~\\mathrm{d} \\mathbf{x} &- \\int_{\\Omega}  p ~ \\nabla\\cdot \\mathbf{v} ~\\mathrm{d} \\mathbf{x}\n",
    "    &= \\int_{\\Omega} \\mathbf{f}\\cdot \\mathbf{v} ~\\mathrm{d} \\mathbf{x}, &\\forall \\mathbf{v}\\in H^1(\\Omega)^3\n",
    "    \\\\\n",
    "    \\int_{\\Omega}  \\nabla\\cdot\\mathbf{u} ~ q~\\mathrm{d} \\mathbf{x} & &=0,  &\\forall q\\in L^2(\\Omega)\n",
    "  \\end{array}\n",
    "  \\right.\n",
    "\\end{align}\n",
    "$$"
   ]
  },
  {
   "cell_type": "markdown",
   "id": "5a958607",
   "metadata": {},
   "source": [
    "## Formal Model"
   ]
  },
  {
   "cell_type": "code",
   "execution_count": null,
   "id": "d742586c",
   "metadata": {},
   "outputs": [],
   "source": [
    "from sympde.expr import BilinearForm, LinearForm, integral\n",
    "from sympde.expr     import find, EssentialBC, Norm, SemiNorm\n",
    "from sympde.topology import (ScalarFunctionSpace, VectorFunctionSpace, Square,\n",
    "                             elements_of)\n",
    "from sympde.calculus import grad, dot, div, inner\n",
    "from sympde.core     import Constant\n",
    "\n",
    "from psydac.api.discretization import discretize\n",
    "\n",
    "from sympy import pi, sin, cos, Tuple\n",
    "\n",
    "domain = Square()\n",
    "x, y   = domain.coordinates\n",
    "\n",
    "V1 = VectorFunctionSpace('V1', domain, kind='H1')\n",
    "V2 = ScalarFunctionSpace('V2', domain, kind='L2')\n",
    "X = V1*V2\n",
    "\n",
    "# rhs\n",
    "fx = -x**2*(x - 1)**2*(24*y - 12) - 4*y*(x**2 + 4*x*(x - 1) + (x - 1)**2)*(2*y**2 - 3*y + 1) - 2*pi*cos(2*pi*x)\n",
    "fy = 4*x*(2*x**2 - 3*x + 1)*(y**2 + 4*y*(y - 1) + (y - 1)**2) + y**2*(24*x - 12)*(y - 1)**2 + 2*pi*cos(2*pi*y)\n",
    "f  = Tuple(fx, fy)\n",
    "\n",
    "# exact solution\n",
    "ue1 = x**2*(-x + 1)**2*(4*y**3 - 6*y**2 + 2*y)\n",
    "ue2 =-y**2*(-y + 1)**2*(4*x**3 - 6*x**2 + 2*x)\n",
    "ue = Tuple(ue1, ue2)\n",
    "pe = -sin(2*pi*x) + sin(2*pi*y)\n",
    "\n",
    "u, v = elements_of(V1, names='u, v')\n",
    "p, q = elements_of(V2, names='p, q')\n",
    "\n",
    "# bilinear form\n",
    "a  = BilinearForm(((u, p), (v, q)), integral(domain, inner(grad(u), grad(v)) - div(u)*q - p*div(v)) )\n",
    "\n",
    "# linear form\n",
    "l  = LinearForm((v, q), integral(domain, dot(f, v)))\n",
    "\n",
    "# Dirichlet boundary conditions\n",
    "bc = EssentialBC(u, 0, domain.boundary)\n",
    "\n",
    "equation = find((u, p), forall=(v, q), lhs=a((u, p), (v, q)), rhs=l(v, q), bc=bc)"
   ]
  },
  {
   "cell_type": "markdown",
   "id": "4f983ece",
   "metadata": {},
   "source": [
    "## Discretization"
   ]
  },
  {
   "cell_type": "code",
   "execution_count": null,
   "id": "00e54163",
   "metadata": {},
   "outputs": [],
   "source": [
    "degree = [2,2]\n",
    "ncells = [8,8]"
   ]
  },
  {
   "cell_type": "code",
   "execution_count": null,
   "id": "5999c62b",
   "metadata": {},
   "outputs": [],
   "source": [
    "# Create computational domain from topological domain\n",
    "domain_h = discretize(domain, ncells=ncells, comm=None)\n",
    "\n",
    "# Create discrete spline space\n",
    "V1h = discretize(V1, domain_h, degree=degree)\n",
    "V2h = discretize(V2, domain_h, degree=degree)\n",
    "Xh  = discretize(X, domain_h, degree=degree)\n",
    "\n",
    "# Discretize equation\n",
    "equation_h = discretize(equation, domain_h, [Xh, Xh])"
   ]
  },
  {
   "cell_type": "markdown",
   "id": "7b29fbcf",
   "metadata": {},
   "source": [
    "## Solving the PDE"
   ]
  },
  {
   "cell_type": "code",
   "execution_count": null,
   "id": "541192ee",
   "metadata": {},
   "outputs": [],
   "source": [
    "equation_h.set_solver('gmres', info=False, tol=1e-8)"
   ]
  },
  {
   "cell_type": "code",
   "execution_count": null,
   "id": "504a182d",
   "metadata": {},
   "outputs": [],
   "source": [
    "#uh, ph = equation_h.solve()\n",
    "\n",
    "from psydac.fem.basic          import FemField\n",
    "\n",
    "phi_h = equation_h.solve()\n",
    "\n",
    "uh = FemField(V1h)\n",
    "uh.coeffs[0][:] = phi_h.coeffs[0][:]\n",
    "uh.coeffs[1][:] = phi_h.coeffs[1][:]\n",
    "\n",
    "ph = FemField(V2h)\n",
    "ph.coeffs[:] = phi_h.coeffs[2][:]"
   ]
  },
  {
   "cell_type": "markdown",
   "id": "5174c4b5",
   "metadata": {},
   "source": [
    "## Computing the error norm"
   ]
  },
  {
   "cell_type": "markdown",
   "id": "3a31c46f",
   "metadata": {},
   "source": [
    "### Computing the $L^2$ norm"
   ]
  },
  {
   "cell_type": "code",
   "execution_count": null,
   "id": "5925c6cd",
   "metadata": {},
   "outputs": [],
   "source": [
    "# L2 error norm of the velocity field\n",
    "error_u   = [ue[0]-u[0], ue[1]-u[1]]\n",
    "l2norm_u  = Norm(error_u, domain, kind='l2')\n",
    "l2norm_uh = discretize(l2norm_u, domain_h, V1h)\n",
    "\n",
    "# L2 error norm of the pressure, after removing the average value from the field\n",
    "l2norm_p  = Norm(pe - p, domain, kind='l2')\n",
    "l2norm_ph = discretize(l2norm_p, domain_h, V2h)"
   ]
  },
  {
   "cell_type": "code",
   "execution_count": null,
   "id": "e5c1a8b8",
   "metadata": {},
   "outputs": [],
   "source": [
    "l2norm = l2norm_uh.assemble(u=uh)\n",
    "print('>>> norm-l2 uh = ', l2norm)\n",
    "\n",
    "l2norm = l2norm_ph.assemble(p=ph)\n",
    "print('>>> norm-l2 ph = ', l2norm)"
   ]
  }
 ],
 "metadata": {},
 "nbformat": 4,
 "nbformat_minor": 5
}
