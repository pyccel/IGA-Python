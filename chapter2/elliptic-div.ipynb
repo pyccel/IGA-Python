{
 "cells": [
  {
   "cell_type": "markdown",
   "id": "9f28f9af",
   "metadata": {},
   "source": [
    "# Elliptic-div Problem\n",
    "\n",
    "Let $\\Omega \\subset \\mathbb{R}^d$ be an open Liptschitz bounded set, and we look for the solution of the following problem\n",
    "\n",
    "$$\n",
    "\\begin{align}\n",
    "  \\left\\{ \n",
    "  \\begin{array}{rl}\n",
    "    - \\nabla \\nabla \\cdot \\mathbf{u} + \\mu \\mathbf{u} &= \\mathbf{f}, \\quad \\Omega \n",
    "    \\\\\n",
    "    \\mathbf{u} \\times \\mathbf{n} &= 0, \\quad \\partial\\Omega\n",
    "  \\end{array} \\right.\n",
    "\\end{align}\n",
    "$$\n",
    "\n",
    "where $\\mathbf{f} \\in \\mathbf{L}^2(\\Omega)$,  $\\mu \\in L^\\infty(\\Omega)$ and there exists $\\mu_0 > 0$ such that $\\mu \\geq \\mu_0$ almost everywhere.\n",
    "\n",
    "## The Variational Formulation\n",
    "\n",
    "We take the Hilbert space $V := \\mathbf{H}\\_0(\\mbox{div}, \\Omega)$, in which case the variational formulation writes \n",
    "\n",
    "\n",
    "Find $\\mathbf{u} \\in V$ such that\n",
    "\n",
    "$$\n",
    "\\begin{align}\n",
    "  a(\\mathbf{u},\\mathbf{v}) = l(\\mathbf{v}) \\quad \\forall \\mathbf{v} \\in V \n",
    "\\end{align}\n",
    "$$\n",
    "\n",
    "where \n",
    "\n",
    "$$\n",
    "\\begin{align}\n",
    "\\left\\{ \n",
    "\\begin{array}{rll}\n",
    "a(\\mathbf{u}, \\mathbf{v}) &:= \\int_{\\Omega} \\nabla \\cdot \\mathbf{u} ~ \\nabla \\cdot \\mathbf{v} + \\int_{\\Omega} \\mu \\mathbf{u} \\cdot \\mathbf{v}, & \\forall \\mathbf{u}, \\mathbf{v} \\in V  \\\\\n",
    "l(\\mathbf{v}) &:= \\int_{\\Omega} \\mathbf{v} \\cdot \\mathbf{f}, & \\forall \\mathbf{v} \\in V  \n",
    "\\end{array} \\right.\n",
    "\\end{align}\n",
    "$$\n",
    "\n",
    "We recall that in $\\mathbf{H}\\_0(\\mbox{div}, \\Omega)$, the bilinear form $a$ is equivalent to the inner product and is therefor continuous and coercive. Hence, our abstract theory applies and there exists a unique solution."
   ]
  },
  {
   "cell_type": "markdown",
   "id": "2092b000",
   "metadata": {},
   "source": [
    "```{warning}\n",
    "This NB needs to be fixed\n",
    "```"
   ]
  },
  {
   "cell_type": "markdown",
   "id": "5a958607",
   "metadata": {},
   "source": [
    "## Formal Model"
   ]
  },
  {
   "cell_type": "code",
   "execution_count": null,
   "id": "d742586c",
   "metadata": {},
   "outputs": [],
   "source": [
    "from sympde.expr import BilinearForm, LinearForm, integral\n",
    "from sympde.expr     import find, EssentialBC\n",
    "from sympde.topology import VectorFunctionSpace, Cube, element_of\n",
    "from sympde.calculus import div, dot\n",
    "from sympde.core     import Constant\n",
    "\n",
    "from sympy import pi, sin, Tuple\n",
    "\n",
    "mu = Constant('mu', is_real=True)\n",
    "\n",
    "domain = Cube()\n",
    "\n",
    "V = VectorFunctionSpace('V', domain, kind='Hdiv')\n",
    "\n",
    "x,y,z = domain.coordinates\n",
    "\n",
    "u,v = [element_of(V, name=i) for i in ['u', 'v']]\n",
    "\n",
    "# bilinear form\n",
    "a = BilinearForm((u,v), integral(domain, div(v)*div(u) + mu * dot(u,v)))\n",
    "\n",
    "# linear form\n",
    "f1 = sin(pi*x)*sin(pi*y)*sin(pi*z)\n",
    "f2 = sin(pi*x)*sin(pi*y)*sin(pi*z)\n",
    "f3 = sin(pi*x)*sin(pi*y)*sin(pi*z)\n",
    "f = Tuple(f1, f2, f3)\n",
    "\n",
    "l = LinearForm(v, integral(domain, dot(f,v)))\n",
    "\n",
    "# Dirichlet boundary conditions\n",
    "bc = [EssentialBC(u, 0, domain.boundary)]\n",
    "\n",
    "# Variational problem\n",
    "equation   = find(u, forall=v, lhs=a(u, v), rhs=l(v), bc=bc)\n"
   ]
  },
  {
   "cell_type": "markdown",
   "id": "4f983ece",
   "metadata": {},
   "source": [
    "## Discretization"
   ]
  },
  {
   "cell_type": "markdown",
   "id": "51095918",
   "metadata": {},
   "source": [
    "We shall need the **discretize** function from **PsyDAC**."
   ]
  },
  {
   "cell_type": "code",
   "execution_count": null,
   "id": "a2a0a2a1",
   "metadata": {},
   "outputs": [],
   "source": [
    "from psydac.api.discretization import discretize"
   ]
  },
  {
   "cell_type": "code",
   "execution_count": null,
   "id": "00e54163",
   "metadata": {},
   "outputs": [],
   "source": [
    "degree = [2,2,2]\n",
    "ncells = [8,8,8]"
   ]
  },
  {
   "cell_type": "code",
   "execution_count": null,
   "id": "5999c62b",
   "metadata": {},
   "outputs": [],
   "source": [
    "# Create computational domain from topological domain\n",
    "domain_h = discretize(domain, ncells=ncells, comm=None)\n",
    "\n",
    "# Create discrete spline space\n",
    "Vh = discretize(V, domain_h, degree=degree)\n",
    "\n",
    "# Discretize equation\n",
    "equation_h = discretize(equation, domain_h, [Vh, Vh])"
   ]
  },
  {
   "cell_type": "markdown",
   "id": "7b29fbcf",
   "metadata": {},
   "source": [
    "## Solving the PDE"
   ]
  },
  {
   "cell_type": "code",
   "execution_count": null,
   "id": "541192ee",
   "metadata": {},
   "outputs": [],
   "source": [
    "#uh = equation_h.solve()"
   ]
  },
  {
   "cell_type": "markdown",
   "id": "5174c4b5",
   "metadata": {},
   "source": [
    "## Computing the error norm"
   ]
  },
  {
   "cell_type": "markdown",
   "id": "3a31c46f",
   "metadata": {},
   "source": [
    "### Computing the $L^2$ norm"
   ]
  },
  {
   "cell_type": "code",
   "execution_count": null,
   "id": "5925c6cd",
   "metadata": {},
   "outputs": [],
   "source": [
    "#ue = sin(pi*x)*sin(pi*y)\n",
    "\n",
    "#u = element_of(V, name='u')\n",
    "\n",
    "# create the formal Norm object\n",
    "#l2norm = Norm(u - ue, domain, kind='l2')\n",
    "\n",
    "# discretize the norm\n",
    "#l2norm_h = discretize(l2norm, domain_h, Vh)\n",
    "\n",
    "# assemble the norm\n",
    "#l2_error = l2norm_h.assemble(u=uh)\n",
    "\n",
    "# print the result\n",
    "#print(l2_error)"
   ]
  },
  {
   "cell_type": "markdown",
   "id": "a6cbfeae",
   "metadata": {},
   "source": [
    "### Computing the $H^1$ semi-norm"
   ]
  },
  {
   "cell_type": "code",
   "execution_count": null,
   "id": "e5c1a8b8",
   "metadata": {},
   "outputs": [],
   "source": [
    "# create the formal Norm object\n",
    "#h1norm = SemiNorm(u - ue, domain, kind='h1')\n",
    "\n",
    "# discretize the norm\n",
    "#h1norm_h = discretize(h1norm, domain_h, Vh)\n",
    "\n",
    "# assemble the norm\n",
    "#h1_error = h1norm_h.assemble(u=uh)\n",
    "\n",
    "# print the result\n",
    "#print(h1_error)"
   ]
  },
  {
   "cell_type": "markdown",
   "id": "3c09131c",
   "metadata": {},
   "source": [
    "### Computing the $H^1$ norm"
   ]
  },
  {
   "cell_type": "code",
   "execution_count": null,
   "id": "d829e410",
   "metadata": {},
   "outputs": [],
   "source": [
    "# create the formal Norm object\n",
    "#h1norm = Norm(u - ue, domain, kind='h1')\n",
    "\n",
    "# discretize the norm\n",
    "#h1norm_h = discretize(h1norm, domain_h, Vh)\n",
    "\n",
    "# assemble the norm\n",
    "#h1_error = h1norm_h.assemble(u=uh)\n",
    "\n",
    "# print the result\n",
    "#print(h1_error)"
   ]
  }
 ],
 "metadata": {},
 "nbformat": 4,
 "nbformat_minor": 5
}
