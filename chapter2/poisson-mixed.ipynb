{
 "cells": [
  {
   "cell_type": "markdown",
   "id": "1a4e2078",
   "metadata": {},
   "source": [
    "# Mixed FEM for the Poisson problem\n",

    "\n",
    "Let $\\Omega \\subset \\mathbb{R}^3$ and consider the Poisson problem\n",
    "\n",
    "$$\n",
    "\\begin{align}\n",
    "  \\left\\{ \n",
    "  \\begin{array}{clr}\n",
    "    -\\Delta p & =f & ,~\\Omega    \\\\\n",
    "    p         & =0 & ,~\\partial \\Omega\n",
    "  \\end{array} \\right.\n",
    "\\end{align}\n",
    "$$\n",
    "\n",
    "Using that $\\Delta p = \\nabla\\cdot\\nabla p$, we set $ \\mathbf{u}=\\nabla p$, then the Poisson equation can be written equivalently\n",
    "\n",
    "$$ \\mathbf{u}=-\\nabla p, ~~~ \\nabla\\cdot \\mathbf{u}= f.$$"
   ]
  },
  {
   "cell_type": "code",
   "execution_count": null,
   "id": "46339ba9",
   "metadata": {},
   "outputs": [],
   "source": []
  }
 ],
 "metadata": {
  "kernelspec": {
   "display_name": "Python 3 (ipykernel)",
   "language": "python",
   "name": "python3"
  },
  "language_info": {
   "codemirror_mode": {
    "name": "ipython",
    "version": 3
   },
   "file_extension": ".py",
   "mimetype": "text/x-python",
   "name": "python",
   "nbconvert_exporter": "python",
   "pygments_lexer": "ipython3"
  }
 },
 "nbformat": 4,
 "nbformat_minor": 5
}
