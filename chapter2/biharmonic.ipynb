{
 "cells": [
  {
   "cell_type": "markdown",
   "id": "9f28f9af",
   "metadata": {},
   "source": [
    "# The Biharmonic problem\n",
    "\n",
    "We consider the (inhomogeneous) biharmonic equation with homogeneous essential boundary conditions,\n",
    "\n",
    "$$\n",
    "\\begin{align}\n",
    "  \\nabla^2 \\nabla^2  u = f       \\quad \\text{in $\\Omega$}         , \\quad \\quad \n",
    "  u = 0                          \\quad \\text{on $\\partial \\Omega$}, \\quad \\quad\n",
    "  \\nabla u \\cdot \\mathbf{n} = 0  \\quad \\text{on $\\partial \\Omega$}.\n",
    "\\end{align}\n",
    "$$\n",
    "\n",
    "## The Variational Formulation\n",
    "\n",
    "An $H^2$-conforming variational formulation reads \n",
    "\n",
    "$$\n",
    "\\begin{align}\n",
    "  \\text{find $u \\in V$ such that} \\quad a(u,v) = l(v) \\quad \\forall v \\in V,\n",
    "\\end{align}\n",
    "$$\n",
    "\n",
    "where \n",
    "\n",
    "- $V \\subset H^2(\\Omega)$, \n",
    "- $a(u,v) := \\int_{\\Omega} \\nabla^2 u ~ \\nabla^2 v ~ d\\Omega$,\n",
    "- $l(v) := \\int_{\\Omega} f v ~ d\\Omega$."
   ]
  },
  {
   "cell_type": "markdown",
   "id": "5a958607",
   "metadata": {},
   "source": [
    "## Formal Model"
   ]
  },
  {
   "cell_type": "markdown",
   "id": "f223516b",
   "metadata": {},
   "source": [
    "In this example, the analytical solution is given by\n",
    "\n",
    "$$\n",
    "u_e = \\sin(\\pi x)^2 \\sin(\\pi y)^2\n",
    "$$"
   ]
  },
  {
   "cell_type": "code",
   "execution_count": null,
   "id": "811c0b9b",
   "metadata": {},
   "outputs": [],
   "source": [
    "from sympde.expr import BilinearForm, LinearForm, integral\n",
    "from sympde.expr     import find, EssentialBC, Norm, SemiNorm\n",
    "from sympde.topology import ScalarFunctionSpace, Square, element_of\n",
    "from sympde.calculus import laplace, dot\n",
    "\n",
    "from sympy import pi, sin"
   ]
  },
  {
   "cell_type": "code",
   "execution_count": null,
   "id": "d742586c",
   "metadata": {},
   "outputs": [],
   "source": [
    "domain = Square()\n",
    "\n",
    "V = ScalarFunctionSpace('V', domain)\n",
    "\n",
    "x,y = domain.coordinates\n",
    "\n",
    "u,v = [element_of(V, name=i) for i in ['u', 'v']]\n",
    "\n",
    "# the analytical solution and its rhs\n",
    "ue = sin(pi * x)**2 * sin(pi * y)**2\n",
    "f  = laplace(laplace(ue))\n",
    "\n",
    "# bilinear form\n",
    "a = BilinearForm((u,v), integral(domain , laplace(u)*laplace(v)))\n",
    "\n",
    "# linear form\n",
    "l = LinearForm(v, integral(domain, f*v))\n",
    "\n",
    "# Dirichlet boundary conditions\n",
    "bc = [EssentialBC(u, 0, domain.boundary)]\n",
    "\n",
    "# Variational problem\n",
    "equation   = find(u, forall=v, lhs=a(u, v), rhs=l(v), bc=bc)"
   ]
  },
  {
   "cell_type": "markdown",
   "id": "4f983ece",
   "metadata": {},
   "source": [
    "## Discretization"
   ]
  },
  {
   "cell_type": "markdown",
   "id": "51095918",
   "metadata": {},
   "source": [
    "We shall need the **discretize** function from **PsyDAC**."
   ]
  },
  {
   "cell_type": "code",
   "execution_count": null,
   "id": "a2a0a2a1",
   "metadata": {},
   "outputs": [],
   "source": [
    "from psydac.api.discretization import discretize"
   ]
  },
  {
   "cell_type": "code",
   "execution_count": null,
   "id": "00e54163",
   "metadata": {},
   "outputs": [],
   "source": [
    "degree = [2,2]\n",
    "ncells = [8,8]"
   ]
  },
  {
   "cell_type": "code",
   "execution_count": null,
   "id": "5999c62b",
   "metadata": {},
   "outputs": [],
   "source": [
    "# Create computational domain from topological domain\n",
    "domain_h = discretize(domain, ncells=ncells, comm=None)\n",
    "\n",
    "# Create discrete spline space\n",
    "Vh = discretize(V, domain_h, degree=degree)\n",
    "\n",
    "# Discretize equation\n",
    "equation_h = discretize(equation, domain_h, [Vh, Vh])"
   ]
  },
  {
   "cell_type": "markdown",
   "id": "7b29fbcf",
   "metadata": {},
   "source": [
    "## Solving the PDE"
   ]
  },
  {
   "cell_type": "code",
   "execution_count": null,
   "id": "541192ee",
   "metadata": {},
   "outputs": [],
   "source": [
    "uh = equation_h.solve()"
   ]
  },
  {
   "cell_type": "markdown",
   "id": "5174c4b5",
   "metadata": {},
   "source": [
    "## Computing the error norm"
   ]
  },
  {
   "cell_type": "markdown",
   "id": "3a31c46f",
   "metadata": {},
   "source": [
    "### Computing the $L^2$ norm"
   ]
  },
  {
   "cell_type": "code",
   "execution_count": null,
   "id": "5925c6cd",
   "metadata": {},
   "outputs": [],
   "source": [
    "u = element_of(V, name='u')\n",
    "\n",
    "# create the formal Norm object\n",
    "l2norm = Norm(u - ue, domain, kind='l2')\n",
    "\n",
    "# discretize the norm\n",
    "l2norm_h = discretize(l2norm, domain_h, Vh)\n",
    "\n",
    "# assemble the norm\n",
    "l2_error = l2norm_h.assemble(u=uh)\n",
    "\n",
    "# print the result\n",
    "print(l2_error)"
   ]
  },
  {
   "cell_type": "markdown",
   "id": "a6cbfeae",
   "metadata": {},
   "source": [
    "### Computing the $H^1$ semi-norm"
   ]
  },
  {
   "cell_type": "code",
   "execution_count": null,
   "id": "e5c1a8b8",
   "metadata": {},
   "outputs": [],
   "source": [
    "# create the formal Norm object\n",
    "h1norm = SemiNorm(u - ue, domain, kind='h1')\n",
    "\n",
    "# discretize the norm\n",
    "h1norm_h = discretize(h1norm, domain_h, Vh)\n",
    "\n",
    "# assemble the norm\n",
    "h1_error = h1norm_h.assemble(u=uh)\n",
    "\n",
    "# print the result\n",
    "print(h1_error)"
   ]
  },
  {
   "cell_type": "markdown",
   "id": "3c09131c",
   "metadata": {},
   "source": [
    "### Computing the $H^1$ norm"
   ]
  },
  {
   "cell_type": "code",
   "execution_count": null,
   "id": "d829e410",
   "metadata": {},
   "outputs": [],
   "source": [
    "# create the formal Norm object\n",
    "h1norm = Norm(u - ue, domain, kind='h1')\n",
    "\n",
    "# discretize the norm\n",
    "h1norm_h = discretize(h1norm, domain_h, Vh)\n",
    "\n",
    "# assemble the norm\n",
    "h1_error = h1norm_h.assemble(u=uh)\n",
    "\n",
    "# print the result\n",
    "print(h1_error)"
   ]
  },
  {
   "cell_type": "markdown",
   "id": "fe684489",
   "metadata": {},
   "source": [
    "### Computing the H^2 semi-norm"
   ]
  },
  {
   "cell_type": "code",
   "execution_count": null,
   "id": "8a4adf8d",
   "metadata": {},
   "outputs": [],
   "source": [
    "# create the formal Norm object\n",
    "h2norm = SemiNorm(u - ue, domain, kind='h2')\n",
    "\n",
    "# discretize the norm\n",
    "h2norm_h = discretize(h2norm, domain_h, Vh)\n",
    "\n",
    "# assemble the norm\n",
    "h2_error = h2norm_h.assemble(u=uh)\n",
    "\n",
    "# print the result\n",
    "print(h2_error)"
   ]
  }
 ],
 "metadata": {},
 "nbformat": 4,
 "nbformat_minor": 5
}
