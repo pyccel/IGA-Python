{
 "cells": [
  {
   "cell_type": "markdown",
   "id": "1a4e2078",
   "metadata": {},
   "source": [
    "# The linear elasticity problem\n",
    "\n",
    "Let $\\Omega \\subset \\mathbb{R}^3$ and consider the linear elasticity problem with the following strong formulation:\n",
    "The governing equations for small elastic deformations of a body $ \\Omega $ can be expressed as:\n",
    "\n",
    "$$\n",
    "\\begin{align}\n",
    "    -\\nabla \\cdot \\sigma(u) &= f & \\text{in } \\Omega \\\\\n",
    "    \\sigma(u) &= \\kappa \\text{tr}(\\epsilon(u))I + 2 \\mu \\epsilon(u)\n",
    "\\end{align}\n",
    "$$\n",
    "\n",
    "where $ \\sigma $ is the stress tensor, $ f $ represents the body force per unit volume, $ \\kappa $ and $ \\mu $ are Lamé's elasticity parameters for the material, $ I $ denotes the identity tensor, $ \\epsilon $ is the symmetric strain tensor and the displacement vector field is denoted by $ u $. $ \\epsilon := \\frac{1}{2}(\\nabla u + (\\nabla u)^T) $\n"
   ]
  }
 ],
 "metadata": {},
 "nbformat": 4,
 "nbformat_minor": 5
}
