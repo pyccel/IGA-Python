{
 "cells": [
  {
   "cell_type": "markdown",
   "id": "9f28f9af",
   "metadata": {},
   "source": [
    "# Linear Elasticity Problem\n",
    "\n",
    "Analysis of deformable structures is essential in engineering, with the equations of linear elasticity being fundamental in this field. In this section, we present the variational formulation of linear elasticity equations using the principle of virtual work.\n",
    "\n",
    "## The PDE problem\n",
    "The governing equations for small elastic deformations of a body $ \\Omega $ can be expressed as:\n",
    "\n",
    "$$\n",
    "\\begin{align}\n",
    "    -\\nabla \\cdot \\sigma(u) &= f & \\text{in } \\Omega \\\\\n",
    "    \\sigma(u) &= \\kappa \\text{tr}(\\epsilon(u))I + 2 \\mu \\epsilon(u)\n",
    "\\end{align}\n",
    "$$\n",
    "\n",
    "where $ \\sigma $ is the stress tensor, $ f $ represents the body force per unit volume, $ \\kappa $ and $ \\mu $ are Lamé's elasticity parameters for the material, $ I $ denotes the identity tensor, and $ \\epsilon $ is the symmetric strain tensor. The displacement vector field is denoted by $ u $.\n",
    "\n",
    "By substituting $ \\epsilon(u) $ into $ \\sigma $, we obtain:\n",
    "\n",
    "$$\n",
    "\\sigma(u) = \\kappa (\\nabla \\cdot u)I + \\mu(\\nabla u + (\\nabla u)^T)\n",
    "$$\n",
    "\n",
    "## The Variational Formulation\n",
    "The variational formulation of the linear elasticity equations involves forming the inner product of the PDE with a vector test function $ v \\in \\hat{V} $ and integrating over the domain $ \\Omega $. This yields:\n",
    "\n",
    "$$\n",
    "\\int_{\\Omega} \\sigma : \\nabla v \\, \\mathrm{d} x = \\int_{\\Omega} f \\cdot v \\, \\mathrm{d} x\n",
    "$$\n",
    "\n",
    "Integrating the term $ \\nabla \\cdot \\sigma \\cdot v $ by parts, considering boundary conditions, we obtain:\n",
    "\n",
    "$$\n",
    "\\int_{\\Omega} \\sigma : \\nabla v \\, \\mathrm{d} x = \\int_{\\Omega} f \\cdot v \\, \\mathrm{d} x + \\int_{\\partial \\Omega_T} T \\cdot v \\, \\mathrm{d} s\n",
    "$$\n",
    "\n",
    "where $ T $ represents the traction vector on the part $ \\partial \\Omega_T $ of the boundary where it's prescribed.\n",
    "\n",
    "This leads to the variational formulation: Find $ u \\in V $ such that\n",
    "\n",
    "$$\n",
    "a(u, v) = L(v) \\quad \\forall v \\in \\hat{V}\n",
    "$$\n",
    "\n",
    "where\n",
    "\n",
    "$$\n",
    "\\begin{align}\n",
    "    a(u, v) &= \\int_{\\Omega} \\sigma(u) : \\nabla v \\, \\mathrm{d} x \\\\\n",
    "    L(v) &= \\int_{\\Omega} f \\cdot v \\, \\mathrm{d} x + \\int_{\\partial \\Omega_T} T \\cdot v \\, \\mathrm{d} s\n",
    "\\end{align}\n",
    "$$\n",
    "\n",
    "This formulation can be alternatively expressed as:\n",
    "\n",
    "$$\n",
    "a(u, v) = \\int_{\\Omega} \\sigma(u) : \\epsilon(v) \\, \\mathrm{d} x\n",
    "$$\n",
    "\n",
    "where $ \\epsilon(v) = \\frac{1}{2} (\\nabla v + (\\nabla v)^T) $ is the symmetric strain tensor.\n",
    "\n",
    "This variational formulation is essential for solving linear elasticity problems numerically using methods like the finite element method (FEM)."
   ]
  },
  {
   "cell_type": "markdown",
   "id": "5a958607",
   "metadata": {},
   "source": [
    "## Formal Model"
   ]
  },
  {
   "cell_type": "code",
   "execution_count": null,
   "id": "d742586c",
   "metadata": {},
   "outputs": [],
   "source": [
    "from sympde.expr import BilinearForm, LinearForm, integral\n",
    "from sympde.expr     import find, EssentialBC, Norm, SemiNorm\n",
    "from sympde.topology import VectorFunctionSpace, Cube, element_of\n",
    "from sympde.calculus import grad, dot, inner, outer, cross, div\n",
    "from sympde.core import Constant\n",
    "from sympde.core import Matrix, Vector, Transpose\n",
    "\n",
    "domain = Cube()\n",
    "\n",
    "I = Matrix([[1, 0, 0], [0, 1, 0], [0, 0, 1]], name='I')\n",
    "\n",
    "kappa = Constant('kappa', is_real=True)\n",
    "mu    = Constant('mu',    is_real=True)\n",
    "rho   = Constant('rho',   is_real=True)\n",
    "\n",
    "epsilon = lambda w: 0.5*(grad(w) + Transpose(grad(w)))\n",
    "sigma   = lambda w: kappa * div(w) * I + 2 * mu * epsilon(w)\n",
    "\n",
    "V = VectorFunctionSpace('V', domain)\n",
    "\n",
    "x,y,z = domain.coordinates\n",
    "\n",
    "u,v = [element_of(V, name=i) for i in ['u', 'v']]"
   ]
  },
  {
   "cell_type": "code",
   "execution_count": null,
   "id": "b16cc745",
   "metadata": {},
   "outputs": [],
   "source": [
    "# bilinear form\n",
    "a = BilinearForm((u,v), integral(domain , inner(sigma(u), epsilon(v))))"
   ]
  },
  {
   "cell_type": "code",
   "execution_count": null,
   "id": "0a0f152c",
   "metadata": {},
   "outputs": [],
   "source": [
    "L = 1\n",
    "W = 1 #0.2\n",
    "delta = W / L\n",
    "\n",
    "#mu = 1\n",
    "#rho = 1\n",
    "#kappa = 1.25\n",
    "g = 0.4 * delta**2\n",
    "\n",
    "# linear form\n",
    "f = Vector([0, 0, -rho*g], name='f')\n",
    "l = LinearForm(v, integral(domain, dot(f,v)))\n",
    "\n",
    "# Dirichlet boundary conditions\n",
    "bc = [EssentialBC(u, 0, domain.boundary)]\n",
    "\n",
    "# Variational problem\n",
    "equation   = find(u, forall=v, lhs=a(u, v), rhs=l(v), bc=bc)"
   ]
  },
  {
   "cell_type": "markdown",
   "id": "4f983ece",
   "metadata": {},
   "source": [
    "## Discretization"
   ]
  },
  {
   "cell_type": "markdown",
   "id": "51095918",
   "metadata": {},
   "source": [
    "We shall need the **discretize** function from **PsyDAC**."
   ]
  },
  {
   "cell_type": "code",
   "execution_count": null,
   "id": "a2a0a2a1",
   "metadata": {},
   "outputs": [],
   "source": [
    "from psydac.api.discretization import discretize"
   ]
  },
  {
   "cell_type": "code",
   "execution_count": null,
   "id": "00e54163",
   "metadata": {},
   "outputs": [],
   "source": [
    "degree = [2,2,2]\n",
    "ncells = [8,8,8]"
   ]
  },
  {
   "cell_type": "code",
   "execution_count": null,
   "id": "5999c62b",
   "metadata": {},
   "outputs": [],
   "source": [
    "# Create computational domain from topological domain\n",
    "domain_h = discretize(domain, ncells=ncells, comm=None)\n",
    "\n",
    "# Create discrete spline space\n",
    "Vh = discretize(V, domain_h, degree=degree)\n",
    "\n",
    "# Discretize equation\n",
    "equation_h = discretize(equation, domain_h, [Vh, Vh])"
   ]
  },
  {
   "cell_type": "markdown",
   "id": "7b29fbcf",
   "metadata": {},
   "source": [
    "## Solving the PDE"
   ]
  },
  {
   "cell_type": "code",
   "execution_count": null,
   "id": "541192ee",
   "metadata": {},
   "outputs": [],
   "source": [
    "uh = equation_h.solve(mu=1, rho=1, kappa=1.25)"
   ]
  }
 ],
 "metadata": {},
 "nbformat": 4,
 "nbformat_minor": 5
}
