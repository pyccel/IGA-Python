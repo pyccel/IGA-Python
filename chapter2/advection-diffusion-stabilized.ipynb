{
 "cells": [
  {
   "cell_type": "markdown",
   "id": "9f28f9af",
   "metadata": {},
   "source": [
    "# Stabilized advection-diffusion equation\n",
    "\n",
    "In the sequel we consider two different stabilization methods, leading to formulations of the form\n",
    "\n",
    "$$\n",
    "\\begin{align}\n",
    "  \\text{find $u \\in V$ such that} \\quad \n",
    "  a(u,v) + a_s(u,v) = l(v) + l_s(v) \\quad \\forall v \\in V,\n",
    "\\end{align}\n",
    "$$\n",
    "\n",
    "where $a_s$ and $l_s$ are additional terms depending on the stabilization method.\n",
    "\n",
    "The streamline upwind Petrov-Galerkin (SUPG) method is given by\n",
    "\n",
    "$$\n",
    "\\begin{align}\n",
    "    a_s(u,v) = \\int_{\\Omega} \\tau ~ L(u) ~ \\left( \\mathbf{b} \\cdot \\nabla v \\right) ~d\\Omega \n",
    "    \\quad \\mbox{and} \\quad\n",
    "    l_s(v) = \\int_{\\Omega} \\tau ~ f ~ \\left( \\mathbf{b} \\cdot \\nabla v \\right) ~d\\Omega \n",
    "  && \\text{[SUPG]}\n",
    "\\end{align}\n",
    "$$\n",
    "\n",
    "while the Galerkin least squares (GLS) method is as follows, \n",
    "\n",
    "$$\n",
    "\\begin{align}\n",
    "    a_s(u,v) = \\int_{\\Omega} \\tau ~ L(u) ~ L(v) ~d\\Omega \n",
    "    \\quad \\mbox{and} \\quad\n",
    "    l_s(v) = \\int_{\\Omega} \\tau ~ f ~ L(v) ~d\\Omega \n",
    "  && \\text{[GLS]}\n",
    "\\end{align}\n",
    "$$\n",
    "\n",
    "where we introduced the differential operator $L(u) := - \\kappa \\nabla^2 u + \\mathbf{b} \\cdot \\nabla u$.\n",
    "\n",
    "Notice that in these formulations $\\tau$ stands for a piecewise function that is constant on each element of the tessellation associated to the computational domain $\\Omega$."
   ]
  },
  {
   "cell_type": "markdown",
   "id": "5a958607",
   "metadata": {},
   "source": [
    "## Formal Model"
   ]
  },
  {
   "cell_type": "markdown",
   "id": "cccc1cc5",
   "metadata": {},
   "source": [
    "### Build a manifactured solution"
   ]
  },
  {
   "cell_type": "code",
   "execution_count": null,
   "id": "d742586c",
   "metadata": {},
   "outputs": [],
   "source": [
    "from sympde.expr import BilinearForm, LinearForm, integral\n",
    "from sympde.expr     import find, EssentialBC, Norm, SemiNorm\n",
    "from sympde.topology import ScalarFunctionSpace, Square, element_of\n",
    "from sympde.calculus import grad, dot, laplace\n",
    "from sympde.core     import Constant\n",
    "\n",
    "from sympy import pi, sin, Tuple\n",
    "\n",
    "domain = Square()\n",
    "\n",
    "x,y = domain.coordinates\n",
    "\n",
    "kappa = Constant('kappa', is_real=True)\n",
    "b1 = 1.\n",
    "b2 = 0.\n",
    "b = Tuple(b1, b2)\n",
    "\n",
    "L = lambda w: -kappa * laplace(w) + dot(b,grad(w))\n",
    "\n",
    "ue = sin(pi*x)*sin(pi*y)\n",
    "f = L(ue)"
   ]
  },
  {
   "cell_type": "markdown",
   "id": "76d3d381",
   "metadata": {},
   "source": [
    "You can have the full expression of **f** by calling the **TerminalExpr** as follows"
   ]
  },
  {
   "cell_type": "code",
   "execution_count": null,
   "id": "87e62069",
   "metadata": {},
   "outputs": [],
   "source": [
    "from sympde.expr import TerminalExpr\n",
    "\n",
    "print(TerminalExpr(f, domain))"
   ]
  },
  {
   "cell_type": "markdown",
   "id": "fcddd2ca",
   "metadata": {},
   "source": [
    "Let's go back now to our formal model."
   ]
  },
  {
   "cell_type": "code",
   "execution_count": null,
   "id": "e4bbd1a8",
   "metadata": {},
   "outputs": [],
   "source": [
    "V = ScalarFunctionSpace('V', domain)\n",
    "\n",
    "u,v = [element_of(V, name=i) for i in ['u', 'v']]\n",
    "\n",
    "# bilinear form\n",
    "expr = kappa * dot(grad(v), grad(u)) + dot(b, grad(u)) * v\n",
    "a = BilinearForm((u,v), integral(domain, expr))\n",
    "\n",
    "# linear form\n",
    "l = LinearForm(v, integral(domain, f*v))\n",
    "\n",
    "tau   = Constant('tau', is_real=True)\n",
    "\n",
    "# ...\n",
    "s_supg = BilinearForm((v,u), integral(domain, tau * L(u) * dot(b, grad(v))))\n",
    "\n",
    "l_supg = LinearForm(v, integral(domain, tau * f * dot(b, grad(v))))\n",
    "# ...\n",
    "\n",
    "# ...\n",
    "s_gls = BilinearForm((v,u), integral(domain, tau * L(u) * L(v)))\n",
    "\n",
    "l_gls = LinearForm(v, integral(domain, tau * f * L(v)))\n",
    "# ...\n",
    "\n",
    "# Dirichlet boundary conditions\n",
    "bc = [EssentialBC(u, 0, domain.boundary)]\n",
    "\n",
    "# Variational problem\n",
    "equation_supg = find(u, forall=v, lhs=a(u, v) + s_supg(u,v), rhs=l(v) + l_supg(v), bc=bc)\n",
    "equation_gls  = find(u, forall=v, lhs=a(u, v) + s_gls(u,v), rhs=l(v) + l_gls(v), bc=bc)"
   ]
  },
  {
   "cell_type": "markdown",
   "id": "4f983ece",
   "metadata": {},
   "source": [
    "## Discretization"
   ]
  },
  {
   "cell_type": "markdown",
   "id": "51095918",
   "metadata": {},
   "source": [
    "We shall need the **discretize** function from **PsyDAC**."
   ]
  },
  {
   "cell_type": "code",
   "execution_count": null,
   "id": "a2a0a2a1",
   "metadata": {},
   "outputs": [],
   "source": [
    "from psydac.api.discretization import discretize"
   ]
  },
  {
   "cell_type": "code",
   "execution_count": null,
   "id": "00e54163",
   "metadata": {},
   "outputs": [],
   "source": [
    "degree = [2,2]\n",
    "ncells = [8,8]"
   ]
  },
  {
   "cell_type": "code",
   "execution_count": null,
   "id": "5999c62b",
   "metadata": {},
   "outputs": [],
   "source": [
    "# Create computational domain from topological domain\n",
    "domain_h = discretize(domain, ncells=ncells, comm=None)\n",
    "\n",
    "# Create discrete spline space\n",
    "Vh = discretize(V, domain_h, degree=degree)\n",
    "\n",
    "# Discretize equation SUPG\n",
    "equation_supg_h = discretize(equation_supg, domain_h, [Vh, Vh])\n",
    "\n",
    "# Discretize equation GLS\n",
    "equation_gls_h = discretize(equation_gls, domain_h, [Vh, Vh])"
   ]
  },
  {
   "cell_type": "markdown",
   "id": "7b29fbcf",
   "metadata": {},
   "source": [
    "## Solving the PDE\n",
    "\n",
    "Since the problem is not symmetric, we shall use **gmres** for the linear solver."
   ]
  },
  {
   "cell_type": "code",
   "execution_count": null,
   "id": "67b32148",
   "metadata": {},
   "outputs": [],
   "source": [
    "equation_supg_h.set_solver('gmres', info=False, tol=1e-8)\n",
    "equation_gls_h.set_solver('gmres', info=False, tol=1e-8)"
   ]
  },
  {
   "cell_type": "code",
   "execution_count": null,
   "id": "541192ee",
   "metadata": {},
   "outputs": [],
   "source": [
    "uh_supg = equation_supg_h.solve(kappa=1.e-1, tau=1.e-3)\n",
    "uh_gls  = equation_gls_h.solve(kappa=1.e-1, tau=1.e-3)"
   ]
  },
  {
   "cell_type": "markdown",
   "id": "5174c4b5",
   "metadata": {},
   "source": [
    "## Computing the error norm"
   ]
  },
  {
   "cell_type": "markdown",
   "id": "3a31c46f",
   "metadata": {},
   "source": [
    "### Computing the $L^2$ norm"
   ]
  },
  {
   "cell_type": "code",
   "execution_count": null,
   "id": "5925c6cd",
   "metadata": {},
   "outputs": [],
   "source": [
    "u = element_of(V, name='u')\n",
    "\n",
    "# create the formal Norm object\n",
    "l2norm = Norm(u - ue, domain, kind='l2')\n",
    "\n",
    "# discretize the norm\n",
    "l2norm_h = discretize(l2norm, domain_h, Vh)\n",
    "\n",
    "# assemble the norm\n",
    "l2_error = l2norm_h.assemble(u=uh_supg)\n",
    "\n",
    "# print the result\n",
    "print('>>> SUPG = ', l2_error)\n",
    "\n",
    "# assemble the norm\n",
    "l2_error = l2norm_h.assemble(u=uh_gls)\n",
    "\n",
    "# print the result\n",
    "print('>>> GLS = ', l2_error)"
   ]
  }
 ],
 "metadata": {},
 "nbformat": 4,
 "nbformat_minor": 5
}
