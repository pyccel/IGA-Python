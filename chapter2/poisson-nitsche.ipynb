{
 "cells": [
  {
   "cell_type": "markdown",
   "id": "119eb328",
   "metadata": {},
   "source": [
    "# The Poisson equation with weak imposition of Dirichlet conditions\n"
   ]
  },
  {
   "cell_type": "markdown",
   "id": "3a5e01a2",
   "metadata": {},
   "source": [
    "In this example, we consider the following Poisson problem\n",
    "\n",
    "$$\n",
    "\\begin{align}\n",
    "  - \\nabla^2 u = f \\quad \\text{in $\\Omega$}, \\quad \\quad \n",
    "  u = g            \\quad \\text{on $\\partial \\Omega$}.\n",
    "\\end{align}\n",
    "$$"
   ]
  },
  {
   "cell_type": "markdown",
   "id": "505861ef",
   "metadata": {},
   "source": [
    "## The variational formulation\n",
    "\n",
    "$$\n",
    "\\begin{align}\n",
    "  \\text{find $u \\in V$ such that} \\quad a(u,v) = l(v) \\quad \\forall v \\in V,\n",
    "\\end{align}\n",
    "$$\n",
    "\n",
    "where \n",
    "\n",
    "- $V \\subset H^1(\\Omega)$, \n",
    "- $a(u,v) := \\int_{\\Omega} \\nabla u \\cdot \\nabla v ~ d\\Omega + \\int_{\\partial \\Omega} \\left( \\kappa u v - u \\partial_n v - v \\partial_n u \\right)~d\\partial\\Omega $,\n",
    "- $l(v) := \\int_{\\Omega} f v ~ d\\Omega + \\int_{\\partial\\Omega} \\left( \\kappa g v - g \\partial_n v \\right) ~ d\\Gamma$.\n"
   ]
  },
  {
   "cell_type": "markdown",
   "id": "d4f55f53",
   "metadata": {},
   "source": [
    "## Formal Model"
   ]
  },
  {
   "cell_type": "code",
   "execution_count": null,
   "id": "ecd1330a",
   "metadata": {},
   "outputs": [],
   "source": [
    "from sympde.expr import BilinearForm, LinearForm, integral, Norm\n",
    "from sympde.expr     import find, EssentialBC\n",
    "from sympde.topology import ScalarFunctionSpace, Square, element_of\n",
    "from sympde.calculus import grad, dot, Dn\n",
    "from sympde.core import Constant\n",
    "\n",
    "from psydac.api.discretization import discretize\n",
    "\n",
    "from sympy import pi, sin\n",
    "\n",
    "kappa = Constant('kappa', is_real=True)\n",
    "\n",
    "domain = Square()\n",
    "\n",
    "V = ScalarFunctionSpace('V', domain)\n",
    "\n",
    "x,y = domain.coordinates\n",
    "\n",
    "u,v = [element_of(V, name=i) for i in ['u', 'v']]\n",
    "\n",
    "# bilinear form\n",
    "a  = BilinearForm((u,v), integral(domain, dot(grad(v), grad(u))))\n",
    "an = BilinearForm((u,v), integral(domain.boundary, kappa*u*v - u*Dn(v) - v*Dn(u)))\n",
    "\n",
    "# linear form\n",
    "ue = sin(pi*x)*sin(pi*y)\n",
    "g  = ue\n",
    "f  = 2*pi**2*sin(pi*x)*sin(pi*y)\n",
    "\n",
    "l  = LinearForm(v, integral(domain, f*v))\n",
    "ln = LinearForm(v, integral(domain.boundary, kappa*g*v - g*Dn(v)))\n",
    "\n",
    "# Variational problem\n",
    "equation   = find(u, forall=v, lhs=a(u,v) + an(u,v), rhs=l(v) + ln(v))"
   ]
  },
  {
   "cell_type": "markdown",
   "id": "11ed2bc5",
   "metadata": {},
   "source": [
    "## Discretization"
   ]
  },
  {
   "cell_type": "code",
   "execution_count": null,
   "id": "3d86674b",
   "metadata": {},
   "outputs": [],
   "source": [
    "degree = [2,2]\n",
    "ncells = [8,8]"
   ]
  },
  {
   "cell_type": "code",
   "execution_count": null,
   "id": "94c83267",
   "metadata": {},
   "outputs": [],
   "source": [
    "# Create computational domain from topological domain\n",
    "domain_h = discretize(domain, ncells=ncells, comm=None)\n",
    "\n",
    "# Create discrete spline space\n",
    "Vh = discretize(V, domain_h, degree=degree)\n",
    "\n",
    "# Discretize equation\n",
    "equation_h = discretize(equation, domain_h, [Vh, Vh])"
   ]
  },
  {
   "cell_type": "markdown",
   "id": "85318e35",
   "metadata": {},
   "source": [
    "### Solving the PDE"
   ]
  },
  {
   "cell_type": "code",
   "execution_count": null,
   "id": "8f1b2d68",
   "metadata": {},
   "outputs": [],
   "source": [
    "equation_h.set_solver('gmres', info=False, tol=1e-8)"
   ]
  },
  {
   "cell_type": "code",
   "execution_count": null,
   "id": "e96f321c",
   "metadata": {},
   "outputs": [],
   "source": [
    "uh = equation_h.solve(kappa=1e3)"
   ]
  },
  {
   "cell_type": "markdown",
   "id": "d87fd79f",
   "metadata": {},
   "source": [
    "## Computing the error norm"
   ]
  },
  {
   "cell_type": "markdown",
   "id": "08ee5cac",
   "metadata": {},
   "source": [
    "### Computing the $L^2$ norm"
   ]
  },
  {
   "cell_type": "code",
   "execution_count": null,
   "id": "068bdb95",
   "metadata": {},
   "outputs": [],
   "source": [
    "u = element_of(V, name='u')\n",
    "\n",
    "# create the formal Norm object\n",
    "l2norm = Norm(u - ue, domain, kind='l2')\n",
    "\n",
    "# discretize the norm\n",
    "l2norm_h = discretize(l2norm, domain_h, Vh)\n",
    "\n",
    "# assemble the norm\n",
    "l2_error = l2norm_h.assemble(u=uh)\n",
    "\n",
    "# print the result\n",
    "print(l2_error)"
   ]
  }
 ],
 "metadata": {},
 "nbformat": 4,
 "nbformat_minor": 5
}
