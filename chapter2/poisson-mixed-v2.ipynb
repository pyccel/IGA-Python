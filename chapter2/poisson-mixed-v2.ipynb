{
 "cells": [
  {
   "cell_type": "markdown",
   "id": "cce2131b",
   "metadata": {},
   "source": [
    "# Second mixed formulation of the Poisson problem\n",
    "\n",
    "Here, we get an alternative formulation by not integrating by parts, the mixed term in the first formulation but in the second. The first formulation simply becomes\n",
    "\n",
    "$$\n",
    "\\begin{align}\n",
    "\\int_{\\Omega} \\mathbf{u}\\cdot \\mathbf{v}~\\mathrm{d} \\mathbf{x} +\\int_{\\Omega} \\nabla p \\cdot \\mathbf{v}~\\mathrm{d} \\mathbf{x}=0,\n",
    "\\end{align}\n",
    "$$\n",
    "\n",
    "and the second, removing immediately the boundary term due to the essential boundary condition $q=0$\n",
    "\n",
    "$$\n",
    "\\begin{align}\n",
    "\\int_{\\Omega}\\nabla \\cdot\\mathbf{u}  ~ q ~\\mathrm{d} \\mathbf{x} = -\\int_{\\Omega}  \\mathbf{u} \\cdot \\nabla q  ~\\mathrm{d} \\mathbf{x} = \\int_{\\Omega} f q ~\\mathrm{d} \\mathbf{x},\n",
    "\\end{align}\n",
    "$$\n",
    "\n",
    "which leads to the variational formulation\n",
    "\n",
    "Find $(\\mathbf{u},p) \\in L^2(\\Omega)^3 \\times H^1_0(\\Omega)$ such that\n",
    "\n",
    "$$\n",
    "\\begin{align}\n",
    "\\left\\{ \n",
    "\\begin{array}{llll}\n",
    "  \\int_{\\Omega} \\mathbf{u}\\cdot \\mathbf{v}~\\mathrm{d} \\mathbf{x} &+ \\int_{\\Omega} \\nabla p \\cdot \\mathbf{v}~\\mathrm{d} \\mathbf{x} &=0, & \\forall \\mathbf{v}\\in L^2(\\Omega)^3 \\\\\n",
    "  \\int_{\\Omega}  \\mathbf{u} \\cdot \\nabla q  ~\\mathrm{d} \\mathbf{x} & & = -\\int_{\\Omega} f q ~\\mathrm{d} \\mathbf{x}, & \\forall q\\in H^1_0(\\Omega)\n",
    "\\end{array} \\right.\n",
    "\\end{align}\n",
    "$$\n",
    "\n",
    "\n",
    "Note that this formulation actually contains the classical variational formulation for the Poisson equation. Indeed for $q\\in H^1_0(\\Omega)$, $\\nabla q \\in L^2(\\Omega)^3$ can be used as a test function in the first equation. And plugging this into the second we get\n",
    "\n",
    "$$\n",
    "\\int_{\\Omega}  \\nabla p \\cdot \\nabla q  ~\\mathrm{d} \\mathbf{x}  = \\int_{\\Omega} f q ~\\mathrm{d} \\mathbf{x}, \\quad \\forall q\\in H^1_0(\\Omega).\n",
    "$$"
   ]
  },
  {
   "cell_type": "markdown",
   "id": "fc928232",
   "metadata": {},
   "source": [
    "## Formal Model"
   ]
  },
  {
   "cell_type": "code",
   "execution_count": null,
   "id": "bcb6daca",
   "metadata": {},
   "outputs": [],
   "source": [
    "from sympde.expr import BilinearForm, LinearForm, integral\n",
    "from sympde.expr     import find, EssentialBC, Norm, SemiNorm\n",
    "from sympde.topology import (ScalarFunctionSpace, VectorFunctionSpace, Square,\n",
    "                             element_of)\n",
    "from sympde.calculus import grad, dot, div, inner\n",
    "from sympde.core     import Constant\n",
    "\n",
    "from psydac.api.discretization import discretize\n",
    "\n",
    "from sympy import pi, sin, cos, Tuple\n",
    "\n",
    "from psydac.api.discretization import discretize\n",
    "\n",
    "domain = Square()\n",
    "\n",
    "V1 = VectorFunctionSpace('V1', domain, kind='L2')\n",
    "V2 = ScalarFunctionSpace('V2', domain, kind='H1')\n",
    "X  = V1*V2\n",
    "\n",
    "x,y = domain.coordinates\n",
    "\n",
    "# rhs\n",
    "f = 2*pi**2*sin(pi*x)*sin(pi*y)\n",
    "# exact solution\n",
    "pe = sin(pi*x)*sin(pi*y)\n",
    "#ue = -grad(pe) # not working when computing the norm\n",
    "ue = Tuple(-pi*cos(pi*x)*sin(pi*y), -pi*sin(pi*x)*cos(pi*y))\n",
    "\n",
    "u,v = [element_of(V1, name=i) for i in ['u', 'v']]\n",
    "p,q = [element_of(V2, name=i) for i in ['p', 'q']]\n",
    "\n",
    "# bilinear form\n",
    "a  = BilinearForm(((u,p),(v,q)), integral(domain, dot(u,v) + dot(grad(p),v) + dot(u,grad(q))) )\n",
    "\n",
    "# linear form\n",
    "l  = LinearForm((v,q), integral(domain, -f*q))\n",
    "\n",
    "# Dirichlet boundary conditions\n",
    "bc = [EssentialBC(p, 0, domain.boundary)]\n",
    "\n",
    "# Variational problem\n",
    "equation = find([u,p], forall=[v,q], lhs=a((u,p),(v,q)), rhs=l(v,q), bc=bc)"
   ]
  },
  {
   "cell_type": "markdown",
   "id": "3cc341c5",
   "metadata": {},
   "source": [
    "## Discretization"
   ]
  },
  {
   "cell_type": "code",
   "execution_count": null,
   "id": "e5234456",
   "metadata": {},
   "outputs": [],
   "source": [
    "degree = [2,2]\n",
    "ncells = [8,8]"
   ]
  },
  {
   "cell_type": "code",
   "execution_count": null,
   "id": "1d8e59bb",
   "metadata": {},
   "outputs": [],
   "source": [
    "# Create computational domain from topological domain\n",
    "domain_h = discretize(domain, ncells=ncells, comm=None)\n",
    "\n",
    "# Create discrete spline space\n",
    "V1h = discretize(V1, domain_h, degree=degree)\n",
    "V2h = discretize(V2, domain_h, degree=degree)\n",
    "Xh  = discretize(X, domain_h, degree=degree)\n",
    "\n",
    "# Discretize equation\n",
    "equation_h = discretize(equation, domain_h, [Xh, Xh])"
   ]
  },
  {
   "cell_type": "markdown",
   "id": "4c473ba3",
   "metadata": {},
   "source": [
    "## Solving the PDE"
   ]
  },
  {
   "cell_type": "code",
   "execution_count": null,
   "id": "02abfb7d",
   "metadata": {},
   "outputs": [],
   "source": [
    "equation_h.set_solver('gmres', info=False, tol=1e-8)"
   ]
  },
  {
   "cell_type": "code",
   "execution_count": null,
   "id": "e2d935e8",
   "metadata": {},
   "outputs": [],
   "source": [
    "#uh, ph = equation_h.solve()\n",
    "\n",
    "from psydac.fem.basic          import FemField\n",
    "\n",
    "phi_h = equation_h.solve()\n",
    "\n",
    "uh = FemField(V1h)\n",
    "uh.coeffs[0][:] = phi_h.coeffs[0][:]\n",
    "uh.coeffs[1][:] = phi_h.coeffs[1][:]\n",
    "\n",
    "ph = FemField(V2h)\n",
    "ph.coeffs[:] = phi_h.coeffs[2][:]"
   ]
  },
  {
   "cell_type": "markdown",
   "id": "b7f03590",
   "metadata": {},
   "source": [
    "## Computing the error norm"
   ]
  },
  {
   "cell_type": "markdown",
   "id": "62ad7d46",
   "metadata": {},
   "source": [
    "### Computing the $L^2$ norm"
   ]
  },
  {
   "cell_type": "code",
   "execution_count": null,
   "id": "31967fb4",
   "metadata": {},
   "outputs": [],
   "source": [
    "# L2 error norm of the velocity field\n",
    "error_u   = [ue[0]-u[0], ue[1]-u[1]]\n",
    "l2norm_u  = Norm(error_u, domain, kind='l2')\n",
    "l2norm_uh = discretize(l2norm_u, domain_h, V1h)\n",
    "\n",
    "# L2 error norm of the pressure, after removing the average value from the field\n",
    "l2norm_p  = Norm(pe - p, domain, kind='l2')\n",
    "l2norm_ph = discretize(l2norm_p, domain_h, V2h)"
   ]
  },
  {
   "cell_type": "code",
   "execution_count": null,
   "id": "9c3f7e15",
   "metadata": {},
   "outputs": [],
   "source": [
    "l2norm = l2norm_uh.assemble(u=uh)\n",
    "print('>>> norm-l2 uh = ', l2norm)\n",
    "\n",
    "l2norm = l2norm_ph.assemble(p=ph)\n",
    "print('>>> norm-l2 ph = ', l2norm)"
   ]
  }
 ],
 "metadata": {},
 "nbformat": 4,
 "nbformat_minor": 5
}
