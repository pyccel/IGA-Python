{
 "cells": [
  {
   "cell_type": "markdown",
   "id": "9f28f9af",
   "metadata": {},
   "source": [
    "# Mixed FEM for the Stokes problem \n",
    "\n",
    "We consider now the Stokes problem for the steady-state modelling of an incompressible fluid\n",
    "\n",
    "$$\n",
    "\\begin{align}\n",
    "  \\left\\{\n",
    "    \\begin{array}{rl}\n",
    "      - \\nabla^2 \\mathbf{u} + \\nabla p = \\mathbf{f} & \\mbox{in} ~ \\Omega,  \\\\\n",
    "      \\nabla \\cdot \\mathbf{u}          = 0   & \\mbox{in} ~ \\Omega,  \\\\\n",
    "      \\mathbf{u}               = 0   & \\mbox{on} ~ \\partial \\Omega,\n",
    "    \\end{array}\n",
    "    \\right.\n",
    "\\end{align}\n",
    "$$"
   ]
  }
 ],
 "metadata": {},
 "nbformat": 4,
 "nbformat_minor": 5
}
