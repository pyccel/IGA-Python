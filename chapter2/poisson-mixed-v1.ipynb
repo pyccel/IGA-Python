{
 "cells": [
  {
   "cell_type": "markdown",
   "id": "cce2131b",
   "metadata": {},
   "source": [
    "# First mixed formulation of the Poisson problem\n",
    "\n",
    "Instead of having one unknown, we now have two, along with the above two equations.\n",
    "In order to get a mixed variational formulation, we first take the dot product of the first one by $ \\mathbf{v}$ and integrate by parts\n",
    "\n",
    "$$\n",
    "\\begin{align}\n",
    "\\int_{\\Omega} \\mathbf{u}\\cdot \\mathbf{v}~\\mathrm{d} \\mathbf{x} -\\int_{\\Omega} p ~ \\nabla\\cdot \\mathbf{v}~\\mathrm{d} \\mathbf{x} + \\int_{\\partial\\Omega} p ~  \\mathbf{v}\\cdot \\mathbf{n}~\\mathrm{d} \\sigma = \\int_{\\Omega} \\mathbf{u}\\cdot \\mathbf{v}~\\mathrm{d} \\mathbf{x} -\\int_{\\Omega} p ~ \\nabla\\cdot \\mathbf{v}~\\mathrm{d} \\mathbf{x}=0,\n",
    "\\end{align}\n",
    "$$\n",
    "\n",
    "using $p=0$ as a natural boundary condition. Then multiplying the second equation by $q$ and integrating yields\n",
    "\n",
    "$$\n",
    "\\begin{align}\n",
    "\\int_{\\Omega} \\nabla\\cdot\\mathbf{u} ~ q ~\\mathrm{d} \\mathbf{x} = \\int_{\\Omega} f q ~\\mathrm{d} \\mathbf{x}.\n",
    "\\end{align}\n",
    "$$\n",
    "\n",
    "No integration by parts is necessary here. And we thus get the following mixed variational formulation:\n",
    "\n",
    "Find $(\\mathbf{u},p) \\in H(\\mathrm{div},\\Omega)\\times L^2(\\Omega)$ such that\n",
    "\n",
    "$$\n",
    "\\begin{align}\n",
    "\\left\\{ \n",
    "\\begin{array}{llll}\n",
    "  \\int_{\\Omega} \\mathbf{u}\\cdot \\mathbf{v}~\\mathrm{d} \\mathbf{x} &- \\int_{\\Omega} p ~ \\nabla\\cdot \\mathbf{v}~\\mathrm{d} \\mathbf{x} &=0, & \\forall \\mathbf{v}\\in H(\\mathrm{div},\\Omega) \\\\\n",
    "  \\int_{\\Omega} \\nabla\\cdot\\mathbf{u} ~ q ~\\mathrm{d} \\mathbf{x} &  &= \\int_{\\Omega} f q ~\\mathrm{d} \\mathbf{x}, & \\forall q\\in L^2(\\Omega)\n",
    "\\end{array} \\right.\n",
    "\\end{align}\n",
    "$$"
   ]
  },
  {
   "cell_type": "markdown",
   "id": "fc928232",
   "metadata": {},
   "source": [
    "## Formal Model"
   ]
  },
  {
   "cell_type": "code",
   "execution_count": null,
   "id": "bcb6daca",
   "metadata": {},
   "outputs": [],
   "source": [
    "from sympde.expr import BilinearForm, LinearForm, integral\n",
    "from sympde.expr     import find, EssentialBC, Norm, SemiNorm\n",
    "from sympde.topology import (ScalarFunctionSpace, VectorFunctionSpace, Square,\n",
    "                             element_of)\n",
    "from sympde.calculus import grad, dot, div, inner\n",
    "from sympde.core     import Constant\n",
    "\n",
    "from psydac.api.discretization import discretize\n",
    "\n",
    "from sympy import pi, sin, cos, Tuple\n",
    "\n",
    "from psydac.api.discretization import discretize\n",
    "\n",
    "domain = Square()\n",
    "\n",
    "V1 = VectorFunctionSpace('V1', domain, kind='Hdiv')\n",
    "V2 = ScalarFunctionSpace('V2', domain, kind='L2')\n",
    "X  = V1*V2\n",
    "\n",
    "x,y = domain.coordinates\n",
    "\n",
    "# rhs\n",
    "f = 2*pi**2*sin(pi*x)*sin(pi*y)\n",
    "# exact solution\n",
    "pe = sin(pi*x)*sin(pi*y)\n",
    "#ue = -grad(pe) # not working when computing the norm\n",
    "ue = Tuple(-pi*cos(pi*x)*sin(pi*y), -pi*sin(pi*x)*cos(pi*y))\n",
    "\n",
    "u,v = [element_of(V1, name=i) for i in ['u', 'v']]\n",
    "p,q = [element_of(V2, name=i) for i in ['p', 'q']]\n",
    "\n",
    "# bilinear form\n",
    "a  = BilinearForm(((u,p),(v,q)), integral(domain, dot(u,v) - p*div(v) + div(u)*q) )\n",
    "\n",
    "# linear form\n",
    "l  = LinearForm((v,q), integral(domain, f*q))\n",
    "\n",
    "# Variational problem\n",
    "equation = find([u,p], forall=[v,q], lhs=a((u,p),(v,q)), rhs=l(v,q))"
   ]
  },
  {
   "cell_type": "markdown",
   "id": "3cc341c5",
   "metadata": {},
   "source": [
    "## Discretization"
   ]
  },
  {
   "cell_type": "code",
   "execution_count": null,
   "id": "e5234456",
   "metadata": {},
   "outputs": [],
   "source": [
    "degree = [2,2]\n",
    "ncells = [8,8]"
   ]
  },
  {
   "cell_type": "code",
   "execution_count": null,
   "id": "1d8e59bb",
   "metadata": {},
   "outputs": [],
   "source": [
    "# Create computational domain from topological domain\n",
    "domain_h = discretize(domain, ncells=ncells, comm=None)\n",
    "\n",
    "# Create discrete spline space\n",
    "V1h = discretize(V1, domain_h, degree=degree)\n",
    "V2h = discretize(V2, domain_h, degree=degree)\n",
    "Xh  = discretize(X, domain_h, degree=degree)\n",
    "\n",
    "# Discretize equation\n",
    "equation_h = discretize(equation, domain_h, [Xh, Xh])"
   ]
  },
  {
   "cell_type": "markdown",
   "id": "4c473ba3",
   "metadata": {},
   "source": [
    "## Solving the PDE"
   ]
  },
  {
   "cell_type": "code",
   "execution_count": null,
   "id": "02abfb7d",
   "metadata": {},
   "outputs": [],
   "source": [
    "equation_h.set_solver('gmres', info=False, tol=1e-8)"
   ]
  },
  {
   "cell_type": "code",
   "execution_count": null,
   "id": "e2d935e8",
   "metadata": {},
   "outputs": [],
   "source": [
    "#uh, ph = equation_h.solve()\n",
    "\n",
    "from psydac.fem.basic          import FemField\n",
    "\n",
    "phi_h = equation_h.solve()\n",
    "\n",
    "uh = FemField(V1h)\n",
    "uh.coeffs[0][:] = phi_h.coeffs[0][:]\n",
    "uh.coeffs[1][:] = phi_h.coeffs[1][:]\n",
    "\n",
    "ph = FemField(V2h)\n",
    "ph.coeffs[:] = phi_h.coeffs[2][:]"
   ]
  },
  {
   "cell_type": "markdown",
   "id": "9c790f00",
   "metadata": {},
   "source": [
    "## Computing the error norm"
   ]
  },
  {
   "cell_type": "markdown",
   "id": "432b8d59",
   "metadata": {},
   "source": [
    "### Computing the $L^2$ norm"
   ]
  },
  {
   "cell_type": "code",
   "execution_count": null,
   "id": "b6c85077",
   "metadata": {},
   "outputs": [],
   "source": [
    "# L2 error norm of the velocity field\n",
    "error_u   = [ue[0]-u[0], ue[1]-u[1]]\n",
    "l2norm_u  = Norm(error_u, domain, kind='l2')\n",
    "l2norm_uh = discretize(l2norm_u, domain_h, V1h)\n",
    "\n",
    "# L2 error norm of the pressure, after removing the average value from the field\n",
    "l2norm_p  = Norm(pe - p, domain, kind='l2')\n",
    "l2norm_ph = discretize(l2norm_p, domain_h, V2h)"
   ]
  },
  {
   "cell_type": "code",
   "execution_count": null,
   "id": "52fdeaec",
   "metadata": {},
   "outputs": [],
   "source": [
    "l2norm = l2norm_uh.assemble(u=uh)\n",
    "print('>>> norm-l2 uh = ', l2norm)\n",
    "\n",
    "l2norm = l2norm_ph.assemble(p=ph)\n",
    "print('>>> norm-l2 ph = ', l2norm)"
   ]
  }
 ],
 "metadata": {},
 "nbformat": 4,
 "nbformat_minor": 5
}
