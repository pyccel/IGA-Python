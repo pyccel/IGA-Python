{
 "cells": [
  {
   "cell_type": "markdown",
   "id": "9f28f9af",
   "metadata": {},
   "source": [
    "# The Poisson equation\n",
    "\n",
    "As a first example, we consider the Poisson equation\n",
    "\n",
    "$$\n",
    "\\begin{align}\n",
    "  - \\nabla^2 u = f \\quad &\\text{in $\\Omega$}, \\\\ \n",
    "  u = 0            \\quad &\\text{on $\\Gamma_0$}, \\\\\n",
    "  u = g_i            \\quad &\\text{on $\\Gamma_I$}, \\\\\n",
    "  \\partial_n u = g_n \\quad &\\text{on $\\Gamma_N := \\partial \\Omega \\setminus \\left( \\Gamma_0 \\cup \\Gamma_I \\right)$}.\n",
    "\\end{align}\n",
    "$$\n",
    "\n",
    "## Variational Formulation\n",
    "\n",
    "An $H^1$-conforming variational formulation of reads\n",
    "\n",
    "$$\n",
    "\\begin{align}\n",
    "  \\text{find $u \\in V$ such that} \\quad a(u,v) = l(v) \\quad \\forall v \\in V,\n",
    "\\end{align}\n",
    "$$\n",
    "\n",
    "where \n",
    "\n",
    "- $V \\subset H^1(\\Omega)$, \n",
    "- $a(u,v) := \\int_{\\Omega} \\nabla u \\cdot \\nabla v ~ d\\Omega$,\n",
    "- $l(v) := \\int_{\\Omega} f v ~ d\\Omega + \\int_{\\Gamma_N} g_n v ~ d\\Gamma$."
   ]
  },
  {
   "cell_type": "markdown",
   "id": "5a958607",
   "metadata": {},
   "source": [
    "## Formal Model"
   ]
  },
  {
   "cell_type": "code",
   "execution_count": null,
   "id": "d742586c",
   "metadata": {},
   "outputs": [],
   "source": [
    "from sympde.expr     import BilinearForm, LinearForm, integral\n",
    "from sympde.expr     import find, EssentialBC, Norm, SemiNorm\n",
    "from sympde.topology import ScalarFunctionSpace, Square, element_of\n",
    "from sympde.calculus import grad, dot, laplace\n",
    "from sympde.topology import NormalVector, Union\n",
    "\n",
    "from sympy           import pi, sin\n",
    "\n",
    "from psydac.api.discretization import discretize\n",
    "\n",
    "domain = Square()\n",
    "Gamma_0 = domain.get_boundary(axis=0, ext=-1)\n",
    "Gamma_i = domain.get_boundary(axis=0, ext=1)\n",
    "Gamma_n = domain.boundary.complement(Union(Gamma_0, Gamma_i))\n",
    "nn = NormalVector('nn')\n",
    "\n",
    "V = ScalarFunctionSpace('V', domain)\n",
    "\n",
    "x,y = domain.coordinates\n",
    "\n",
    "u,v = [element_of(V, name=i) for i in ['u', 'v']]\n",
    "\n",
    "# bilinear form\n",
    "a = BilinearForm((u,v), integral(domain , dot(grad(v), grad(u))))\n",
    "\n",
    "# exact solution\n",
    "ue = sin(pi*x) * (1+y*sin(pi*y/3))**2\n",
    "L = lambda w: - laplace(w)\n",
    "f = L(ue)\n",
    "gi = ue\n",
    "gn = ue\n",
    "\n",
    "# linear form\n",
    "l = LinearForm(v, integral(domain, f*v))\n",
    "\n",
    "# Boundary term for the Neumann BC\n",
    "ln = LinearForm(v, integral(Gamma_n, v * dot(grad(gn), nn)))\n",
    "\n",
    "# Dirichlet boundary conditions\n",
    "bc  = [EssentialBC(u,  0, Gamma_0)]\n",
    "bc += [EssentialBC(u, gi, Gamma_i)]\n",
    "\n",
    "# Variational problem\n",
    "equation   = find(u, forall=v, lhs=a(u, v), rhs=l(v)+ln(v), bc=bc)"
   ]
  },
  {
   "cell_type": "markdown",
   "id": "4f983ece",
   "metadata": {},
   "source": [
    "## Discretization"
   ]
  },
  {
   "cell_type": "code",
   "execution_count": null,
   "id": "00e54163",
   "metadata": {},
   "outputs": [],
   "source": [
    "degree = [2,2]\n",
    "ncells = [8,8]"
   ]
  },
  {
   "cell_type": "code",
   "execution_count": null,
   "id": "5999c62b",
   "metadata": {},
   "outputs": [],
   "source": [
    "# Create computational domain from topological domain\n",
    "domain_h = discretize(domain, ncells=ncells, comm=None)\n",
    "\n",
    "# Create discrete spline space\n",
    "Vh = discretize(V, domain_h, degree=degree)\n",
    "\n",
    "# Discretize equation\n",
    "equation_h = discretize(equation, domain_h, [Vh, Vh])"
   ]
  },
  {
   "cell_type": "markdown",
   "id": "7b29fbcf",
   "metadata": {},
   "source": [
    "## Solving the PDE"
   ]
  },
  {
   "cell_type": "code",
   "execution_count": null,
   "id": "004dfdb3",
   "metadata": {},
   "outputs": [],
   "source": [
    "equation_h.set_solver('gmres', info=False, tol=1e-8)"
   ]
  },
  {
   "cell_type": "code",
   "execution_count": null,
   "id": "541192ee",
   "metadata": {},
   "outputs": [],
   "source": [
    "uh = equation_h.solve()"
   ]
  },
  {
   "cell_type": "markdown",
   "id": "5174c4b5",
   "metadata": {},
   "source": [
    "## Computing the error norm\n",
    "\n",
    "When the analytical solution is available, you might be interested in computing the $L^2$ norm or $H^1_0$ semi-norm.\n",
    "SymPDE allows you to do so, by creating the **Norm** object.\n",
    "In this example, the analytical solution is given by\n",
    "\n",
    "$$\n",
    "u_e = \\sin(\\pi x) \\sin(\\pi y)\n",
    "$$"
   ]
  },
  {
   "cell_type": "markdown",
   "id": "3a31c46f",
   "metadata": {},
   "source": [
    "### Computing the $L^2$ norm"
   ]
  },
  {
   "cell_type": "code",
   "execution_count": null,
   "id": "5925c6cd",
   "metadata": {},
   "outputs": [],
   "source": [
    "u = element_of(V, name='u')\n",
    "\n",
    "# create the formal Norm object\n",
    "l2norm = Norm(u - ue, domain, kind='l2')\n",
    "\n",
    "# discretize the norm\n",
    "l2norm_h = discretize(l2norm, domain_h, Vh)\n",
    "\n",
    "# assemble the norm\n",
    "l2_error = l2norm_h.assemble(u=uh)\n",
    "\n",
    "# print the result\n",
    "print(l2_error)"
   ]
  },
  {
   "cell_type": "markdown",
   "id": "a6cbfeae",
   "metadata": {},
   "source": [
    "### Computing the $H^1$ semi-norm"
   ]
  },
  {
   "cell_type": "code",
   "execution_count": null,
   "id": "e5c1a8b8",
   "metadata": {},
   "outputs": [],
   "source": [
    "# create the formal Norm object\n",
    "h1norm = SemiNorm(u - ue, domain, kind='h1')\n",
    "\n",
    "# discretize the norm\n",
    "h1norm_h = discretize(h1norm, domain_h, Vh)\n",
    "\n",
    "# assemble the norm\n",
    "h1_error = h1norm_h.assemble(u=uh)\n",
    "\n",
    "# print the result\n",
    "print(h1_error)"
   ]
  },
  {
   "cell_type": "markdown",
   "id": "3c09131c",
   "metadata": {},
   "source": [
    "### Computing the $H^1$ norm"
   ]
  },
  {
   "cell_type": "code",
   "execution_count": null,
   "id": "d829e410",
   "metadata": {},
   "outputs": [],
   "source": [
    "# create the formal Norm object\n",
    "h1norm = Norm(u - ue, domain, kind='h1')\n",
    "\n",
    "# discretize the norm\n",
    "h1norm_h = discretize(h1norm, domain_h, Vh)\n",
    "\n",
    "# assemble the norm\n",
    "h1_error = h1norm_h.assemble(u=uh)\n",
    "\n",
    "# print the result\n",
    "print(h1_error)"
   ]
  }
 ],
 "metadata": {},
 "nbformat": 4,
 "nbformat_minor": 5
}
