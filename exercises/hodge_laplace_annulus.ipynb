{
 "cells": [
  {
   "cell_type": "markdown",
   "metadata": {},
   "source": [
    "## Obtain the Annulus Domain"
   ]
  },
  {
   "cell_type": "code",
   "execution_count": null,
   "metadata": {},
   "outputs": [],
   "source": [
    "import  numpy as np\n",
    "\n",
    "from    sympde.topology            import Square, PolarMapping\n",
    "from    sympde.utilities.utils     import plot_domain\n",
    "\n",
    "# rmin and rmax define the inner and outer radius of the annulus\n",
    "rmin, rmax      = 0.3, 1.\n",
    "\n",
    "logical_domain  = Square('S', bounds1=(0., 1.), bounds2=(0., 2*np.pi))\n",
    "F               = PolarMapping('A', dim=2, c1=0., c2=0., rmin=rmin, rmax=rmax)\n",
    "domain          = F(logical_domain)\n",
    "\n",
    "# periodicity of the domain\n",
    "periodic        = [False, True] \n",
    "\n",
    "plot_domain(domain, draw=True, isolines=True)"
   ]
  },
  {
   "cell_type": "markdown",
   "metadata": {},
   "source": [
    "## Discrete Model using de Rham objects\n",
    "\n",
    "### Derham and Mass Matrices First"
   ]
  },
  {
   "cell_type": "code",
   "execution_count": null,
   "metadata": {},
   "outputs": [],
   "source": [
    "from sympde.calculus            import dot\n",
    "from sympde.expr                import LinearForm, BilinearForm, integral\n",
    "from sympde.topology            import elements_of, Derham\n",
    "\n",
    "derham = Derham(domain, sequence=['h1', 'hcurl', 'l2'])\n",
    "\n",
    "V0      = derham.V0\n",
    "V1      = derham.V1\n",
    "V2      = derham.V2\n",
    "\n",
    "u0, v0  = elements_of(V0, names='u0, v0')\n",
    "u1, v1  = elements_of(V1, names='u1, v1')\n",
    "u2, v2  = elements_of(V2, names='u2, v2')\n",
    "\n",
    "# bilinear forms corresponding to V0, V1 and V2 mass matrices\n",
    "m0      = BilinearForm((u0, v0), integral(domain, u0*v0))\n",
    "m1      = BilinearForm((u1, v1), integral(domain, dot(u1, v1)))\n",
    "m2      = BilinearForm((u2, v2), integral(domain, u2*v2))"
   ]
  },
  {
   "cell_type": "code",
   "execution_count": null,
   "metadata": {},
   "outputs": [],
   "source": [
    "from psydac.api.discretization  import discretize\n",
    "from psydac.api.settings        import PSYDAC_BACKEND_GPYCCEL\n",
    "\n",
    "backend = PSYDAC_BACKEND_GPYCCEL"
   ]
  },
  {
   "cell_type": "code",
   "execution_count": null,
   "metadata": {},
   "outputs": [],
   "source": [
    "ncells  = [32, 32]      # Bspline cells\n",
    "degree  = [4, 4]        # Bspline degree"
   ]
  },
  {
   "cell_type": "code",
   "execution_count": null,
   "metadata": {},
   "outputs": [],
   "source": [
    "# discretize domain and derham\n",
    "domain_h    = discretize(domain, ncells=ncells, periodic=periodic)\n",
    "derham_h    = discretize(derham, domain_h, degree=degree)\n",
    "\n",
    "# define FEM spaces V0_h, V1_h and V2_h\n",
    "V0h         = derham_h.V0\n",
    "V1h         = derham_h.V1\n",
    "V2h         = derham_h.V2\n",
    "\n",
    "# Commuting projection operators\n",
    "P0, P1, P2  = derham_h.projectors()\n",
    "\n",
    "# Exterior derivative operators (grad and curl)\n",
    "G, C        = derham_h.derivatives_as_matrices\n",
    "Gt          = G.T\n",
    "Ct          = C.T\n",
    "\n",
    "# Mass matrices\n",
    "m0_h        = discretize(m0, domain_h, (V0h, V0h), backend=backend)\n",
    "m1_h        = discretize(m1, domain_h, (V1h, V1h), backend=backend)\n",
    "m2_h        = discretize(m2, domain_h, (V2h, V2h), backend=backend)\n",
    "\n",
    "M0          = m0_h.assemble()\n",
    "M1          = m1_h.assemble()\n",
    "M2          = m2_h.assemble()"
   ]
  },
  {
   "cell_type": "markdown",
   "metadata": {},
   "source": [
    "## Boundary Conditions\n",
    "\n",
    "We choose to apply the projection method. For that matter, we use the projection matrices\n",
    "$$\n",
    "\\begin{align*}\n",
    "    &\\mathbb{P}_{H_0^1}, \\text{ projecting into the coefficients space of functions in }H_0^1 \\\\\n",
    "    &\\mathbb{P}_{H_0(curl)}, \\text{ projecting into the coefficients space of functions in }H_0(curl)\n",
    "\\end{align*}\n",
    "$$\n",
    "as well as the projection matrices\n",
    "$$\n",
    "\\begin{align*}\n",
    "    &\\mathbb{P}_{H_0^1}^{\\Gamma} = \\mathbb{I}_0 - \\mathbb{P}_{H_0^1} \\\\\n",
    "    &\\mathbb{P}_{H_0(curl)}^{\\Gamma} = \\mathbb{I}_1 - \\mathbb{P}_{H_0(curl)}\n",
    "\\end{align*}\n",
    "$$\n",
    "The latter two matrices are used for stabilization purposes, i.e., in order to keep the system matrix non-singular."
   ]
  },
  {
   "cell_type": "code",
   "execution_count": null,
   "metadata": {},
   "outputs": [],
   "source": [
    "from psydac.linalg.basic    import IdentityOperator\n",
    "\n",
    "from utils                  import H1BoundaryProjector2D, HcurlBoundaryProjector2D\n",
    "\n",
    "P_H1            = H1BoundaryProjector2D(V0, V0h.coeff_space, periodic=periodic)\n",
    "P_Hcurl         = HcurlBoundaryProjector2D(V1, V1h.coeff_space, periodic=periodic)\n",
    "\n",
    "I0              = IdentityOperator(V0h.coeff_space)\n",
    "I1              = IdentityOperator(V1h.coeff_space)\n",
    "\n",
    "P_H1_Gamma      = I0 - P_H1\n",
    "P_Hcurl_Gamma   = I1 - P_Hcurl"
   ]
  },
  {
   "cell_type": "markdown",
   "metadata": {},
   "source": [
    "## Boundary Conditions and inverse Matrices\n",
    "\n",
    "Let us denote the interior coefficients by a subscript $I$ and the exterior coefficients by a subscript $\\Gamma$. Suppose we want to solve the linear system\n",
    "$$\n",
    "\\begin{align*}\n",
    "    \\mathbb{M}_{I,I} x_{I} = b_{I}\n",
    "\\end{align*}\n",
    "$$\n",
    "but we only have access to the larger matrices and vectors\n",
    "$$\n",
    "\\begin{align*}\n",
    "    &\\mathbb{M} = \\left(\\begin{matrix} \\mathbb{M}_{I,I} && \\mathbb{M}_{I,\\Gamma} \\\\\n",
    "                                      \\mathbb{M}_{\\Gamma,I} && \\mathbb{M}_{\\Gamma,\\Gamma}\n",
    "                       \\end{matrix}\\right), \\\\\n",
    "    &b = \\left(\\begin{matrix} b_{I} \\\\\n",
    "                               b_{\\Gamma}\n",
    "                \\end{matrix}\\right).\n",
    "\\end{align*}\n",
    "$$\n",
    "One way to do this is to solve the following system\n",
    "$$\n",
    "\\begin{align*}\n",
    "    \\left(\\begin{matrix} \\mathbb{M}_{I,I} && \\mathbb{0} \\\\\n",
    "                                      \\mathbb{0} && \\mathbb{I}_{\\Gamma,\\Gamma}\n",
    "          \\end{matrix}\\right)\n",
    "    \\left(\\begin{matrix} x_{I} \\\\ x_{\\Gamma} \\end{matrix}\\right) = \n",
    "    \\left(\\begin{matrix} b_{I} \\\\ 0 \\end{matrix}\\right)\n",
    "\\end{align*}\n",
    "$$"
   ]
  },
  {
   "cell_type": "code",
   "execution_count": null,
   "metadata": {},
   "outputs": [],
   "source": [
    "from psydac.linalg.solvers import inverse\n",
    "\n",
    "M0_0    = P_H1 @ M0 @ P_H1 + P_H1_Gamma\n",
    "M0_inv  = inverse(M0_0, 'cg', maxiter=1000, tol=1e-9)"
   ]
  },
  {
   "cell_type": "markdown",
   "metadata": {},
   "source": [
    "# Build the discrete $\\mathcal{L}_h^1$ operator in sparse format\n",
    "\n",
    "Psydac does not offer a direct way to access eigenvalues and -vectors of matrices.\n",
    "However, we can transform our operators to scipy.sparse format and use scipy's `eigsh` method.\n",
    "\n",
    "We want our solution vector field $A$ to be an element of $(\\mathfrak{h}_h^1)^{\\perp}$, \n",
    "and it holds $\\ker\\mathcal{L}_h^1 = \\mathfrak{h}_h^1$.\n",
    "\n",
    "Because the annulus has one whole, and hence the space of harmonic forms is of dimension 1, we want to compute the first eigenvector (corresponding to the eigenvalue $0$) of the operator\n",
    "$$\n",
    "\\mathcal{L}_h^1 = \\widetilde{\\boldsymbol{curl}}_h\\ curl - \\boldsymbol{grad}\\ \\widetilde{div}_h\n",
    "$$\n",
    "in order to later enforce the orthogonality constraint."
   ]
  },
  {
   "cell_type": "code",
   "execution_count": null,
   "metadata": {},
   "outputs": [],
   "source": [
    "from scipy.sparse           import csc_matrix, bmat\n",
    "from scipy.sparse.linalg    import inv\n",
    "\n",
    "# Sparse representations of projection operators\n",
    "P_H1_sp             = csc_matrix(P_H1.toarray())\n",
    "P_Hcurl_sp          = csc_matrix(P_Hcurl.toarray())\n",
    "\n",
    "I0_sp               = csc_matrix(I0.toarray())\n",
    "I1_sp               = csc_matrix(I1.toarray())\n",
    "\n",
    "P_H1_Gamma_sp       = I0_sp - P_H1_sp\n",
    "P_Hcurl_Gamma_sp    = I1_sp - P_Hcurl_sp\n",
    "\n",
    "# Sparse representations of mass matrices and differentiation operators\n",
    "M0_sp               = M0.tosparse()\n",
    "M1_sp               = M1.tosparse()\n",
    "M2_sp               = M2.tosparse()\n",
    "\n",
    "G_sp                = G.tosparse()\n",
    "C_sp                = C.tosparse()\n",
    "\n",
    "Gt_sp               = G_sp.transpose()\n",
    "Ct_sp               = C_sp.transpose()\n",
    "\n",
    "# It can be shown that for the projection method to work \n",
    "# we need a modified version of the gradient operator\n",
    "G_sp_0              = G.tosparse() @ P_H1_sp\n",
    "Gt_sp_0             = G_sp_0.transpose()\n",
    "\n",
    "# ... and of course the correct inverse M0 mass matrix in its sparse representation\n",
    "M0_sp_0             = P_H1_sp @ M0.tosparse() @ P_H1_sp + P_H1_Gamma_sp\n",
    "inv_M0_sp           = inv(M0_sp_0.tocsc())\n",
    "inv_M0_sp.eliminate_zeros()\n",
    "\n",
    "# For this complex operator, the projection method consists of using the modified gradient\n",
    "L1_sp               = Ct_sp @ M2_sp @ C_sp + M1_sp @ G_sp_0 @ inv_M0_sp @ Gt_sp_0 @ M1_sp\n",
    "# ... and the projection matrices as usual\n",
    "L1_sp_bc            = P_Hcurl_sp @ L1_sp @ P_Hcurl_sp + P_Hcurl_Gamma_sp"
   ]
  },
  {
   "cell_type": "markdown",
   "metadata": {},
   "source": [
    "# Compute first eigenvector of $\\mathcal{L}_h^1$"
   ]
  },
  {
   "cell_type": "code",
   "execution_count": null,
   "metadata": {},
   "outputs": [],
   "source": [
    "from utils                  import get_eigenvalues\n",
    "\n",
    "dim_harmonic_space          = 1\n",
    "eigenvalues, eigenvectors   = get_eigenvalues(dim_harmonic_space, 1e-6, L1_sp_bc, M1_sp)\n",
    "\n",
    "# A basis of the vector space of harmonic forms (hf)\n",
    "hf                  = eigenvectors[:,0]\n",
    "# Obtain the eigenvector as a \"row csc_matrix (1 x n)\"\n",
    "hft_sp              = csc_matrix(hf)\n",
    "# ... and as a \"column csc_matrix (n x 1)\"\n",
    "hf_sp               = hft_sp.transpose()"
   ]
  },
  {
   "cell_type": "markdown",
   "metadata": {},
   "source": [
    "# Build system matrix in sparse format\n",
    "... and apply projection method to enforce boundary conditions"
   ]
  },
  {
   "cell_type": "code",
   "execution_count": null,
   "metadata": {},
   "outputs": [],
   "source": [
    "# System matrix without taking BCs into account\n",
    "A_sp = bmat([[M0_sp,            Gt_sp @ M1_sp,          None],\n",
    "             [M1_sp @ G_sp,     Ct_sp @ M2_sp @ C_sp,   M1_sp @ hf_sp],\n",
    "             [None,             hft_sp @ M1_sp,         None]])\n",
    "\n",
    "ZERO    = csc_matrix(np.array([0]))\n",
    "ONE     = csc_matrix(np.array([1]))\n",
    "\n",
    "P       = bmat([[P_H1_sp, None,       None],\n",
    "                [None,    P_Hcurl_sp, None],\n",
    "                [None,    None,       ONE]])\n",
    "\n",
    "P_Gamma = bmat([[P_H1_Gamma_sp, None,               None],\n",
    "                [None,          P_Hcurl_Gamma_sp,   None],\n",
    "                [None,          None,               ZERO]])\n",
    "\n",
    "# System matrix taking BCs into account\n",
    "A_sp_bc = P @ A_sp @ P + P_Gamma"
   ]
  },
  {
   "cell_type": "markdown",
   "metadata": {},
   "source": [
    "# Method of manufactured solution\n",
    "\n",
    "In order to test our code, we employ the method of manufactured solution.\n",
    "We start from the true $\\boldsymbol{A}\\in H_0(curl;\\Omega),\\ div\\ \\boldsymbol{A} = 0$\n",
    "$$\n",
    "\\boldsymbol{A}(x, y) = \\frac{1}{(x^2 + y^2)^{3/2}}\\left(\\begin{matrix} xy \\\\ y^2 \\end{matrix}\\right)\n",
    "$$\n",
    "Because the r.h.s. of the discrete variational formulation reads\n",
    "$$\n",
    "r.h.s. = \\left(\\begin{matrix} \\mathbb{0} \\\\ (\\boldsymbol{v},\\ \\boldsymbol{J}) \\\\ \\mathbb{0} \\end{matrix}\\right)\n",
    "$$\n",
    "and because $\\boldsymbol{J} = \\boldsymbol{curl}\\ curl\\ \\boldsymbol{A}$, the r.h.s. of the linear system becomes\n",
    "$$\n",
    "r.h.s. = \\left(\\begin{matrix} \\mathbb{0} \\\\ \\mathbb{C}^T\\mathbb{M}_2\\mathbb{C}\\mathbb{A} \\\\ \\mathbb{0} \\end{matrix}\\right)\n",
    "$$\n",
    "with $\\mathbb{A}$ being the coefficient vector of discrete $\\boldsymbol{A}$. If our code is correct, we will obtain approximately $\\mathbb{A}$ as second component of the solution vector."
   ]
  },
  {
   "cell_type": "code",
   "execution_count": null,
   "metadata": {},
   "outputs": [],
   "source": [
    "# Define exact solution A_ex for method of manufactured solution\n",
    "r       = lambda x, y : np.sqrt(x**2 + y**2)\n",
    "A_ex_1  = lambda x, y : (x*y)  / (r(x,y)**3)\n",
    "A_ex_2  = lambda x, y : (y**2) / (r(x,y)**3)\n",
    "\n",
    "A_ex            = (A_ex_1, A_ex_2)\n",
    "A_ex_FemField   = P1(A_ex)\n",
    "A_ex_coeffs     = A_ex_FemField.coeffs\n",
    "\n",
    "# First component of rhs\n",
    "rhs1_nparray    = np.zeros(V0h.nbasis)\n",
    "\n",
    "# Second component of rhs\n",
    "rhs2_nparray    = (P_Hcurl @ Ct @ M2 @ C @ A_ex_coeffs ).toarray()\n",
    "\n",
    "# Third component of rhs\n",
    "rhs3_nparray    = np.zeros(dim_harmonic_space)\n",
    "\n",
    "# Full rhs\n",
    "rhs_nparray     = np.block([rhs1_nparray, rhs2_nparray, rhs3_nparray])\n",
    "\n",
    "# -------------- direct solve with scipy spsolve ---------------\n",
    "import  time\n",
    "from    scipy.sparse.linalg import spsolve\n",
    "t0 = time.time()\n",
    "sol_nparray = spsolve(A_sp_bc.asformat('csr'), rhs_nparray)\n",
    "t1 = time.time()\n",
    "# --------------------------------------------------------------"
   ]
  },
  {
   "cell_type": "markdown",
   "metadata": {},
   "source": [
    "## Error Analysis"
   ]
  },
  {
   "cell_type": "code",
   "execution_count": null,
   "metadata": {},
   "outputs": [],
   "source": [
    "sigmah_nparray  = sol_nparray[:V0h.nbasis]\n",
    "Ah_nparray      = sol_nparray[V0h.nbasis:V0h.nbasis + V1h.nbasis]\n",
    "ph_nparray      = sol_nparray[V0h.nbasis+V1h.nbasis:]\n",
    "\n",
    "from psydac.linalg.utilities import array_to_psydac\n",
    "Ah_coeffs       = array_to_psydac(Ah_nparray, V1h.coeff_space)\n",
    "\n",
    "error           = A_ex_coeffs - Ah_coeffs\n",
    "l2_error        = np.sqrt( error.dot(M1 @ error) )\n",
    "\n",
    "# print the result\n",
    "print( '> Grid          :: [{ne1},{ne2}]'.format( ne1=ncells[0], ne2=ncells[1]) )\n",
    "print( '> Degree        :: [{p1},{p2}]'  .format( p1=degree[0], p2=degree[1] ) )\n",
    "print( '> L2 error      :: {:.2e}'.format( l2_error ) )\n",
    "print( '' )\n",
    "print( '> Solution time :: {:.3g}'.format( t1-t0 ) )"
   ]
  }
 ],
 "metadata": {},
 "nbformat": 4,
 "nbformat_minor": 2
}
