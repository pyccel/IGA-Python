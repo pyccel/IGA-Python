{
 "cells": [
  {
   "cell_type": "markdown",
   "metadata": {},
   "source": [
    "**Note: This notebook must be changed by the student. As it is now, it does not approximate the solution to the Poisson problem!**"
   ]
  },
  {
   "cell_type": "markdown",
   "metadata": {},
   "source": [
    "# 2D Poisson Solver on the Unit Square\n",
    "## ... using Psydac's de Rham interface\n",
    "\n",
    "In this exercise we write a solver for the 2D Poisson problem on the unit square using Psydac's bilinear form interface.\n",
    "\n",
    "\\begin{align*}\n",
    "    -\\Delta\\phi &= f \\quad \\text{ in }\\Omega=]0,1[^2, \\\\\n",
    "    \\phi &= 0 \\quad \\text{ on }\\partial\\Omega,\n",
    "\\end{align*}\n",
    "for the specific choice\n",
    "\\begin{align*}\n",
    "    f(x, y) = [ (-x^4 + x^3 + (-y^2 + \\pi^2)x^2 + (y^2 - 4y - \\pi^2)x + 2y - 2)  \\sin(\\pi y) + (2\\pi x^2(1-x))  \\cos(\\pi y)]  e^{xy}\n",
    "\\end{align*}\n",
    "\n",
    "## The Variational Formulation\n",
    "\n",
    "The corresponding variational formulation reads\n",
    "\n",
    "\\begin{align*}\n",
    "    \\text{Find }\\phi\\in V\\coloneqq H_0^1(\\Omega)\\text{ such that } \\\\\n",
    "    a(\\phi, \\psi) = l(\\psi)\\quad\\forall\\ \\psi\\in V\n",
    "\\end{align*}\n",
    "\n",
    "where \n",
    "- $a(\\phi,\\psi) \\coloneqq \\int_{\\Omega} \\nabla\\phi\\cdot\\nabla\\psi ~ d\\Omega$,\n",
    "- $l(\\psi) := \\int_{\\Omega} f\\psi ~ d\\Omega$."
   ]
  },
  {
   "cell_type": "markdown",
   "metadata": {},
   "source": [
    "## Discrete Model using de Rham objects"
   ]
  },
  {
   "cell_type": "code",
   "execution_count": null,
   "metadata": {},
   "outputs": [],
   "source": [
    "from sympde.calculus    import dot, grad\n",
    "from sympde.expr        import BilinearForm, LinearForm, integral\n",
    "from sympde.topology    import elements_of, Square, ScalarFunctionSpace, Derham\n",
    "\n",
    "domain  = Square('S', bounds1=(0, 1), bounds2=(0, 1))\n",
    "derham  = Derham(domain, sequence=['h1', 'hcurl', 'l2'])\n",
    "\n",
    "V0      = derham.V0\n",
    "V1      = derham.V1\n",
    "\n",
    "u0, v0  = elements_of(V0, names='u0, v0')\n",
    "u1, v1  = elements_of(V1, names='u1, v1')\n",
    "\n",
    "# bilinear form corresponding to V1 mass matrix\n",
    "m1      = BilinearForm((u1, v1), integral(domain, dot(u1, v1)))\n",
    "\n",
    "# linear form\n",
    "from sympy import pi, sin, cos, exp\n",
    "x,y     = domain.coordinates\n",
    "f       = ( (-x**4 + x**3 + (-y**2 + pi**2)*x**2 + (y**2 - 4*y - pi**2)*x + 2*y - 2) * sin(pi*y) + (2*pi*x**2*(1-x)) * cos(pi*y) ) * exp(x*y)\n",
    "\n",
    "l       = LinearForm(v0, integral(domain, f*v0))"
   ]
  },
  {
   "cell_type": "code",
   "execution_count": null,
   "metadata": {},
   "outputs": [],
   "source": [
    "from psydac.api.discretization  import discretize\n",
    "from psydac.api.settings        import PSYDAC_BACKEND_GPYCCEL\n",
    "\n",
    "backend     = PSYDAC_BACKEND_GPYCCEL"
   ]
  },
  {
   "cell_type": "code",
   "execution_count": null,
   "metadata": {},
   "outputs": [],
   "source": [
    "ncells  = [16, 16]    # Bspline cells\n",
    "degree  = [3, 3]      # Bspline degree"
   ]
  },
  {
   "cell_type": "code",
   "execution_count": null,
   "metadata": {},
   "outputs": [],
   "source": [
    "domain_h    = discretize(domain, ncells=ncells, periodic=[False, False])\n",
    "derham_h    = discretize(derham, domain_h, degree=degree)\n",
    "\n",
    "V0_h        = derham_h.V0\n",
    "V1_h        = derham_h.V1\n",
    "\n",
    "# Exterior Derivative operators (grad and curl)\n",
    "G, C        = derham_h.derivatives_as_matrices\n",
    "\n",
    "# Mass Matrix\n",
    "m1_h        = discretize(m1,    domain_h, (V1_h, V1_h), backend=backend)\n",
    "\n",
    "M1          = m1_h.assemble()\n",
    "\n",
    "# System Matrix A\n",
    "from psydac.linalg.basic import IdentityOperator\n",
    "A           = G.T @ M1 @ G\n",
    "\n",
    "# rhs vector f\n",
    "l_h         = discretize(l, domain_h, V0_h, backend=backend)\n",
    "f           = l_h.assemble()"
   ]
  },
  {
   "cell_type": "markdown",
   "metadata": {},
   "source": [
    "## Boundary Conditions\n",
    "\n",
    "We choose to apply a projection method. For that matter, we construct the projection matrix $\\mathbb{P}_0$ and its counterpart $\\mathbb{P}_{\\Gamma} = \\mathbb{I} - \\mathbb{P}_0$."
   ]
  },
  {
   "cell_type": "code",
   "execution_count": null,
   "metadata": {},
   "outputs": [],
   "source": [
    "from utils import H1BoundaryProjector2D\n",
    "from psydac.linalg.basic import IdentityOperator\n",
    "\n",
    "P_0     = H1BoundaryProjector2D(V0, V0_h.coeff_space)\n",
    "\n",
    "I_0     = IdentityOperator(V0_h.coeff_space)\n",
    "P_Gamma = I_0 - P_0"
   ]
  },
  {
   "cell_type": "code",
   "execution_count": null,
   "metadata": {},
   "outputs": [],
   "source": [
    "A_bc    = P_0 @ A @ P_0 + P_Gamma\n",
    "f_bc    = P_0 @ f"
   ]
  },
  {
   "cell_type": "markdown",
   "metadata": {},
   "source": [
    "## Solving the PDE"
   ]
  },
  {
   "cell_type": "code",
   "execution_count": null,
   "metadata": {},
   "outputs": [],
   "source": [
    "import  time\n",
    "\n",
    "from    psydac.linalg.solvers import inverse\n",
    "\n",
    "tol     = 1e-12\n",
    "maxiter = 1000\n",
    "\n",
    "A_bc_inv = inverse(A_bc, 'cg', tol=tol, maxiter=maxiter)\n",
    "\n",
    "t0      = time.time()\n",
    "phi_h   = A_bc_inv @ f_bc\n",
    "t1      = time.time()"
   ]
  },
  {
   "cell_type": "markdown",
   "metadata": {},
   "source": [
    "## Computing the error norm\n",
    "\n",
    "When the analytical solution is available, you might be interested in computing the $L^2$ norm or $H^1_0$ semi-norm.\n",
    "SymPDE allows you to do so, by creating the **Norm** object.\n",
    "In this example, the analytical solution is given by\n",
    "\n",
    "$$\n",
    "phi_{ex}(x, y) = x(x-1)\\sin(\\pi y)e^{xy}\n",
    "$$"
   ]
  },
  {
   "cell_type": "markdown",
   "metadata": {},
   "source": [
    "### Computing the $L^2$ norm"
   ]
  },
  {
   "cell_type": "code",
   "execution_count": null,
   "metadata": {},
   "outputs": [],
   "source": [
    "from psydac.fem.basic   import FemField\n",
    "\n",
    "from sympde.expr        import Norm, SemiNorm\n",
    "\n",
    "phi_ex = x*(x-1)*sin(pi*y)*exp(x*y)\n",
    "phi_h_FemField = FemField(V0_h, phi_h)\n",
    "\n",
    "error = phi_ex - u0\n",
    "\n",
    "# create the formal Norm object\n",
    "l2norm = Norm(error, domain, kind='l2')\n",
    "\n",
    "# discretize the norm\n",
    "l2norm_h = discretize(l2norm, domain_h, V0_h, backend=backend)\n",
    "\n",
    "# assemble the norm\n",
    "l2_error = l2norm_h.assemble(u0=phi_h_FemField)"
   ]
  },
  {
   "cell_type": "markdown",
   "metadata": {},
   "source": [
    "### Computing the $H^1$ semi-norm"
   ]
  },
  {
   "cell_type": "code",
   "execution_count": null,
   "metadata": {},
   "outputs": [],
   "source": [
    "# create the formal Norm object\n",
    "h1norm = SemiNorm(error, domain, kind='h1')\n",
    "\n",
    "# discretize the norm\n",
    "h1norm_h = discretize(h1norm, domain_h, V0_h)\n",
    "\n",
    "# assemble the norm\n",
    "h1semi_error = h1norm_h.assemble(u0=phi_h_FemField)"
   ]
  },
  {
   "cell_type": "markdown",
   "metadata": {},
   "source": [
    "### Computing the $H^1$ norm"
   ]
  },
  {
   "cell_type": "code",
   "execution_count": null,
   "metadata": {},
   "outputs": [],
   "source": [
    "# create the formal Norm object\n",
    "h1norm = Norm(error, domain, kind='h1')\n",
    "\n",
    "# discretize the norm\n",
    "h1norm_h = discretize(h1norm, domain_h, V0_h)\n",
    "\n",
    "# assemble the norm\n",
    "h1_error = h1norm_h.assemble(u0=phi_h_FemField)\n",
    "\n",
    "# print the result\n",
    "print( '> Grid          :: [{ne1},{ne2}]'.format( ne1=ncells[0], ne2=ncells[1]) )\n",
    "print( '> Degree        :: [{p1},{p2}]'  .format( p1=degree[0], p2=degree[1] ) )\n",
    "print( '> CG info       :: ',A_bc_inv.get_info() )\n",
    "print( '> L2 error      :: {:.2e}'.format( l2_error ) )\n",
    "print( '> H1-Semi error :: {:.2e}'.format( h1semi_error ) )\n",
    "print( '> H1 error      :: {:.2e}'.format( h1_error ) )\n",
    "print( '' )\n",
    "print( '> Solution time :: {:.3g}'.format( t1-t0 ) )"
   ]
  },
  {
   "cell_type": "markdown",
   "metadata": {},
   "source": [
    "## Visualization\n",
    "\n",
    "We plot the true solution $\\phi_{ex}$, the approximate solution $\\phi_h$ and the error function $|\\phi_{ex} - \\phi_h|$."
   ]
  },
  {
   "cell_type": "code",
   "execution_count": null,
   "metadata": {},
   "outputs": [],
   "source": [
    "from sympy import lambdify\n",
    "\n",
    "from utils import plot\n",
    "\n",
    "phi_ex_fun = lambdify(domain.coordinates, phi_ex)\n",
    "error = lambda x, y: abs(phi_ex_fun(x, y) - phi_h_FemField(x, y))\n",
    "\n",
    "plot(gridsize_x   = 100, \n",
    "     gridsize_y    = 100, \n",
    "     title         = r'Approximation of Solution $\\phi$', \n",
    "     funs          = [phi_ex_fun, phi_h_FemField, error], \n",
    "     titles        = [r'$\\phi_{ex}(x,y)$', r'$\\phi_h(x,y)$', r'$|(\\phi_{ex}-\\phi_h)(x,y)|$'],\n",
    "     surface_plot  = True\n",
    ")"
   ]
  }
 ],
 "metadata": {},
 "nbformat": 4,
 "nbformat_minor": 4
}
