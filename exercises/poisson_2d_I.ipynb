{
 "cells": [
  {
   "cell_type": "markdown",
   "metadata": {},
   "source": [
    "**Note: This notebook must be changed by the student! As it is now, it does not approximate the solution to the Poisson problem.**"
   ]
  },
  {
   "cell_type": "markdown",
   "metadata": {},
   "source": [
    "# 2D Poisson Solver on the Unit Square\n",
    "\n",
    "In the exercise we write a solver for the 2D Poisson problem on the unit square using Psydac's bilinear form interface.\n",
    "\n",
    "\\begin{align}\n",
    "    -\\Delta\\phi &= f \\quad \\text{ in }\\Omega=]0,1[^2, \\\\\n",
    "    \\phi &= 0 \\quad \\text{ on }\\partial\\Omega.\n",
    "\\end{align}\n",
    "\n",
    "## The Variational Formulation\n",
    "\n",
    "The corresponding variational formulation reads\n",
    "\n",
    "\\begin{align}\n",
    "    \\text{Find }\\phi\\in V\\coloneqq H_0^1(\\Omega)\\text{ such that } \\\\\n",
    "    a(\\phi, \\psi) = l(\\psi)\\quad\\forall\\ \\psi\\in V\n",
    "\\end{align}\n",
    "\n",
    "where \n",
    "- $a(\\phi,\\psi) \\coloneqq \\int_{\\Omega} \\nabla\\phi\\cdot\\nabla\\psi ~ d\\Omega$,\n",
    "- $l(\\psi) := \\int_{\\Omega} f\\psi ~ d\\Omega$."
   ]
  },
  {
   "cell_type": "markdown",
   "metadata": {},
   "source": [
    "## Formal Model"
   ]
  },
  {
   "cell_type": "code",
   "execution_count": null,
   "metadata": {},
   "outputs": [],
   "source": [
    "from sympde.calculus    import dot, grad\n",
    "from sympde.expr        import BilinearForm, LinearForm, integral\n",
    "from sympde.topology    import elements_of, Square\n",
    "from sympde.topology    import ScalarFunctionSpace\n",
    "\n",
    "from sympy import pi, sin\n",
    "\n",
    "domain  = Square('S', bounds1=(0, 1), bounds2=(0, 1))\n",
    "\n",
    "V       = ScalarFunctionSpace('V', domain)\n",
    "x,y     = domain.coordinates\n",
    "\n",
    "phi, psi    = elements_of(V, names='phi, psi')\n",
    "\n",
    "# bilinear form\n",
    "a       = BilinearForm((phi, psi), integral(domain, phi*psi))\n",
    "\n",
    "# linear form\n",
    "f       = 8 * (pi**2) * sin(2 * pi * x) * sin(2 * pi * y)\n",
    "\n",
    "l       = LinearForm(psi, integral(domain, f*psi))"
   ]
  },
  {
   "cell_type": "markdown",
   "metadata": {},
   "source": [
    "## Discretization\n",
    "\n",
    "We will use Psydac to discretize the problem."
   ]
  },
  {
   "cell_type": "code",
   "execution_count": null,
   "metadata": {},
   "outputs": [],
   "source": [
    "from psydac.api.discretization  import discretize"
   ]
  },
  {
   "cell_type": "code",
   "execution_count": null,
   "metadata": {},
   "outputs": [],
   "source": [
    "ncells  = [8, 8]    # Bspline cells\n",
    "degree  = [2, 2]    # Bspline degree"
   ]
  },
  {
   "cell_type": "code",
   "execution_count": null,
   "metadata": {},
   "outputs": [],
   "source": [
    "from psydac.api.settings        import PSYDAC_BACKEND_GPYCCEL\n",
    "\n",
    "backend     = PSYDAC_BACKEND_GPYCCEL\n",
    "\n",
    "domain_h    = discretize(domain, ncells=ncells, periodic=[False, False])\n",
    "V_h         = discretize(V, domain_h, degree=degree)\n",
    "\n",
    "a_h         = discretize(a, domain_h, (V_h, V_h), backend=backend)\n",
    "l_h         = discretize(l, domain_h, V_h, backend=backend)"
   ]
  },
  {
   "cell_type": "markdown",
   "metadata": {},
   "source": [
    "## Boundary Conditions\n",
    "\n",
    "We choose to apply a projection method. For that matter, we construct the projection matrix $\\mathbb{P}_0$ and its counterpart $\\mathbb{P}_{\\Gamma} = \\mathbb{I} - \\mathbb{P}_0$."
   ]
  },
  {
   "cell_type": "code",
   "execution_count": null,
   "metadata": {},
   "outputs": [],
   "source": [
    "from utils import H1BoundaryProjector2D\n",
    "from psydac.linalg.basic import IdentityOperator\n",
    "\n",
    "P_0     = H1BoundaryProjector2D_2(V, V_h.vector_space)\n",
    "\n",
    "I_0     = IdentityOperator(V_h.vector_space)\n",
    "P_Gamma = I_0 - P_0"
   ]
  },
  {
   "cell_type": "code",
   "execution_count": null,
   "metadata": {},
   "outputs": [],
   "source": [
    "A       = a_h.assemble()\n",
    "f       = l_h.assemble()\n",
    "\n",
    "A_bc    = P_0 @ A @ P_0 + P_Gamma\n",
    "f_bc    = P_0 @ f"
   ]
  },
  {
   "cell_type": "markdown",
   "metadata": {},
   "source": [
    "## Solving the PDE"
   ]
  },
  {
   "cell_type": "code",
   "execution_count": null,
   "metadata": {},
   "outputs": [],
   "source": [
    "from psydac.linalg.solvers import inverse\n",
    "\n",
    "tol     = 1e-12\n",
    "maxiter = 1000\n",
    "\n",
    "phi_h   = inverse(A_bc, 'cg', tol=tol, maxiter=maxiter) @ f_bc"
   ]
  },
  {
   "cell_type": "markdown",
   "metadata": {},
   "source": [
    "## Computing the error norm\n",
    "\n",
    "When the analytical solution is available, you might be interested in computing the $L^2$ norm or $H^1_0$ semi-norm.\n",
    "SymPDE allows you to do so, by creating the **Norm** object.\n",
    "In this example, the analytical solution is given by\n",
    "\n",
    "$$\n",
    "phi_{ex}(x, y) = \\sin(2\\pi x)\\sin(2\\pi y)\n",
    "$$"
   ]
  },
  {
   "cell_type": "markdown",
   "metadata": {},
   "source": [
    "### Computing the $L^2$ norm"
   ]
  },
  {
   "cell_type": "code",
   "execution_count": null,
   "metadata": {},
   "outputs": [],
   "source": [
    "from sympde.expr     import find, EssentialBC, Norm, SemiNorm\n",
    "from psydac.fem.basic import FemField\n",
    "\n",
    "phi_ex  = sin(2*pi*x) * sin(2*pi*y)\n",
    "\n",
    "error = phi_ex - phi\n",
    "\n",
    "# create the formal Norm object\n",
    "l2norm = Norm(error, domain, kind='l2')\n",
    "\n",
    "# discretize the norm\n",
    "l2norm_h = discretize(l2norm, domain_h, V_h)\n",
    "\n",
    "# assemble the norm\n",
    "l2_error = l2norm_h.assemble(phi=FemField(V_h, phi_h))\n",
    "\n",
    "# print the result\n",
    "print(l2_error)"
   ]
  },
  {
   "cell_type": "markdown",
   "metadata": {},
   "source": [
    "### Computing the $H^1$ semi-norm"
   ]
  },
  {
   "cell_type": "code",
   "execution_count": null,
   "metadata": {},
   "outputs": [],
   "source": [
    "# create the formal Norm object\n",
    "h1norm = SemiNorm(error, domain, kind='h1')\n",
    "\n",
    "# discretize the norm\n",
    "h1norm_h = discretize(h1norm, domain_h, V_h)\n",
    "\n",
    "# assemble the norm\n",
    "h1_error = h1norm_h.assemble(phi=FemField(V_h, phi_h))\n",
    "\n",
    "# print the result\n",
    "print(h1_error)"
   ]
  },
  {
   "cell_type": "markdown",
   "metadata": {},
   "source": [
    "### Computing the $H^1$ norm"
   ]
  },
  {
   "cell_type": "code",
   "execution_count": null,
   "metadata": {},
   "outputs": [],
   "source": [
    "# create the formal Norm object\n",
    "h1norm = Norm(error, domain, kind='h1')\n",
    "\n",
    "# discretize the norm\n",
    "h1norm_h = discretize(h1norm, domain_h, V_h)\n",
    "\n",
    "# assemble the norm\n",
    "h1_error = h1norm_h.assemble(phi=FemField(V_h, phi_h))\n",
    "\n",
    "# print the result\n",
    "print(h1_error)"
   ]
  },
  {
   "cell_type": "markdown",
   "metadata": {},
   "source": [
    "## Visualization\n",
    "\n",
    "We plot the true solution $\\phi_{ex}$, the approximate solution $\\phi_h$ and the error function $|\\phi_{ex} - \\phi_h|$."
   ]
  },
  {
   "cell_type": "code",
   "execution_count": null,
   "metadata": {},
   "outputs": [],
   "source": [
    "from utils import plot\n",
    "from sympy import lambdify\n",
    "\n",
    "phi_ex_fun = lambdify(domain.coordinates, phi_ex)\n",
    "phi_h_fun = FemField(V_h, phi_h)\n",
    "error = lambda x, y: abs(phi_ex_fun(x, y) - phi_h_fun(x, y))\n",
    "\n",
    "plot(gridsize_x   = 100, \n",
    "    gridsize_y    = 100, \n",
    "    title         = r'Approximation of Solution $\\phi$', \n",
    "    funs          = [phi_ex_fun, phi_h_fun, error], \n",
    "    titles        = [r'$\\phi_{ex}(x,y)$', r'$\\phi_h(x,y)$', r'$|(\\phi_{ex}-\\phi_h)(x,y)|$'],\n",
    "    surface_plot  = True\n",
    ")"
   ]
  }
 ],
 "metadata": {},
 "nbformat": 4,
 "nbformat_minor": 4
}
