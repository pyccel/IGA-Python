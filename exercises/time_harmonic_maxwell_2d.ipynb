{
 "cells": [
  {
   "cell_type": "markdown",
   "metadata": {},
   "source": [
    "**Note: This notebook must be changed by the student. As it is now, it does not approximate the solution to the Poisson problem!**"
   ]
  },
  {
   "cell_type": "markdown",
   "metadata": {},
   "source": [
    "# 2D Solver for the time-harmonic Maxwell equation on the Unit Square\n",
    "\n",
    "In this exercise we write a solver for the 2D time-harmonic Maxwell equation on the unit square using Psydac's bilinear form interface.\n",
    "\n",
    "\\begin{align*}\n",
    "    \\boldsymbol{curl}curl\\boldsymbol{E} - \\omega^2\\boldsymbol{E} &= \\boldsymbol{F} \\quad \\text{ in }\\Omega=]0,1[^2, \\\\\n",
    "    \\boldsymbol{n}\\times\\boldsymbol{E} &= 0 \\quad \\text{ on }\\partial\\Omega,\n",
    "\\end{align*}\n",
    "for the specific choice\n",
    "\\begin{align*}\n",
    "    \\omega &= 1.5 \\\\\n",
    "    \\alpha &= -\\omega^2 \\\\\n",
    "    \\boldsymbol{F}(x, y) &= \\left(\\begin{matrix}\n",
    "    (\\alpha+\\pi^2)\\sin(\\pi y) - \\pi^2\\cos(\\pi x)\\sin(\\pi y) \\\\\n",
    "    (\\alpha+\\pi^2)\\sin(\\pi x)\\cos(\\pi y)\n",
    "    \\end{matrix}\\right)\n",
    "\\end{align*}\n",
    "\n",
    "## The Variational Formulation\n",
    "\n",
    "The corresponding variational formulation reads\n",
    "\n",
    "\\begin{align*}\n",
    "    \\text{Find }\\boldsymbol{E}\\in V\\coloneqq H_0(curl;\\Omega)\\text{ such that } \\\\\n",
    "    a(\\boldsymbol{E}, \\boldsymbol{v}) = l(\\boldsymbol{v})\\quad\\forall\\ \\boldsymbol{v}\\in V\n",
    "\\end{align*}\n",
    "\n",
    "where \n",
    "- $a(\\boldsymbol{E},\\boldsymbol{v}) \\coloneqq \\int_{\\Omega} (\\nabla\\times\\boldsymbol{E})(\\nabla\\times\\boldsymbol{v}) + \\alpha \\boldsymbol{E}\\cdot\\boldsymbol{v} ~ d\\Omega$ ,\n",
    "- $l(\\boldsymbol{v}) := \\int_{\\Omega} \\boldsymbol{F}\\cdot\\boldsymbol{v} ~ d\\Omega$."
   ]
  },
  {
   "cell_type": "markdown",
   "metadata": {},
   "source": [
    "## Formal Model"
   ]
  },
  {
   "cell_type": "code",
   "execution_count": null,
   "metadata": {},
   "outputs": [],
   "source": [
    "from sympde.calculus      import dot, curl\n",
    "from sympde.topology      import VectorFunctionSpace, elements_of, Square\n",
    "from sympde.expr.expr     import LinearForm, BilinearForm, integral\n",
    "\n",
    "domain = Square('S', bounds1=(0, 1), bounds2=(0, 1))\n",
    "\n",
    "V  = VectorFunctionSpace('V', domain, kind='hcurl')\n",
    "\n",
    "E, v    = elements_of(V, names='E, v')\n",
    "\n",
    "# bilinear form\n",
    "omega   = 1.5\n",
    "alpha   = -omega**2\n",
    "expr1   = dot(E, v)\n",
    "a       = BilinearForm((E, v), integral(domain, expr1))\n",
    "\n",
    "# linear form\n",
    "from sympy  import pi, sin, cos, Tuple, Matrix\n",
    "x,y     = domain.coordinates\n",
    "F       = Tuple( (alpha + pi**2) * sin(pi*y) - pi**2 * sin(pi*y) * cos(pi*x),\n",
    "                 (alpha + pi**2) * sin(pi*x) * cos(pi*y) )\n",
    "\n",
    "expr2   = dot(F, v)\n",
    "l       = LinearForm(v, integral(domain, expr2))"
   ]
  },
  {
   "cell_type": "markdown",
   "metadata": {},
   "source": [
    "## Discretization\n",
    "\n",
    "We will use Psydac to discretize the problem."
   ]
  },
  {
   "cell_type": "code",
   "execution_count": null,
   "metadata": {},
   "outputs": [],
   "source": [
    "from psydac.api.discretization  import discretize\n",
    "from psydac.api.settings        import PSYDAC_BACKEND_GPYCCEL\n",
    "\n",
    "backend     = PSYDAC_BACKEND_GPYCCEL"
   ]
  },
  {
   "cell_type": "code",
   "execution_count": null,
   "metadata": {},
   "outputs": [],
   "source": [
    "ncells  = [16, 16]  # Bspline cells\n",
    "degree  = [3, 3]    # Bspline degree"
   ]
  },
  {
   "cell_type": "code",
   "execution_count": null,
   "metadata": {},
   "outputs": [],
   "source": [
    "domain_h    = discretize(domain, ncells=ncells, periodic=[False, False])\n",
    "V_h         = discretize(V, domain_h, degree=degree)\n",
    "\n",
    "a_h         = discretize(a, domain_h, (V_h, V_h), backend=backend)\n",
    "l_h         = discretize(l, domain_h, V_h, backend=backend)"
   ]
  },
  {
   "cell_type": "markdown",
   "metadata": {},
   "source": [
    "## Boundary Conditions\n",
    "\n",
    "We choose to apply a projection method. For that matter, we construct the projection matrix $\\mathbb{P}_0$ and its counterpart $\\mathbb{P}_{\\Gamma} = \\mathbb{I} - \\mathbb{P}_0$."
   ]
  },
  {
   "cell_type": "code",
   "execution_count": null,
   "metadata": {},
   "outputs": [],
   "source": [
    "from utils import HcurlBoundaryProjector2D\n",
    "from psydac.linalg.basic import IdentityOperator\n",
    "\n",
    "P_0     = HcurlBoundaryProjector2D(V, V_h.vector_space)\n",
    "\n",
    "I_0     = IdentityOperator(V_h.vector_space)\n",
    "P_Gamma = I_0 - P_0"
   ]
  },
  {
   "cell_type": "code",
   "execution_count": null,
   "metadata": {},
   "outputs": [],
   "source": [
    "A       = a_h.assemble()\n",
    "f       = l_h.assemble()\n",
    "\n",
    "A_bc    = P_0 @ A @ P_0 + P_Gamma\n",
    "f_bc    = P_0 @ f"
   ]
  },
  {
   "cell_type": "markdown",
   "metadata": {},
   "source": [
    "## Solving the PDE"
   ]
  },
  {
   "cell_type": "code",
   "execution_count": null,
   "metadata": {},
   "outputs": [],
   "source": [
    "import  time\n",
    "\n",
    "from    psydac.linalg.solvers import inverse\n",
    "\n",
    "tol     = 1e-12\n",
    "maxiter = 1000\n",
    "\n",
    "A_bc_inv  = inverse(A_bc, 'cg', tol=tol, maxiter=maxiter)\n",
    "\n",
    "t0      = time.time()\n",
    "E_h     = A_bc_inv @ f_bc\n",
    "t1      = time.time()"
   ]
  },
  {
   "cell_type": "markdown",
   "metadata": {},
   "source": [
    "## Computing the error norm\n",
    "\n",
    "As the analytical solution is available, we want to compute the $L^2$ norm of the error.\n",
    "In this example, the analytical solution is given by\n",
    "\n",
    "$$\n",
    "\\boldsymbol{E}_{ex}(x, y) = \\left(\\begin{matrix} \n",
    "                \\sin(\\pi y) \\\\\n",
    "                \\sin(\\pi x)\\cos(\\pi y)\n",
    "                \\end{matrix}\\right)\n",
    "$$"
   ]
  },
  {
   "cell_type": "code",
   "execution_count": null,
   "metadata": {},
   "outputs": [],
   "source": [
    "from psydac.fem.basic   import FemField\n",
    "\n",
    "from sympde.expr        import Norm\n",
    "\n",
    "E_ex    = Tuple(sin(pi*y), sin(pi*x)*cos(pi*y))\n",
    "E_h_FemField = FemField(V_h, E_h)\n",
    "\n",
    "error = Matrix([E[0] - E_ex[0], E[1] - E_ex[1]])\n",
    "\n",
    "# create the formal Norm object\n",
    "l2norm = Norm(error, domain, kind='l2')\n",
    "\n",
    "# discretize the norm\n",
    "l2norm_h = discretize(l2norm, domain_h, V_h, backend=backend)\n",
    "\n",
    "# assemble the norm\n",
    "l2_error = l2norm_h.assemble(E=E_h_FemField)\n",
    "\n",
    "# print the result\n",
    "print( '> Grid          :: [{ne1},{ne2}]'.format( ne1=ncells[0], ne2=ncells[1]) )\n",
    "print( '> Degree        :: [{p1},{p2}]'  .format( p1=degree[0], p2=degree[1] ) )\n",
    "print( '> CG info       :: ',A_bc_inv.get_info() )\n",
    "print( '> L2 error      :: {:.2e}'.format( l2_error ) )\n",
    "print( '' )\n",
    "print( '> Solution time :: {:.3g}'.format( t1-t0 ) )"
   ]
  },
  {
   "cell_type": "markdown",
   "metadata": {},
   "source": [
    "## Visualization\n",
    "\n",
    "We plot the true solution $\\boldsymbol{E}_{ex}$, the approximate solution $\\boldsymbol{E}_h$ and the error function $|\\boldsymbol{E}_{ex} - \\boldsymbol{E}_h|$."
   ]
  },
  {
   "cell_type": "code",
   "execution_count": null,
   "metadata": {},
   "outputs": [],
   "source": [
    "from sympy import lambdify\n",
    "\n",
    "from utils import plot\n",
    "\n",
    "E_ex_x   = lambdify((x, y), E_ex[0])\n",
    "E_ex_y   = lambdify((x, y), E_ex[1])\n",
    "E_h_x    = E_h_FemField[0]\n",
    "E_h_y    = E_h_FemField[1]\n",
    "error_x  = lambda x, y: abs(E_ex_x(x, y) - E_h_x(x, y))\n",
    "error_y  = lambda x, y: abs(E_ex_y(x, y) - E_h_y(x, y))\n",
    "\n",
    "plot(gridsize_x     = 100, \n",
    "     gridsize_y     = 100, \n",
    "     title          = r'Approximation of Solution $\\boldsymbol{E}$, first component', \n",
    "     funs           = [E_ex_x, E_h_x, error_x], \n",
    "     titles         = [r'$(\\boldsymbol{E}_{ex})_1(x,y)$', r'$(\\boldsymbol{E}_h)_1(x,y)$', r'$|(\\boldsymbol{E}_{ex}-\\boldsymbol{E}_h)_1(x,y)|$'],\n",
    "     surface_plot   = True\n",
    ")\n",
    "\n",
    "plot(gridsize_x     = 100,\n",
    "     gridsize_y     = 100,\n",
    "     title          = r'Approximation of Solution $\\boldsymbol{E}$, second component',\n",
    "     funs           = [E_ex_y, E_h_y, error_y],\n",
    "     titles         = [r'$(\\boldsymbol{E}_{ex})_2(x,y)$', r'$(\\boldsymbol{E}_h)_2(x,y)$', r'$|(\\boldsymbol{E}_{ex}-\\boldsymbol{E}_h)_2(x,y)|$'],\n",
    "     surface_plot   = True\n",
    ")"
   ]
  }
 ],
 "metadata": {},
 "nbformat": 4,
 "nbformat_minor": 2
}
