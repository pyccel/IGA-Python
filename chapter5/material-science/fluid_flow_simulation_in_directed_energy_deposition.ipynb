{
 "cells": [
  {
   "cell_type": "markdown",
   "id": "1ea6c66f",
   "metadata": {},
   "source": [
    "# Fluid Flow Simulation in Directed Energy Deposition (DED)\n",

    "\n",
    "Mathematical Model:\n",
    "\n",
    "$$\n",
    "\\begin{align*}\n",
    "&\\text{Navier-Stokes Equations:} \\quad \\rho \\frac{\\partial \\mathbf{v}}{\\partial t} + \\rho(\\mathbf{v} \\cdot \\nabla)\\mathbf{v} = -\\nabla p + \\mu \\nabla^2 \\mathbf{v} + \\mathbf{f} \\\\\n",
    "&\\text{Heat Transfer:} \\quad \\rho c \\frac{\\partial T}{\\partial t} + \\rho(\\mathbf{v} \\cdot \\nabla)T = k \\nabla^2 T\n",
    "\\end{align*}\n",
    "$$\n",
    "\n",
    "Weak Formulation:\n",
    "\n",
    "$$\n",
    "\\begin{align*}\n",
    "&\\int_{\\Omega} \\left(\\rho \\frac{\\partial \\mathbf{v}}{\\partial t} \\cdot \\boldsymbol{\\psi} + \\rho(\\mathbf{v} \\cdot \\nabla)\\mathbf{v} \\cdot \\boldsymbol{\\psi} + \\nabla p \\cdot \\boldsymbol{\\psi} - \\mu \\nabla^2 \\mathbf{v} \\cdot \\boldsymbol{\\psi} - \\mathbf{f} \\cdot \\boldsymbol{\\psi}\\right) \\,d\\Omega = 0 \\\\\n",
    "&\\int_{\\Omega} \\left(\\rho c \\frac{\\partial T}{\\partial t} \\phi + \\rho(\\mathbf{v} \\cdot \\nabla)T \\phi - k \\nabla^2 T \\phi\\right) \\,d\\Omega = 0\n",
    "\\end{align*}\n",
    "$$"
   ]
  },
  {
   "cell_type": "code",
   "execution_count": null,
   "id": "a6c3c4a2",
   "metadata": {},
   "outputs": [],
   "source": []
  }
 ],
 "metadata": {
  "kernelspec": {
   "display_name": "Python 3 (ipykernel)",
   "language": "python",
   "name": "python3"
  },
  "language_info": {
   "codemirror_mode": {
    "name": "ipython",
    "version": 3
   },
   "file_extension": ".py",
   "mimetype": "text/x-python",
   "name": "python",
   "nbconvert_exporter": "python",
   "pygments_lexer": "ipython3"
  }
 },
 "nbformat": 4,
 "nbformat_minor": 5
}
