{
 "cells": [
  {
   "cell_type": "markdown",
   "id": "c317aa5a",
   "metadata": {},
   "source": [
    "# Creep in Viscoelastic Materials\n",
    "\n",
    "Mathematical Model:\n",
    "\n",
    "$$\n",
    "\\begin{align*}\n",
    "&\\text{Mechanical Deformation:} \\quad \\nabla \\cdot \\mathbf{u} = 0, \\quad \\rho \\frac{\\partial^2 \\mathbf{u}}{\\partial t^2} - \\nabla \\cdot (\\boldsymbol{\\sigma}) = \\mathbf{0} \\\\\n",
    "&\\text{Creep:} \\quad \\frac{\\partial \\boldsymbol{\\varepsilon}}{\\partial t} - \\boldsymbol{\\varepsilon} : \\nabla \\mathbf{u} = 0\n",
    "\\end{align*}\n",
    "$$\n",
    "\n",
    "Weak Formulation:\n",
    "\n",
    "$$\n",
    "\\begin{align*}\n",
    "&\\text{Mechanical Deformation:} \\quad \\int_{\\Omega} \\nabla \\cdot \\mathbf{u} \\phi \\,d\\Omega = 0, \\quad \\int_{\\Omega} \\rho \\frac{\\partial^2 \\mathbf{u}}{\\partial t^2} \\cdot \\mathbf{v} \\,d\\Omega - \\int_{\\Omega} \\nabla \\cdot (\\boldsymbol{\\sigma}) \\cdot \\mathbf{v} \\,d\\Omega = 0 \\\\\n",
    "&\\text{Creep:} \\quad \\int_{\\Omega} \\frac{\\partial \\boldsymbol{\\varepsilon}}{\\partial t} : \\boldsymbol{\\phi} \\,d\\Omega - \\int_{\\Omega} \\boldsymbol{\\varepsilon} : \\nabla \\mathbf{u} \\cdot \\boldsymbol{\\phi} \\,d\\Omega = 0\n",
    "\\end{align*}\n",
    "$$\n"
   ]
  }
 ],
 "metadata": {},
 "nbformat": 4,
 "nbformat_minor": 5
}
