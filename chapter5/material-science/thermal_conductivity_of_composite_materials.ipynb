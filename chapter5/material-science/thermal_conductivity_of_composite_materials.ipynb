{
 "cells": [
  {
   "cell_type": "markdown",
   "id": "2822050c",
   "metadata": {},
   "source": [
    "# Thermal Conductivity of Composite Materials\n",
    "\n",
    "Mathematical Model:\n",
    "\n",
    "$$\n",
    "\\begin{align*}\n",
    "&\\text{Microstructural Behavior:} \\quad \\nabla \\cdot (\\mathbf{k}_{\\text{micro}} \\nabla T_{\\text{micro}}) = 0 \\\\\n",
    "&\\text{Homogenized Behavior:} \\quad \\nabla \\cdot (\\mathbf{k}_{\\text{eff}} \\nabla T_{\\text{eff}}) = 0\n",
    "\\end{align*}\n",
    "$$\n",
    "\n",
    "Weak Formulation:\n",
    "\n",
    "$$\n",
    "\\begin{align*}\n",
    "&\\text{Microstructural Behavior:} \\quad \\int_{\\Omega_{\\text{micro}}} \\nabla \\cdot (\\mathbf{k}_{\\text{micro}} \\nabla T_{\\text{micro}}) \\phi_{\\text{micro}} \\,d\\Omega_{\\text{micro}} = 0 \\\\\n",
    "&\\text{Homogenized Behavior:} \\quad \\int_{\\Omega_{\\text{eff}}} \\nabla \\cdot (\\mathbf{k}_{\\text{eff}} \\nabla T_{\\text{eff}}) \\phi_{\\text{eff}} \\,d\\Omega_{\\text{eff}} = 0\n",
    "\\end{align*}\n",
    "$$\n"
   ]
  }
 ],
 "metadata": {},
 "nbformat": 4,
 "nbformat_minor": 5
}
