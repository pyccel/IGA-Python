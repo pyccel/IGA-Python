{
 "cells": [
  {
   "cell_type": "markdown",
   "id": "2822050c",
   "metadata": {},
   "source": [
    "# Thermal Conductivity of Composite Materials\n",
    "\n",
    "Mathematical Model:\n",
    "\n",
    "$$\n",
    "\\begin{align*}\n",
    "&\\text{Microstructural Behavior:} \\quad \\nabla \\cdot (\\mathbf{k}_{\\text{micro}} \\nabla T_{\\text{micro}}) = 0 \\\\\n",
    "&\\text{Homogenized Behavior:} \\quad \\nabla \\cdot (\\mathbf{k}_{\\text{eff}} \\nabla T_{\\text{eff}}) = 0\n",
    "\\end{align*}\n",
    "$$\n",
    "\n",
    "Weak Formulation:\n",
    "\n",
    "$$\n",
    "\\begin{align*}\n",
    "&\\text{Microstructural Behavior:} \\quad \\int_{\\Omega_{\\text{micro}}} \\nabla \\cdot (\\mathbf{k}_{\\text{micro}} \\nabla T_{\\text{micro}}) \\phi_{\\text{micro}} \\,d\\Omega_{\\text{micro}} = 0 \\\\\n",
    "&\\text{Homogenized Behavior:} \\quad \\int_{\\Omega_{\\text{eff}}} \\nabla \\cdot (\\mathbf{k}_{\\text{eff}} \\nabla T_{\\text{eff}}) \\phi_{\\text{eff}} \\,d\\Omega_{\\text{eff}} = 0\n",
    "\\end{align*}\n",
    "$$\n"
   ]
  },
  {
   "cell_type": "code",
   "execution_count": null,
   "id": "9647a80c",
   "metadata": {},
   "outputs": [],
   "source": []
  }
 ],
 "metadata": {
  "kernelspec": {
   "display_name": "Python 3 (ipykernel)",
   "language": "python",
   "name": "python3"
  },
  "language_info": {
   "codemirror_mode": {
    "name": "ipython",
    "version": 3
   },
   "file_extension": ".py",
   "mimetype": "text/x-python",
   "name": "python",
   "nbconvert_exporter": "python",
   "pygments_lexer": "ipython3"
  }
 },
 "nbformat": 4,
 "nbformat_minor": 5
}
