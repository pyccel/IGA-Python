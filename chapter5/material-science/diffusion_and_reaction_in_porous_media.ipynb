{
 "cells": [
  {
   "cell_type": "markdown",
   "id": "086f355d",
   "metadata": {},
   "source": [
    "# Diffusion and Reaction in Porous Media\n",
    "\n",
    "Mathematical Model:\n",
    "\n",
    "$$\n",
    "\\begin{align*}\n",
    "&\\text{Diffusion:} \\quad \\frac{\\partial c}{\\partial t} - \\nabla \\cdot (D \\nabla c) = 0 \\\\\n",
    "&\\text{Reaction:} \\quad \\frac{\\partial \\rho_r}{\\partial t} = k c\n",
    "\\end{align*}\n",
    "$$\n",
    "\n",
    "Weak Formulation:\n",
    "\n",
    "$$\n",
    "\\begin{align*}\n",
    "&\\text{Diffusion:} \\quad \\int_{\\Omega} \\frac{\\partial c}{\\partial t} \\phi \\,d\\Omega + \\int_{\\Omega} D \\nabla c \\cdot \\nabla \\phi \\,d\\Omega = 0 \\\\\n",
    "&\\text{Reaction:} \\quad \\int_{\\Omega} \\frac{\\partial \\rho_r}{\\partial t} \\psi \\,d\\Omega - \\int_{\\Omega} k c \\psi \\,d\\Omega = 0\n",
    "\\end{align*}\n",
    "$$"
   ]
  }
 ],
 "metadata": {},
 "nbformat": 4,
 "nbformat_minor": 5
}
