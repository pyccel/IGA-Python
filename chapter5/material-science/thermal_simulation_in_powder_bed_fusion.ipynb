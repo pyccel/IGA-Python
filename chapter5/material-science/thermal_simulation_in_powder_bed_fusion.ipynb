{
 "cells": [
  {
   "cell_type": "markdown",
   "id": "5e7f6e9e",
   "metadata": {},
   "source": [
    "# Thermal Simulation in Powder Bed Fusion (PBF)\n",
    "\n",
    "Mathematical Model:\n",
    "\n",
    "$$\n",
    "\\begin{align*}\n",
    "&\\text{Heat Conduction:} \\quad \\rho c \\frac{\\partial T}{\\partial t} - \\nabla \\cdot (k \\nabla T) = Q \\\\\n",
    "&\\text{Melting and Solidification:} \\quad \\rho_l L \\frac{\\partial \\phi}{\\partial t} = H \\nabla \\cdot \\left(\\frac{\\nabla T}{\\lVert \\nabla T \\rVert}\\right)\n",
    "\\end{align*}\n",
    "$$\n",
    "\n",
    "Weak Formulation:\n",
    "\n",
    "$$\n",
    "\\begin{align*}\n",
    "&\\int_{\\Omega} \\left(\\rho c \\frac{\\partial T}{\\partial t} \\phi + k \\nabla T \\cdot \\nabla \\phi - Q \\phi\\right) \\,d\\Omega = 0 \\\\\n",
    "&\\int_{\\Omega} \\left(\\rho_l L \\frac{\\partial \\phi}{\\partial t} - H \\nabla \\cdot \\left(\\frac{\\nabla T}{\\lVert \\nabla T \\rVert}\\right) \\phi\\right) \\,d\\Omega = 0\n",
    "\\end{align*}\n",
    "$$"
   ]
  },
  {
   "cell_type": "code",
   "execution_count": null,
   "id": "c0100203",
   "metadata": {},
   "outputs": [],
   "source": []
  }
 ],
 "metadata": {
  "kernelspec": {
   "display_name": "Python 3 (ipykernel)",
   "language": "python",
   "name": "python3"
  },
  "language_info": {
   "codemirror_mode": {
    "name": "ipython",
    "version": 3
   },
   "file_extension": ".py",
   "mimetype": "text/x-python",
   "name": "python",
   "nbconvert_exporter": "python",
   "pygments_lexer": "ipython3"
  }
 },
 "nbformat": 4,
 "nbformat_minor": 5
}
