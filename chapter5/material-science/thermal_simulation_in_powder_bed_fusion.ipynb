{
 "cells": [
  {
   "cell_type": "markdown",
   "id": "5e7f6e9e",
   "metadata": {},
   "source": [
    "# Thermal Simulation in Powder Bed Fusion (PBF)\n",
    "\n",
    "Mathematical Model:\n",
    "\n",
    "$$\n",
    "\\begin{align*}\n",
    "&\\text{Heat Conduction:} \\quad \\rho c \\frac{\\partial T}{\\partial t} - \\nabla \\cdot (k \\nabla T) = Q \\\\\n",
    "&\\text{Melting and Solidification:} \\quad \\rho_l L \\frac{\\partial \\phi}{\\partial t} = H \\nabla \\cdot \\left(\\frac{\\nabla T}{\\lVert \\nabla T \\rVert}\\right)\n",
    "\\end{align*}\n",
    "$$\n",
    "\n",
    "Weak Formulation:\n",
    "\n",
    "$$\n",
    "\\begin{align*}\n",
    "&\\int_{\\Omega} \\left(\\rho c \\frac{\\partial T}{\\partial t} \\phi + k \\nabla T \\cdot \\nabla \\phi - Q \\phi\\right) \\,d\\Omega = 0 \\\\\n",
    "&\\int_{\\Omega} \\left(\\rho_l L \\frac{\\partial \\phi}{\\partial t} - H \\nabla \\cdot \\left(\\frac{\\nabla T}{\\lVert \\nabla T \\rVert}\\right) \\phi\\right) \\,d\\Omega = 0\n",
    "\\end{align*}\n",
    "$$"
   ]
  }
 ],
 "metadata": {},
 "nbformat": 4,
 "nbformat_minor": 5
}
