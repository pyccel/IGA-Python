{
 "cells": [
  {
   "cell_type": "markdown",
   "id": "23406716",
   "metadata": {},
   "source": [
    "# Fiber-Reinforced Composite Materials\n",
    "\n",
    "Mathematical Model:\n",
    "\n",
    "$$\n",
    "\\begin{align*}\n",
    "&\\text{Matrix Phase:} \\quad \\nabla \\cdot (\\mathbf{C}_{\\text{matrix}} : \\boldsymbol{\\varepsilon}_{\\text{matrix}}) = 0 \\\\\n",
    "&\\text{Fiber Phase:} \\quad \\nabla \\cdot (\\mathbf{C}_{\\text{fiber}} : \\boldsymbol{\\varepsilon}_{\\text{fiber}}) = 0\n",
    "\\end{align*}\n",
    "$$\n",
    "\n",
    "Weak Formulation:\n",
    "\n",
    "$$\n",
    "\\begin{align*}\n",
    "&\\text{Matrix Phase:} \\quad \\int_{\\Omega_{\\text{matrix}}} \\nabla \\cdot (\\mathbf{C}_{\\text{matrix}} : \\boldsymbol{\\varepsilon}_{\\text{matrix}}) \\cdot \\boldsymbol{\\phi}_{\\text{matrix}} \\,d\\Omega_{\\text{matrix}} = 0 \\\\\n",
    "&\\text{Fiber Phase:} \\quad \\int_{\\Omega_{\\text{fiber}}} \\nabla \\cdot (\\mathbf{C}_{\\text{fiber}} : \\boldsymbol{\\varepsilon}_{\\text{fiber}}) \\cdot \\boldsymbol{\\phi}_{\\text{fiber}} \\,d\\Omega_{\\text{fiber}} = 0\n",
    "\\end{align*}\n",
    "$$\n"
   ]
  }
 ],
 "metadata": {},
 "nbformat": 4,
 "nbformat_minor": 5
}
