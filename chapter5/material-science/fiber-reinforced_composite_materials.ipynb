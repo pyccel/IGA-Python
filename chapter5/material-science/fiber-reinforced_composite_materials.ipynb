{
 "cells": [
  {
   "cell_type": "markdown",
   "id": "23406716",
   "metadata": {},
   "source": [
    "# Fiber-Reinforced Composite Materials\n",
    "\n",
    "Mathematical Model:\n",
    "\n",
    "$$\n",
    "\\begin{align*}\n",
    "&\\text{Matrix Phase:} \\quad \\nabla \\cdot (\\mathbf{C}_{\\text{matrix}} : \\boldsymbol{\\varepsilon}_{\\text{matrix}}) = 0 \\\\\n",
    "&\\text{Fiber Phase:} \\quad \\nabla \\cdot (\\mathbf{C}_{\\text{fiber}} : \\boldsymbol{\\varepsilon}_{\\text{fiber}}) = 0\n",
    "\\end{align*}\n",
    "$$\n",
    "\n",
    "Weak Formulation:\n",
    "\n",
    "$$\n",
    "\\begin{align*}\n",
    "&\\text{Matrix Phase:} \\quad \\int_{\\Omega_{\\text{matrix}}} \\nabla \\cdot (\\mathbf{C}_{\\text{matrix}} : \\boldsymbol{\\varepsilon}_{\\text{matrix}}) \\cdot \\boldsymbol{\\phi}_{\\text{matrix}} \\,d\\Omega_{\\text{matrix}} = 0 \\\\\n",
    "&\\text{Fiber Phase:} \\quad \\int_{\\Omega_{\\text{fiber}}} \\nabla \\cdot (\\mathbf{C}_{\\text{fiber}} : \\boldsymbol{\\varepsilon}_{\\text{fiber}}) \\cdot \\boldsymbol{\\phi}_{\\text{fiber}} \\,d\\Omega_{\\text{fiber}} = 0\n",
    "\\end{align*}\n",
    "$$\n"
   ]
  },
  {
   "cell_type": "code",
   "execution_count": null,
   "id": "37f95771",
   "metadata": {},
   "outputs": [],
   "source": []
  }
 ],
 "metadata": {
  "kernelspec": {
   "display_name": "Python 3 (ipykernel)",
   "language": "python",
   "name": "python3"
  },
  "language_info": {
   "codemirror_mode": {
    "name": "ipython",
    "version": 3
   },
   "file_extension": ".py",
   "mimetype": "text/x-python",
   "name": "python",
   "nbconvert_exporter": "python",
   "pygments_lexer": "ipython3"
  }
 },
 "nbformat": 4,
 "nbformat_minor": 5
}
