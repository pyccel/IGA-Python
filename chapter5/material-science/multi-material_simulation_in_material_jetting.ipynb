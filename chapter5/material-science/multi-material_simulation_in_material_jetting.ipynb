{
 "cells": [
  {
   "cell_type": "markdown",
   "id": "92c94e77",
   "metadata": {},
   "source": [
    "# Multi-Material Simulation in Material Jetting\n",

    "\n",
    "Mathematical Model:\n",
    "\n",
    "$$\n",
    "\\begin{align*}\n",
    "&\\text{Mass Transport:} \\quad \\frac{\\partial c_i}{\\partial t} + \\nabla \\cdot (\\mathbf{v} c_i) = 0 \\\\\n",
    "&\\text{Thermal Simulation:} \\quad \\rho c \\frac{\\partial T}{\\partial t} - \\nabla \\cdot (k \\nabla T) = Q\n",
    "\\end{align*}\n",
    "$$\n",
    "\n",
    "Weak Formulation:\n",
    "\n",
    "$$\n",
    "\\begin{align*}\n",
    "&\\int_{\\Omega} \\left(\\frac{\\partial c_i}{\\partial t} \\phi_i + \\nabla \\cdot (\\mathbf{v} c_i) \\phi_i\\right) \\,d\\Omega = 0 \\\\\n",
    "&\\int_{\\Omega} \\left(\\rho c \\frac{\\partial T}{\\partial t} \\phi + k \\nabla T \\cdot \\nabla \\phi - Q \\phi\\right) \\,d\\Omega = 0\n",
    "\\end{align*}\n",
    "$$"
   ]
  },
  {
   "cell_type": "code",
   "execution_count": null,
   "id": "047cbee6",
   "metadata": {},
   "outputs": [],
   "source": []
  }
 ],
 "metadata": {
  "kernelspec": {
   "display_name": "Python 3 (ipykernel)",
   "language": "python",
   "name": "python3"
  },
  "language_info": {
   "codemirror_mode": {
    "name": "ipython",
    "version": 3
   },
   "file_extension": ".py",
   "mimetype": "text/x-python",
   "name": "python",
   "nbconvert_exporter": "python",
   "pygments_lexer": "ipython3"
  }
 },
 "nbformat": 4,
 "nbformat_minor": 5
}
