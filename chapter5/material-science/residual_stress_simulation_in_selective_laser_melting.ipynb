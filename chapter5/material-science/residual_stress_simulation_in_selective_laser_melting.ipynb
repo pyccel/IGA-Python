{
 "cells": [
  {
   "cell_type": "markdown",
   "id": "0490d903",
   "metadata": {},
   "source": [
    "# Residual Stress Simulation in Selective Laser Melting (SLM)\n",
    "\n",
    "Mathematical Model:\n",
    "\n",
    "$$\n",
    "\\begin{align*}\n",
    "&\\text{Mechanical Deformation:} \\quad \\nabla \\cdot \\boldsymbol{\\sigma} = \\mathbf{0} \\\\\n",
    "&\\text{Thermal Simulation:} \\quad \\rho c \\frac{\\partial T}{\\partial t} - \\nabla \\cdot (k \\nabla T) = Q\n",
    "\\end{align*}\n",
    "$$\n",
    "\n",
    "Weak Formulation:\n",
    "\n",
    "$$\n",
    "\\begin{align*}\n",
    "&\\int_{\\Omega} \\left(\\nabla \\cdot \\boldsymbol{\\sigma} \\cdot \\boldsymbol{\\varepsilon} + \\nabla \\cdot (k \\nabla T) \\phi - Q \\phi\\right) \\,d\\Omega = 0\n",
    "\\end{align*}\n",
    "$$"
   ]
  }
 ],
 "metadata": {},
 "nbformat": 4,
 "nbformat_minor": 5
}
