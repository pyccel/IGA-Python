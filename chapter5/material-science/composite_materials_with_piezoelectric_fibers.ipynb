{
 "cells": [
  {
   "cell_type": "markdown",
   "id": "90dd019d",
   "metadata": {},
   "source": [
    "# Composite Materials with Piezoelectric Fibers\n",

    "\n",
    "Mathematical Model:\n",
    "\n",
    "$$\n",
    "\\begin{align*}\n",
    "&\\text{Mechanical Deformation:} \\quad \\nabla \\cdot \\boldsymbol{\\sigma} = \\mathbf{0} \\\\\n",
    "&\\text{Piezoelectricity:} \\quad \\nabla \\cdot \\mathbf{D} = \\rho_e, \\quad \\frac{\\partial \\mathbf{D}}{\\partial t} = \\mathbf{d} \\frac{\\partial \\mathbf{u}}{\\partial t}\n",
    "\\end{align*}\n",
    "$$\n",
    "\n",
    "Weak Formulation:\n",
    "\n",
    "$$\n",
    "\\begin{align*}\n",
    "&\\text{Mechanical Deformation:} \\quad \\int_{\\Omega} \\nabla \\cdot \\boldsymbol{\\sigma} : \\boldsymbol{\\varepsilon} \\,d\\Omega = 0 \\\\\n",
    "&\\text{Piezoelectricity:} \\quad \\int_{\\Omega} \\nabla \\cdot \\mathbf{D} \\cdot \\boldsymbol{\\phi} \\,d\\Omega = \\int_{\\Omega} \\rho_e \\boldsymbol{\\phi} \\,d\\Omega, \\quad \\int_{\\Omega} \\frac{\\partial \\mathbf{D}}{\\partial t} \\cdot \\boldsymbol{\\psi} \\,d\\Omega \\\\\n",
    "&\\quad = \\int_{\\Omega} \\mathbf{d} \\frac{\\partial \\mathbf{u}}{\\partial t} \\cdot \\boldsymbol{\\psi} \\,d\\Omega\n",
    "\\end{align*}\n",
    "$$\n"
   ]
  },
  {
   "cell_type": "code",
   "execution_count": null,
   "id": "52494dd6",
   "metadata": {},
   "outputs": [],
   "source": []
  }
 ],
 "metadata": {
  "kernelspec": {
   "display_name": "Python 3 (ipykernel)",
   "language": "python",
   "name": "python3"
  },
  "language_info": {
   "codemirror_mode": {
    "name": "ipython",
    "version": 3
   },
   "file_extension": ".py",
   "mimetype": "text/x-python",
   "name": "python",
   "nbconvert_exporter": "python",
   "pygments_lexer": "ipython3"
  }
 },
 "nbformat": 4,
 "nbformat_minor": 5
}
