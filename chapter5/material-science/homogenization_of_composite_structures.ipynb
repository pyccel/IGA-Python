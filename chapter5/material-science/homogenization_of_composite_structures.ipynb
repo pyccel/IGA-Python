{
 "cells": [
  {
   "cell_type": "markdown",
   "id": "d79107b5",
   "metadata": {},
   "source": [
    "# Homogenization of Composite Structures\n",

    "\n",
    "Mathematical Model:\n",
    "\n",
    "$$\n",
    "\\begin{align*}\n",
    "&\\text{Microstructural Behavior:} \\quad \\nabla \\cdot (\\mathbf{C}_{\\text{micro}} : \\boldsymbol{\\varepsilon}_{\\text{micro}}) = \\mathbf{0} \\\\\n",
    "&\\text{Homogenized Behavior:} \\quad \\nabla \\cdot (\\mathbf{C}_{\\text{eff}} : \\boldsymbol{\\varepsilon}_{\\text{eff}}) = \\mathbf{0}\n",
    "\\end{align*}\n",
    "$$\n",
    "\n",
    "Weak Formulation:\n",
    "\n",
    "$$\n",
    "\\begin{align*}\n",
    "&\\text{Microstructural Behavior:} \\quad \\int_{\\Omega_{\\text{micro}}} \\nabla \\cdot (\\mathbf{C}_{\\text{micro}} : \\boldsymbol{\\varepsilon}_{\\text{micro}}) \\cdot \\boldsymbol{\\phi}_{\\text{micro}} \\,d\\Omega_{\\text{micro}} = 0 \\\\\n",
    "&\\text{Homogenized Behavior:} \\quad \\int_{\\Omega_{\\text{eff}}} \\nabla \\cdot (\\mathbf{C}_{\\text{eff}} : \\boldsymbol{\\varepsilon}_{\\text{eff}}) \\cdot \\boldsymbol{\\phi}_{\\text{eff}} \\,d\\Omega_{\\text{eff}} = 0\n",
    "\\end{align*}\n",
    "$$"
   ]
  },
  {
   "cell_type": "code",
   "execution_count": null,
   "id": "fc9ff2d1",
   "metadata": {},
   "outputs": [],
   "source": []
  }
 ],
 "metadata": {
  "kernelspec": {
   "display_name": "Python 3 (ipykernel)",
   "language": "python",
   "name": "python3"
  },
  "language_info": {
   "codemirror_mode": {
    "name": "ipython",
    "version": 3
   },
   "file_extension": ".py",
   "mimetype": "text/x-python",
   "name": "python",
   "nbconvert_exporter": "python",
   "pygments_lexer": "ipython3"
  }
 },
 "nbformat": 4,
 "nbformat_minor": 5
}
