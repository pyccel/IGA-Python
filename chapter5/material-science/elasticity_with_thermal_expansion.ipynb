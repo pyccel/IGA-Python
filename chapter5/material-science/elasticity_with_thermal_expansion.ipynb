{
 "cells": [
  {
   "cell_type": "markdown",
   "id": "d8f79629",
   "metadata": {},
   "source": [
    "# Elasticity with Thermal Expansion\n",
    "\n",
    "Mathematical Model:\n",
    "\n",
    "$$\n",
    "\\begin{align*}\n",
    "&\\text{Elasticity:} \\quad \\nabla \\cdot \\boldsymbol{\\sigma} = \\mathbf{0} \\\\\n",
    "&\\text{Thermal Expansion:} \\quad \\alpha \\frac{\\partial T}{\\partial t} - \\nabla \\cdot (\\beta T \\mathbf{I}) = \\mathbf{0}\n",
    "\\end{align*}\n",
    "$$\n",
    "\n",
    "Weak Formulation:\n",
    "\n",
    "$$\n",
    "\\begin{align*}\n",
    "&\\text{Elasticity:} \\quad \\int_{\\Omega} \\boldsymbol{\\sigma} : \\boldsymbol{\\varepsilon} \\,d\\Omega = 0 \\\\\n",
    "&\\text{Thermal Expansion:} \\quad \\int_{\\Omega} \\alpha \\frac{\\partial T}{\\partial t} \\phi \\,d\\Omega - \\int_{\\Omega} \\nabla \\cdot (\\beta T \\mathbf{I}) \\cdot \\phi \\,d\\Omega = 0\n",
    "\\end{align*}\n",
    "$$\n"
   ]
  },
  {
   "cell_type": "code",
   "execution_count": null,
   "id": "a605733a",
   "metadata": {},
   "outputs": [],
   "source": []
  }
 ],
 "metadata": {
  "kernelspec": {
   "display_name": "Python 3 (ipykernel)",
   "language": "python",
   "name": "python3"
  },
  "language_info": {
   "codemirror_mode": {
    "name": "ipython",
    "version": 3
   },
   "file_extension": ".py",
   "mimetype": "text/x-python",
   "name": "python",
   "nbconvert_exporter": "python",
   "pygments_lexer": "ipython3"
  }
 },
 "nbformat": 4,
 "nbformat_minor": 5
}
