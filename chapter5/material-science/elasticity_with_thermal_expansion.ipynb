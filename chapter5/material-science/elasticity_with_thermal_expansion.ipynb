{
 "cells": [
  {
   "cell_type": "markdown",
   "id": "d8f79629",
   "metadata": {},
   "source": [
    "# Elasticity with Thermal Expansion\n",
    "\n",
    "Mathematical Model:\n",
    "\n",
    "$$\n",
    "\\begin{align*}\n",
    "&\\text{Elasticity:} \\quad \\nabla \\cdot \\boldsymbol{\\sigma} = \\mathbf{0} \\\\\n",
    "&\\text{Thermal Expansion:} \\quad \\alpha \\frac{\\partial T}{\\partial t} - \\nabla \\cdot (\\beta T \\mathbf{I}) = \\mathbf{0}\n",
    "\\end{align*}\n",
    "$$\n",
    "\n",
    "Weak Formulation:\n",
    "\n",
    "$$\n",
    "\\begin{align*}\n",
    "&\\text{Elasticity:} \\quad \\int_{\\Omega} \\boldsymbol{\\sigma} : \\boldsymbol{\\varepsilon} \\,d\\Omega = 0 \\\\\n",
    "&\\text{Thermal Expansion:} \\quad \\int_{\\Omega} \\alpha \\frac{\\partial T}{\\partial t} \\phi \\,d\\Omega - \\int_{\\Omega} \\nabla \\cdot (\\beta T \\mathbf{I}) \\cdot \\phi \\,d\\Omega = 0\n",
    "\\end{align*}\n",
    "$$\n"
   ]
  }
 ],
 "metadata": {},
 "nbformat": 4,
 "nbformat_minor": 5
}
