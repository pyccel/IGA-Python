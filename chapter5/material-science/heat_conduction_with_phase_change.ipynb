{
 "cells": [
  {
   "cell_type": "markdown",
   "id": "b0d9bc7d",
   "metadata": {},
   "source": [
    "# Heat Conduction with Phase Change\n",
    "\n",
    "Mathematical Model:\n",
    "\n",
    "$$\n",
    "\\begin{align*}\n",
    "&\\text{Heat Conduction:} \\quad \\rho c \\frac{\\partial T}{\\partial t} - \\nabla \\cdot (k \\nabla T) = Q \\\\\n",
    "&\\text{Phase Change:} \\quad \\frac{\\partial \\phi}{\\partial t} = M \\nabla^2 T\n",
    "\\end{align*}\n",
    "$$\n",
    "\n",
    "Weak Formulation:\n",
    "\n",
    "$$\n",
    "\\begin{align*}\n",
    "&\\text{Heat Conduction:} \\quad \\int_{\\Omega} \\rho c \\frac{\\partial T}{\\partial t} \\phi \\,d\\Omega + \\int_{\\Omega} k \\nabla T \\cdot \\nabla \\phi \\,d\\Omega = \\int_{\\Omega} Q \\phi \\,d\\Omega \\\\\n",
    "&\\text{Phase Change:} \\quad \\int_{\\Omega} \\frac{\\partial \\phi}{\\partial t} \\psi \\,d\\Omega = \\int_{\\Omega} M \\nabla^2 T \\psi \\,d\\Omega\n",
    "\\end{align*}\n",
    "$$\n"
   ]
  },
  {
   "cell_type": "code",
   "execution_count": null,
   "id": "ff960922",
   "metadata": {},
   "outputs": [],
   "source": []
  }
 ],
 "metadata": {
  "kernelspec": {
   "display_name": "Python 3 (ipykernel)",
   "language": "python",
   "name": "python3"
  },
  "language_info": {
   "codemirror_mode": {
    "name": "ipython",
    "version": 3
   },
   "file_extension": ".py",
   "mimetype": "text/x-python",
   "name": "python",
   "nbconvert_exporter": "python",
   "pygments_lexer": "ipython3"
  }
 },
 "nbformat": 4,
 "nbformat_minor": 5
}
