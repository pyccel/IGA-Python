{
 "cells": [
  {
   "cell_type": "markdown",
   "id": "31c27ea5",
   "metadata": {},
   "source": [
    "# Composite Pressure Vessel Analysis\n",
    "\n",
    "Mathematical Model:\n",
    "\n",
    "$$\n",
    "\\begin{align*}\n",
    "&\\text{Equilibrium:} \\quad \\nabla \\cdot \\boldsymbol{\\sigma} + \\mathbf{b} = \\mathbf{0} \\\\\n",
    "&\\text{Constitutive Relation:} \\quad \\boldsymbol{\\sigma} = \\mathbf{D} : \\boldsymbol{\\varepsilon} \\\\\n",
    "&\\text{Kinematics:} \\quad \\boldsymbol{\\varepsilon} = \\frac{1}{2}\\left(\\nabla \\mathbf{u} + (\\nabla \\mathbf{u})^T\\right) \\\\\n",
    "&\\text{Compatibility:} \\quad \\nabla \\times \\nabla \\times \\mathbf{u} = \\mathbf{0}\n",
    "\\end{align*}\n",
    "$$\n",
    "\n",
    "Weak Formulation:\n",
    "\n",
    "$$\n",
    "\\begin{align*}\n",
    "&\\int_{\\Omega} \\left(\\boldsymbol{\\sigma} : \\boldsymbol{\\varepsilon} + \\mathbf{b} \\cdot \\mathbf{u}\\right) \\,d\\Omega = 0\n",
    "\\end{align*}\n",
    "$$\n",
    "\n"
   ]
  }
 ],
 "metadata": {},
 "nbformat": 4,
 "nbformat_minor": 5
}
