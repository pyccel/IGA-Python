{
 "cells": [
  {
   "cell_type": "markdown",
   "id": "17887d82",
   "metadata": {},
   "source": [
    "# Composite Materials with Thermal Expansion\n",
    "\n",
    "Mathematical Model:\n",
    "\n",
    "$$\n",
    "\\begin{align*}\n",
    "&\\text{Matrix Phase:} \\quad \\alpha_{\\text{matrix}} \\frac{\\partial T_{\\text{matrix}}}{\\partial t} - \\nabla \\cdot (\\beta_{\\text{matrix}} T_{\\text{matrix}} \\mathbf{I}) = \\mathbf{0} \\\\\n",
    "&\\text{Fiber Phase:} \\quad \\alpha_{\\text{fiber}} \\frac{\\partial T_{\\text{fiber}}}{\\partial t} - \\nabla \\cdot (\\beta_{\\text{fiber}} T_{\\text{fiber}} \\mathbf{I}) = \\mathbf{0}\n",
    "\\end{align*}\n",
    "$$\n",
    "\n",
    "Weak Formulation:\n",
    "\n",
    "$$\n",
    "\\begin{align*}\n",
    "&\\text{Matrix Phase:} \\quad \\int_{\\Omega_{\\text{matrix}}} \\alpha_{\\text{matrix}} \\frac{\\partial T_{\\text{matrix}}}{\\partial t} \\phi_{\\text{matrix}} \\,d\\Omega_{\\text{matrix}} - \\int_{\\Omega_{\\text{matrix}}} \\nabla \\cdot (\\beta_{\\text{matrix}} T_{\\text{matrix}} \\mathbf{I}) \\cdot \\phi_{\\text{matrix}} \\,d\\Omega_{\\text{matrix}} = 0 \\\\\n",
    "&\\text{Fiber Phase:} \\quad \\int_{\\Omega_{\\text{fiber}}} \\alpha_{\\text{fiber}} \\frac{\\partial T_{\\text{fiber}}}{\\partial t} \\phi_{\\text{fiber}} \\,d\\Omega_{\\text{fiber}} - \\int_{\\Omega_{\\text{fiber}}} \\nabla \\cdot (\\beta_{\\text{fiber}} T_{\\text{fiber}} \\mathbf{I}) \\cdot \\phi_{\\text{fiber}} \\,d\\Omega_{\\text{fiber}} = 0\n",
    "\\end{align*}\n",
    "$$\n"
   ]
  }
 ],
 "metadata": {},
 "nbformat": 4,
 "nbformat_minor": 5
}
