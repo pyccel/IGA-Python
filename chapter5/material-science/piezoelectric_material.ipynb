{
 "cells": [
  {
   "cell_type": "markdown",
   "id": "b9324442",
   "metadata": {},
   "source": [
    "# Piezoelectric Material\n",
    "\n",
    "Mathematical Model:\n",
    "\n",
    "$$\n",
    "\\begin{align*}\n",
    "&\\text{Mechanical Deformation:} \\quad \\rho \\frac{\\partial^2 \\mathbf{u}}{\\partial t^2} - \\nabla \\cdot (\\boldsymbol{\\sigma}) = \\mathbf{0} \\\\\n",
    "&\\text{Piezoelectricity:} \\quad \\nabla \\cdot \\mathbf{D} = \\rho_e, \\quad \\frac{\\partial \\mathbf{D}}{\\partial t} = \\mathbf{d} \\frac{\\partial T}{\\partial t}\n",
    "\\end{align*}\n",
    "$$\n",
    "\n",
    "Weak Formulation:\n",
    "\n",
    "$$\n",
    "\\begin{align*}\n",
    "&\\text{Mechanical Deformation:} \\quad \\int_{\\Omega} \\rho \\frac{\\partial^2 \\mathbf{u}}{\\partial t^2} \\cdot \\mathbf{v} \\,d\\Omega - \\int_{\\Omega} \\nabla \\cdot (\\boldsymbol{\\sigma}) \\cdot \\mathbf{v} \\,d\\Omega = 0 \\\\\n",
    "&\\text{Piezoelectricity:} \\quad \\int_{\\Omega} \\nabla \\cdot \\mathbf{D} \\phi \\,d\\Omega = \\int_{\\Omega} \\rho_e \\phi \\,d\\Omega, \\quad \\int_{\\Omega} \\frac{\\partial \\mathbf{D}}{\\partial t} \\cdot \\boldsymbol{\\psi} \\,d\\Omega \\\\\n",
    "&\\quad = \\int_{\\Omega} \\mathbf{d} \\frac{\\partial T}{\\partial t} \\cdot \\boldsymbol{\\psi} \\,d\\Omega\n",
    "\\end{align*}\n",
    "$$\n"
   ]
  }
 ],
 "metadata": {},
 "nbformat": 4,
 "nbformat_minor": 5
}
