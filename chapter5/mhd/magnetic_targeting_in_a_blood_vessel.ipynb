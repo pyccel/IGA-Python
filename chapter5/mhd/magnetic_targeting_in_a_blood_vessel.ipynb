{
 "cells": [
  {
   "cell_type": "markdown",
   "id": "49fb7a4a",
   "metadata": {},
   "source": [
    "# Magnetic Targeting in a Blood Vessel\n",
    "\n",
    "Domain:\n",
    "Model a section of a blood vessel.\n",
    "\n",
    "Finite Element Mesh:\n",
    "Use a realistic vascular geometry mesh or a simplified representation.\n",
    "\n",
    "Boundary Conditions:\n",
    "- Simulate blood flow using MHD principles.\n",
    "- Introduce drug-carrying particles with specified initial conditions.\n",
    "- Apply external magnetic fields to guide particles.\n",
    "\n",
    "Initial Conditions:\n",
    "- Set up an initial blood flow profile.\n",
    "- Inject drug-carrying particles into the bloodstream.\n",
    "\n"
   ]
  }
 ],
 "metadata": {},
 "nbformat": 4,
 "nbformat_minor": 5
}
