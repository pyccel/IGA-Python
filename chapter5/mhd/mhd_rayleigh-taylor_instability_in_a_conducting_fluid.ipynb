{
 "cells": [
  {
   "cell_type": "markdown",
   "id": "f6345c71",
   "metadata": {},
   "source": [
    "# MHD Rayleigh-Taylor Instability in a Conducting Fluid\n",
    "\n",
    "Investigate the stability of a conducting fluid layer subjected to a magnetic field, where the gravitational force acts opposite to the magnetic force, leading to the Rayleigh-Taylor instability.\n",
    "\n",
    "## Mathematical Model\n",
    "\n",
    "1. MHD Equations:\n",
    "\n",
    "$$\n",
    "   \\begin{align*}\n",
    "   \\frac{\\partial \\rho}{\\partial t} + \\nabla \\cdot (\\rho \\mathbf{v}) &= 0 \\\\\n",
    "   \\rho \\frac{D\\mathbf{v}}{Dt} &= -\\nabla p + \\rho \\mathbf{g} + \\nabla \\cdot \\boldsymbol{\\tau} + \\mathbf{J} \\times \\mathbf{B} \\\\\n",
    "   \\frac{\\partial \\mathbf{B}}{\\partial t} &= \\nabla \\times (\\mathbf{v} \\times \\mathbf{B} - \\eta \\nabla \\times \\mathbf{B}) \\\\\n",
    "   \\mathbf{J} &= \\sigma (\\mathbf{E} + \\mathbf{v} \\times \\mathbf{B}) \\\\\n",
    "   \\rho C_p \\frac{DT}{Dt} &= -p \\nabla \\cdot \\mathbf{v} + \\nabla \\cdot (k \\nabla T) + \\frac{1}{\\sigma}(\\mathbf{J} \\cdot \\mathbf{E})\n",
    "   \\end{align*}\n",
    "$$\n",
    "\n",
    "2. Initial and Boundary Conditions:\n",
    "\n",
    "- Initial condition: $\\rho(\\mathbf{x},0) = \\rho_0, \\mathbf{v}(\\mathbf{x},0) = \\mathbf{0}, \\mathbf{B}(\\mathbf{x},0) = \\mathbf{B}_0, T(\\mathbf{x},0) = T_0$\n",
    "- Boundary conditions: Appropriate conditions on $\\mathbf{v}, \\mathbf{B}, T$ at the fluid interfaces.\n",
    "\n"
   ]
  }
 ],
 "metadata": {},
 "nbformat": 4,
 "nbformat_minor": 5
}
