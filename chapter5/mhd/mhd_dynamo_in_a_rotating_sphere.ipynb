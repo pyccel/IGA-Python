{
 "cells": [
  {
   "cell_type": "markdown",
   "id": "4d7906a1",
   "metadata": {},
   "source": [
    "# MHD Dynamo in a Rotating Sphere\n",
    "\n",
    "Domain:\n",
    "Represent a rotating spherical fluid domain.\n",
    "\n",
    "Boundary Conditions:\n",
    "- No-slip conditions at the sphere's surface.\n",
    "- Allow for radial outflow.\n",
    "\n",
    "Initial Conditions:\n",
    "- Seed magnetic field and fluid velocity.\n",
    "\n",
    "Dynamo Term:\n",
    "- Incorporate a rotation-induced dynamo term.\n",
    "\n"
   ]
  }
 ],
 "metadata": {},
 "nbformat": 4,
 "nbformat_minor": 5
}
