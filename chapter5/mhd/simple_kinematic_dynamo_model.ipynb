{
 "cells": [
  {
   "cell_type": "markdown",
   "id": "7862dd84",
   "metadata": {},
   "source": [
    "# Simple Kinematic Dynamo Model\n",
    "\n",
    "Domain:\n",
    "Consider a 2D or 3D periodic domain.\n",
    "\n",
    "Boundary Conditions:\n",
    "- Periodic boundaries.\n",
    "\n",
    "Initial Conditions:\n",
    "- Small seed magnetic field perturbation.\n",
    "- Initially stationary fluid.\n",
    "\n",
    "Dynamo Term:\n",
    "- Choose a constant $\\alpha$ to represent the dynamo term.\n",
    "\n"
   ]
  }
 ],
 "metadata": {},
 "nbformat": 4,
 "nbformat_minor": 5
}
