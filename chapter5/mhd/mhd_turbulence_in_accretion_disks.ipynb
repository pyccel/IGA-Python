{
 "cells": [
  {
   "cell_type": "markdown",
   "id": "571e6c81",
   "metadata": {},
   "source": [
    "# MHD Turbulence in Accretion Disks\n",
    "\n",
    "Study MHD turbulence in accretion disks around astrophysical objects, where magnetized flows lead to complex dynamics influencing mass accretion onto central objects.\n",
    "\n",
    "## Mathematical Model\n",
    "\n",
    "1. MHD Equations:\n",
    "\n",
    "$$\n",
    "   \\begin{align*}\n",
    "   \\frac{\\partial \\rho}{\\partial t} + \\nabla \\cdot (\\rho \\mathbf{v}) &= 0 \\\\\n",
    "   \\rho \\frac{D\\mathbf{v}}{Dt} &= -\\nabla p + \\rho \\mathbf{g} + \\nabla \\cdot \\boldsymbol{\\tau} + \\mathbf{J} \\times \\mathbf{B} + \\nu \\nabla^2 \\mathbf{v} \\\\\n",
    "   \\frac{\\partial \\mathbf{B}}{\\partial t} &= \\nabla \\times (\\mathbf{v} \\times \\mathbf{B} - \\eta \\nabla \\times \\mathbf{B}) \\\\\n",
    "   \\mathbf{J} &= \\sigma (\\mathbf{E} + \\mathbf{v} \\times \\mathbf{B}) \\\\\n",
    "   \\rho C_p \\frac{DT}{Dt} &= -p \\nabla \\cdot \\mathbf{v} + \\nabla \\cdot (k \\nabla T) + \\frac{1}{\\sigma}(\\mathbf{J} \\cdot \\mathbf{E})\n",
    "   \\end{align*}\n",
    "$$\n",
    "\n",
    "2. Initial and Boundary Conditions:\n",
    "- Initial condition: Conditions representing the initial state of the accretion disk.\n",
    "- Boundary conditions: Specify conditions at the inner and outer edges of the accretion disk."
   ]
  }
 ],
 "metadata": {},
 "nbformat": 4,
 "nbformat_minor": 5
}
