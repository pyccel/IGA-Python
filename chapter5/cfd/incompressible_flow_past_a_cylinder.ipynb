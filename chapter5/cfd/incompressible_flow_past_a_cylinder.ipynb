{
 "cells": [
  {
   "cell_type": "markdown",
   "id": "0b948ce3",
   "metadata": {},
   "source": [
    "# Incompressible Flow Past a Cylinder\n",
    "\n",
    "## Mathematical Model:\n",
    "\n",
    "Consider the steady, incompressible Navier-Stokes equations for fluid flow around a cylinder:\n",
    "\n",
    "$$\n",
    "\\begin{align}\n",
    "\\rho (\\mathbf{v} \\cdot \\nabla) \\mathbf{v} &= -\\nabla p + \\mu \\nabla^2 \\mathbf{v} + \\rho \\mathbf{g} \\\\\n",
    "\\nabla \\cdot \\mathbf{v} &= 0\n",
    "\\end{align}\n",
    "$$\n",
    "\n",
    "### Boundary Conditions\n",
    "\n",
    "- Inlet: $\\mathbf{v} = (U, 0)$ (uniform velocity).\n",
    "- Outlet: $\\frac{\\partial \\mathbf{v}}{\\partial x} = 0$ (zero gradient).\n",
    "- Cylinder surface: $\\mathbf{v} \\cdot \\mathbf{n} = 0$ (no-slip condition).\n",
    "\n",
    "### Initial Conditions\n",
    "\n",
    "Assume a quiescent fluid, i.e., $\\mathbf{v} = (0, 0)$ at $t = 0$.\n",
    "\n",
    "### Weak Formulation\n",
    "\n",
    "Find $\\mathbf{v} \\in H_0^1(\\Omega)$ and $p \\in L^2(\\Omega)$ such that:\n",
    "\n",
    "$$\n",
    "\\begin{align}\n",
    "\\int_{\\Omega} \\rho (\\mathbf{v} \\cdot \\nabla) \\mathbf{v} \\cdot \\mathbf{w} \\, d\\Omega & = -\\int_{\\Omega} p \\nabla \\cdot \\mathbf{w} \\, d\\Omega + \\mu \\int_{\\Omega} \\nabla \\mathbf{v} : \\nabla \\mathbf{w} \\, d\\Omega + \\int_{\\Omega} \\rho \\mathbf{g} \\cdot \\mathbf{w} \\, d\\Omega \\\\\n",
    "\\int_{\\Omega} \\nabla \\cdot \\mathbf{v} q \\, d\\Omega & = 0\n",
    "\\end{align}\n",
    "$$\n",
    "\n",
    "where $\\mathbf{w} \\in H_0^1(\\Omega)$ and $q \\in L^2(\\Omega)$."
   ]
  }
 ],
 "metadata": {},
 "nbformat": 4,
 "nbformat_minor": 5
}
