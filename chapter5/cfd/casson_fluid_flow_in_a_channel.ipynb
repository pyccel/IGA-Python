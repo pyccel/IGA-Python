{
 "cells": [
  {
   "cell_type": "markdown",
   "id": "e9f1cb0e",
   "metadata": {},
   "source": [
    "# Casson Fluid Flow in a Channel\n",
    "\n",
    "## Mathematical Model\n",
    "\n",
    "Consider the Casson model for non-Newtonian fluids:\n",
    "\n",
    "$$\n",
    "\\begin{align}\n",
    "\\sigma_{ij} &= -p\\delta_{ij} + \\sqrt{\\frac{\\tau_0}{\\rho}}\\sqrt{\\frac{\\tau_0}{\\rho} + \\frac{1}{2}\\rho\\left(\\frac{\\partial u_i}{\\partial x_j} + \\frac{\\partial u_j}{\\partial x_i}\\right)^2} \\\\\n",
    "\\end{align}\n",
    "$$\n",
    "\n",
    "where $\\sigma_{ij}$ is the stress tensor, $p$ is the pressure, $\\rho$ is the density, $u_i$ is the velocity, and $\\tau_0$ is the yield stress.\n",
    "\n",
    "### Boundary Conditions\n",
    "\n",
    "- Inlet and outlet: Specify velocity or pressure conditions.\n",
    "- Channel walls: No-slip conditions.\n",
    "\n",
    "### Initial Conditions\n",
    "Start with an initial guess for velocity and pressure.\n",
    "\n",
    "## Weak Formulation\n",
    "\n",
    "Find $u_i \\in H_0^1(\\Omega)$ and $p \\in L^2(\\Omega)$ such that:\n",
    "\n",
    "$$\n",
    "\\begin{align}\n",
    "&\\int_{\\Omega} \\sigma_{ij} \\left(\\frac{\\partial u_i}{\\partial x_j} + \\frac{\\partial u_j}{\\partial x_i}\\right) \\, d\\Omega + \\int_{\\Omega} \\frac{\\partial p}{\\partial x_i}u_i \\, d\\Omega \\\\\n",
    "&= 0\n",
    "\\end{align}\n",
    "$$\n",
    "\n",
    "for all test functions $u_i \\in H_0^1(\\Omega)$."
   ]
  }
 ],
 "metadata": {},
 "nbformat": 4,
 "nbformat_minor": 5
}
