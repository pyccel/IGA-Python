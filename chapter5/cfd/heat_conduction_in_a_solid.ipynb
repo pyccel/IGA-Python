{
 "cells": [
  {
   "cell_type": "markdown",
   "id": "b3466488",
   "metadata": {},
   "source": [
    "# Heat Conduction in a Solid\n",

    "\n",
    "## Mathematical Model\n",
    "\n",
    "Consider the heat conduction equation in a solid domain \\(\\Omega\\):\n",
    "\n",
    "$$\n",
    "\\begin{align}\n",
    "\\rho C_p \\frac{\\partial T}{\\partial t} - \\nabla \\cdot (k \\nabla T) = Q\n",
    "\\end{align}\n",
    "$$\n",
    "\n",
    "### Boundary Conditions\n",
    "\n",
    "- Dirichlet: $T = T_{\\text{inlet}}$ on the inlet face.\n",
    "- Neumann: $-k \\frac{\\partial T}{\\partial n} = 0$ on the outlet face.\n",
    "- Insulated: $-k \\frac{\\partial T}{\\partial n} = 0$ on the lateral faces.\n",
    "\n",
    "### Initial Conditions\n",
    "\n",
    "Assume an initial temperature distribution $T_0(x, y, z)$ at $t = 0$.\n",
    "\n",
    "## Weak Formulation\n",
    "\n",
    "Find $T \\in L^2(\\Omega)$ such that:\n",
    "\n",
    "$$\n",
    "\\begin{align}\n",
    "\\int_{\\Omega} \\rho C_p \\frac{\\partial T}{\\partial t} \\phi \\, d\\Omega + \\int_{\\Omega} k \\nabla T \\cdot \\nabla \\phi \\, d\\Omega = \\int_{\\Omega} Q \\phi \\, d\\Omega\n",
    "\\end{align}\n",
    "$$\n",
    "\n",
    "for all test functions $\\phi \\in H_0^1(\\Omega)$.\n",
    "\n"
   ]
  },
  {
   "cell_type": "code",
   "execution_count": null,
   "id": "55ba709f",
   "metadata": {},
   "outputs": [],
   "source": []
  }
 ],
 "metadata": {
  "kernelspec": {
   "display_name": "Python 3 (ipykernel)",
   "language": "python",
   "name": "python3"
  },
  "language_info": {
   "codemirror_mode": {
    "name": "ipython",
    "version": 3
   },
   "file_extension": ".py",
   "mimetype": "text/x-python",
   "name": "python",
   "nbconvert_exporter": "python",
   "pygments_lexer": "ipython3"
  }
 },
 "nbformat": 4,
 "nbformat_minor": 5
}
