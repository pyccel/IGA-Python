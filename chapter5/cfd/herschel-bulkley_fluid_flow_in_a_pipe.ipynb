{
 "cells": [
  {
   "cell_type": "markdown",
   "id": "a0c1f909",
   "metadata": {},
   "source": [
    "# Herschel-Bulkley Fluid Flow in a Pipe\n",

    "\n",
    "## Mathematical Model\n",
    "\n",
    "Consider the Herschel-Bulkley model for non-Newtonian fluids with yield stress:\n",
    "\n",
    "$$\n",
    "\\begin{align}\n",
    "\\frac{\\partial u}{\\partial t} + u\\frac{\\partial u}{\\partial x} &= -\\frac{1}{\\rho}\\frac{\\partial p}{\\partial x} + \\frac{\\tau_0}{\\rho}\\left(\\frac{\\partial u}{\\partial x}\\right)^{n-1} \\\\\n",
    "\\end{align}\n",
    "$$\n",
    "\n",
    "where $u$ is the velocity, $p$ is the pressure, $\\rho$ is the density, $\\tau_0$ is the yield stress, and $n$ is the flow behavior index.\n",
    "\n",
    "### Boundary Conditions\n",
    "\n",
    "- Inlet: Specify velocity or pressure conditions.\n",
    "\n",
    "- Outlet: Specify outflow conditions.\n",
    "\n",
    "- Pipe walls: No-slip conditions.\n",
    "\n",
    "### Initial Conditions\n",
    "\n",
    "Specify initial conditions for velocity and pressure.\n",
    "\n",
    "## Weak Formulation\n",
    "\n",
    "Find $u \\in H_0^1(\\Omega)$ and $p \\in L^2(\\Omega)$ such that:\n",
    "\n",
    "$$\n",
    "\\begin{align}\n",
    "&\\int_{\\Omega} \\frac{\\partial u}{\\partial t}v \\, d\\Omega + \\int_{\\Omega} u\\frac{\\partial u}{\\partial x}v \\, d\\Omega + \\int_{\\Omega} \\frac{1}{\\rho}\\frac{\\partial p}{\\partial x}v \\, d\\Omega \\\\\n",
    "&+ \\int_{\\Omega} \\frac{\\tau_0}{\\rho}\\left(\\frac{\\partial u}{\\partial x}\\right)^{n-1}v \\, d\\Omega \\\\\n",
    "&= 0\n",
    "\\end{align}\n",
    "$$\n",
    "\n",
    "for all test functions $v \\in H_0^1(\\Omega)$."
   ]
  },
  {
   "cell_type": "code",
   "execution_count": null,
   "id": "1f098463",
   "metadata": {},
   "outputs": [],
   "source": []
  }
 ],
 "metadata": {
  "kernelspec": {
   "display_name": "Python 3 (ipykernel)",
   "language": "python",
   "name": "python3"
  },
  "language_info": {
   "codemirror_mode": {
    "name": "ipython",
    "version": 3
   },
   "file_extension": ".py",
   "mimetype": "text/x-python",
   "name": "python",
   "nbconvert_exporter": "python",
   "pygments_lexer": "ipython3"
  }
 },
 "nbformat": 4,
 "nbformat_minor": 5
}
